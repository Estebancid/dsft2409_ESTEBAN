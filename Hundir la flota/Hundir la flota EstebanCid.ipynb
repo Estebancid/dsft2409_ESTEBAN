{
 "cells": [
  {
   "cell_type": "code",
   "execution_count": 38,
   "metadata": {},
   "outputs": [
    {
     "name": "stdout",
     "output_type": "stream",
     "text": [
      "[['_', '_', '_', '_', '_', '_', '_', '_', '_', '_'],\n",
      " ['_', '_', '_', '_', 'B', 'B', 'B', '_', '_', 'B'],\n",
      " ['B', '_', '_', '_', '_', '_', '_', '_', '_', '_'],\n",
      " ['_', '_', '_', 'B', 'B', '_', '_', '_', '_', '_'],\n",
      " ['_', '_', '_', 'B', 'B', 'B', '_', '_', '_', '_'],\n",
      " ['_', '_', '_', 'B', '_', 'B', 'B', 'B', 'B', '_'],\n",
      " ['_', '_', '_', '_', 'B', '_', '_', '_', '_', '_'],\n",
      " ['_', '_', '_', '_', 'B', 'B', '_', '_', 'B', 'B'],\n",
      " ['_', '_', '_', '_', '_', '_', '_', '_', '_', '_'],\n",
      " ['_', '_', '_', '_', '_', '_', '_', '_', '_', '_']]\n",
      "El tablero con tus barcos:\n",
      "[['_', '_', '_', '_', '_', '_', '_', '_', '_', '_'],\n",
      " ['_', '_', '_', '_', '_', '_', '_', '_', 'B', '_'],\n",
      " ['_', '_', '_', '_', '_', '_', '_', '_', '_', '_'],\n",
      " ['_', 'B', '_', 'B', 'B', 'B', 'B', 'B', '_', '_'],\n",
      " ['_', '_', '_', '_', '_', '_', 'B', 'B', 'B', 'B'],\n",
      " ['_', '_', '_', '_', '_', '_', '_', 'B', 'B', 'B'],\n",
      " ['_', '_', '_', '_', '_', '_', '_', '_', '_', 'B'],\n",
      " ['_', '_', '_', '_', '_', '_', '_', '_', '_', '_'],\n",
      " ['_', 'B', 'B', '_', '_', '_', '_', '_', '_', '_'],\n",
      " ['_', '_', '_', 'B', 'B', '_', '_', '_', '_', '_']]\n",
      "RONDA 0\n"
     ]
    },
    {
     "ename": "ValueError",
     "evalue": "invalid literal for int() with base 10: ''",
     "output_type": "error",
     "traceback": [
      "\u001b[0;31m---------------------------------------------------------------------------\u001b[0m",
      "\u001b[0;31mValueError\u001b[0m                                Traceback (most recent call last)",
      "Cell \u001b[0;32mIn[38], line 96\u001b[0m\n\u001b[1;32m     94\u001b[0m \u001b[38;5;28;01mwhile\u001b[39;00m \u001b[38;5;129;01mnot\u001b[39;00m fin_juego:\n\u001b[1;32m     95\u001b[0m     \u001b[38;5;28mprint\u001b[39m(\u001b[38;5;124mf\u001b[39m\u001b[38;5;124m'\u001b[39m\u001b[38;5;124mRONDA \u001b[39m\u001b[38;5;132;01m{\u001b[39;00mronda\u001b[38;5;132;01m}\u001b[39;00m\u001b[38;5;124m'\u001b[39m)\n\u001b[0;32m---> 96\u001b[0m     disparo_jugador \u001b[38;5;241m=\u001b[39m \u001b[43mdisparo\u001b[49m\u001b[43m(\u001b[49m\u001b[43mtablero_maquina\u001b[49m\u001b[43m,\u001b[49m\u001b[43m \u001b[49m\u001b[43mdisparos_jugador\u001b[49m\u001b[43m)\u001b[49m\n\u001b[1;32m     97\u001b[0m     disparo_maquina \u001b[38;5;241m=\u001b[39m disparo(tablero_jugador, disparos_maquina)\n\u001b[1;32m     98\u001b[0m     ronda \u001b[38;5;241m=\u001b[39m ronda \u001b[38;5;241m+\u001b[39m \u001b[38;5;241m1\u001b[39m\n",
      "Cell \u001b[0;32mIn[38], line 14\u001b[0m, in \u001b[0;36mdisparo\u001b[0;34m(tablero, disparos)\u001b[0m\n\u001b[1;32m     13\u001b[0m \u001b[38;5;28;01mdef\u001b[39;00m \u001b[38;5;21mdisparo\u001b[39m(tablero, disparos):\n\u001b[0;32m---> 14\u001b[0m     x \u001b[38;5;241m=\u001b[39m \u001b[38;5;28;43mint\u001b[39;49m\u001b[43m(\u001b[49m\u001b[38;5;28;43minput\u001b[39;49m\u001b[43m(\u001b[49m\u001b[38;5;124;43m'\u001b[39;49m\u001b[38;5;124;43mIntroduce la coordenada x del disparo: \u001b[39;49m\u001b[38;5;124;43m'\u001b[39;49m\u001b[43m)\u001b[49m\u001b[43m)\u001b[49m\n\u001b[1;32m     15\u001b[0m     y \u001b[38;5;241m=\u001b[39m \u001b[38;5;28mint\u001b[39m(\u001b[38;5;28minput\u001b[39m(\u001b[38;5;124m'\u001b[39m\u001b[38;5;124mIntroduce la coordenada y del disparo: \u001b[39m\u001b[38;5;124m'\u001b[39m))\n\u001b[1;32m     16\u001b[0m     cambio_turno \u001b[38;5;241m=\u001b[39m \u001b[38;5;28;01mFalse\u001b[39;00m\n",
      "\u001b[0;31mValueError\u001b[0m: invalid literal for int() with base 10: ''"
     ]
    }
   ],
   "source": [
    "import random\n",
    "import pprint\n",
    "\n",
    "def crea_tablero(casillas = 10):\n",
    "    '''\n",
    "    Crea un tablero vacío del número de filas indicado (por defecto 10)\n",
    "    '''\n",
    "    fila = ['_' for _ in range(10)]\n",
    "    fila\n",
    "    tablero =[fila.copy() for _ in range(10)]  \n",
    "    return tablero\n",
    "\n",
    "def disparo(tablero, disparos):\n",
    "    x = int(input('Introduce la coordenada x del disparo: '))\n",
    "    y = int(input('Introduce la coordenada y del disparo: '))\n",
    "    cambio_turno = False\n",
    "    while not cambio_turno:\n",
    "        if tablero[x][y] == '_':\n",
    "            disparos[x][y] = 'O'\n",
    "            print('Disparo fallado')\n",
    "            cambio_turno = True\n",
    "        elif tablero[x][y] == 'B':\n",
    "            disparos[x][y] = 'X'\n",
    "            print('¡Buen disparo! Has acertado en un barco')\n",
    "            cambio_turno = False\n",
    "\n",
    "def espacio_libre(tablero, fila, columna, tamaño, direccion):\n",
    "    if direccion == 'H':\n",
    "        for i in range(tamaño):\n",
    "            if tablero[fila][columna + i] == 'B':\n",
    "                espacio_libre = False\n",
    "                break\n",
    "            else:\n",
    "                espacio_libre = True\n",
    "    if direccion == 'V':\n",
    "        for i in range(tamaño):\n",
    "            if tablero[fila + i][columna] == 'B':\n",
    "                espacio_libre = False\n",
    "                break\n",
    "            else:\n",
    "                espacio_libre = True\n",
    "    return espacio_libre\n",
    "\n",
    "def colocar_barco(tablero, tamaño):\n",
    "    barco_colocado = False\n",
    "    while barco_colocado == False:\n",
    "        direccion = random.choice(['H', 'V'])\n",
    "        if direccion == 'H':\n",
    "            fila = random.randint(0, len(tablero) - 1)\n",
    "            columna = random.randint(0, (len(tablero)) - tamaño)\n",
    "        if direccion == 'V':\n",
    "            fila = random.randint(0, len(tablero) - tamaño)\n",
    "            columna = random.randint(0, len(tablero) - 1)\n",
    "        if espacio_libre(tablero,fila,columna,tamaño, direccion) == True:\n",
    "            for i in range(tamaño):\n",
    "                tablero[fila][columna + i] = 'B'\n",
    "                barco_colocado = True\n",
    "    \n",
    "   \n",
    "\n",
    "            \n",
    "\n",
    "\n",
    "# Programa principal\n",
    "tablero_jugador = crea_tablero()\n",
    "tablero_maquina = crea_tablero()\n",
    "disparos_jugador = crea_tablero()\n",
    "disparos_maquina = crea_tablero()\n",
    "\n",
    "# Se colocan aleatoriamente los barcos en el tablero de la máquina\n",
    "colocar_barco(tablero_maquina, 4)\n",
    "for i in range(2):\n",
    "    colocar_barco(tablero_maquina, 3)\n",
    "for i in range(3):\n",
    "    colocar_barco(tablero_maquina, 2)\n",
    "for i in range(4):\n",
    "    colocar_barco(tablero_maquina, 1) \n",
    "pprint.pprint(tablero_maquina)  \n",
    "\n",
    "# Se colocan aleatoriamente los barcos en el tablero del jugador\n",
    "colocar_barco(tablero_jugador, 4)\n",
    "for i in range(2):\n",
    "    colocar_barco(tablero_jugador, 3)\n",
    "for i in range(3):\n",
    "    colocar_barco(tablero_jugador, 2)\n",
    "for i in range(4):\n",
    "    colocar_barco(tablero_jugador, 1) \n",
    "print('El tablero con tus barcos:')  \n",
    "pprint.pprint(tablero_jugador)\n",
    "\n",
    "\n",
    "fin_juego = False\n",
    "ronda = 0\n",
    "while not fin_juego:\n",
    "    print(f'RONDA {ronda}')\n",
    "    disparo_jugador = disparo(tablero_maquina, disparos_jugador)\n",
    "    disparo_maquina = disparo(tablero_jugador, disparos_maquina)\n",
    "    ronda = ronda + 1\n",
    "\n",
    "\n"
   ]
  },
  {
   "cell_type": "code",
   "execution_count": 30,
   "metadata": {},
   "outputs": [
    {
     "data": {
      "text/plain": [
       "6"
      ]
     },
     "execution_count": 30,
     "metadata": {},
     "output_type": "execute_result"
    }
   ],
   "source": [
    "fil =['-','-','-','-','-','-']\n",
    "\n",
    "tamano = 5\n",
    "for i in range(tamano):\n",
    "    fil[i] = 'X'\n",
    "\n",
    "fil\n",
    "len(fil)"
   ]
  },
  {
   "cell_type": "code",
   "execution_count": null,
   "metadata": {},
   "outputs": [],
   "source": []
  }
 ],
 "metadata": {
  "kernelspec": {
   "display_name": "Python 3",
   "language": "python",
   "name": "python3"
  },
  "language_info": {
   "codemirror_mode": {
    "name": "ipython",
    "version": 3
   },
   "file_extension": ".py",
   "mimetype": "text/x-python",
   "name": "python",
   "nbconvert_exporter": "python",
   "pygments_lexer": "ipython3",
   "version": "3.9.6"
  }
 },
 "nbformat": 4,
 "nbformat_minor": 2
}
