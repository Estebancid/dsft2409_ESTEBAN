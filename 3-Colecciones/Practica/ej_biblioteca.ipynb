{
 "cells": [
  {
   "cell_type": "markdown",
   "metadata": {},
   "source": [
    "### Ejercicio Biblioteca\n",
    "1. Iniciar una biblioteca con 3 libros, para cada uno de ellos: título, autor y año\n",
    "2. Hacer un menú de usuario con las siguientes opciones:\n",
    "    - Imprimir biblioteca\n",
    "    - Buscar libro por título e imprimir su información\n",
    "    - Añadir libro: el usuario tiene que meter la informacion mediante input(titulo, autor, año)\n",
    "    - Eliminar libro: Borrar el libro(buscado por autor) de la biblioteca\n"
   ]
  },
  {
   "cell_type": "code",
   "execution_count": 15,
   "metadata": {},
   "outputs": [
    {
     "data": {
      "text/plain": [
       "[{'título': 'El Padrino', 'autor': 'Mario Puzo', 'año': 1969},\n",
       " {'título': 'Hábitos Atómicos', 'autor': 'James Clear', 'año': 2020},\n",
       " {'título': 'Extraños en un tren', 'autor': 'Patricia Highsmith', 'año': 1951}]"
      ]
     },
     "execution_count": 15,
     "metadata": {},
     "output_type": "execute_result"
    }
   ],
   "source": [
    "# Creamos una biblioteca con 3 libros inicialmente\n",
    "libro1 = {'título': 'El Padrino',\n",
    "          'autor': 'Mario Puzo',\n",
    "          'año': 1969}\n",
    "libro2 = {'título': 'Hábitos Atómicos',\n",
    "          'autor': 'James Clear',\n",
    "          'año': 2020}\n",
    "libro3 = {'título': 'Extraños en un tren',\n",
    "          'autor': 'Patricia Highsmith',\n",
    "          'año': 1951}\n",
    "\n",
    "biblioteca = [libro1,libro2,libro3]\n",
    "biblioteca"
   ]
  },
  {
   "cell_type": "code",
   "execution_count": 16,
   "metadata": {},
   "outputs": [
    {
     "name": "stdout",
     "output_type": "stream",
     "text": [
      "\n",
      "Salir de la biblioteca\n"
     ]
    }
   ],
   "source": [
    "import pprint\n",
    "\n",
    "# Creamos el menú y el bucle para que el menú siga activo mientras el usuario no indique salir\n",
    "cerrar_biblioteca = False\n",
    "while cerrar_biblioteca == False:\n",
    "    accion_txt = input('Marca el número de la acción que quieras realizar:\\n'\n",
    "                '1. Imprimir biblioteca\\n'\n",
    "                '2. Buscar libro por título\\n'\n",
    "                '3. Añadir un libro\\n'\n",
    "                '4. Eliminar un libro\\n'\n",
    "                '5. Salir de la biblioteca')\n",
    "    accion = int(accion_txt)\n",
    "    print()\n",
    "\n",
    "    # Definimos cada una de las opciones del menú\n",
    "    # Acción 1. Imprimir biblioteca\n",
    "    if accion == 1:\n",
    "        pprint.pprint(biblioteca)\n",
    "\n",
    "    # Acción 2. Buscar libro por título\n",
    "    elif accion == 2:\n",
    "        title_search = input(\"Escribe el título del libro que quieres buscar\")\n",
    "        encontrado = False\n",
    "        for i in range(len(biblioteca)):\n",
    "            if biblioteca[i]['título'].lower() == title_search.lower():\n",
    "                print('Título encontrado')\n",
    "                print(biblioteca[i])\n",
    "                encontrado = True\n",
    "        if encontrado == False:\n",
    "            print('No se ha encontrado ningún libro con ese título')\n",
    "\n",
    "    # Acción 3. Añadir nuevo libro a la biblioteca\n",
    "    elif accion == 3:\n",
    "        new_title = input('Introduce el título del libro que quieres añadir')\n",
    "        new_author = input('introduce el autor del libro que quieres añadir')\n",
    "        new_year = input('Introduce el año del nuevo libro que quieres añadir')\n",
    "        new_book = {'título': new_title,\n",
    "            'autor': new_author,\n",
    "            'año': new_year}\n",
    "        biblioteca.append(new_book)\n",
    "        print('Añadido a la biblioteca el libro', new_title)\n",
    "        print(biblioteca)\n",
    "\n",
    "    #Acción 4. Eliminar un libro de la biblioteca\n",
    "    elif accion == 4:\n",
    "        autor_borrar = input('elige un autor para borrar su libro')\n",
    "        libros_del_autor = 0\n",
    "        for i in range(len(biblioteca)):\n",
    "            if biblioteca[i]['autor'].lower() == autor_borrar.lower():\n",
    "                libro_borrar = biblioteca[i]\n",
    "                indice_borrar = i\n",
    "                libros_del_autor = libros_del_autor + 1\n",
    "        if libros_del_autor == 0:\n",
    "            print('No se ha encontrado ningún libro del autor', autor_borrar)\n",
    "        elif libros_del_autor == 1:\n",
    "            print(f'Del autor {autor_borrar} se ha encontrado el siguiente libro:')\n",
    "            print(libro_borrar)\n",
    "            confirm_borrar = input(f\"¿Seguro que quieres borrar el libro {libro_borrar['título']}?(Sí/No)\")\n",
    "            if confirm_borrar.lower() == 'sí' or 'si':\n",
    "                biblioteca.pop(indice_borrar)\n",
    "                print('Libro borrado')\n",
    "                pprint.pprint(biblioteca)\n",
    "            else:\n",
    "                print('Acción cancelada. No se borrará ningún libro')\n",
    "        else:\n",
    "            print('Se encontraron varios libros de ese autor en la biblioteca. Busca por título')\n",
    "            title_search = input(\"Escribe el título del libro que quieres borrar\")\n",
    "            encontrado = False\n",
    "            for i in range(len(biblioteca)):\n",
    "                if biblioteca[i]['título'].lower() == title_search.lower():\n",
    "                    print('Título encontrado')\n",
    "                    print(biblioteca[i])\n",
    "                    indice_borrar = i\n",
    "                    conf_borrar = input('¿Desea borrar el libro', title_search, '?(Sí/No)')\n",
    "                    if conf_borrar.lower() == 'sí' or 'si':\n",
    "                        biblioteca.pop(indice_borrar)\n",
    "                        print('Libro borrado')\n",
    "                        pprint.pprint(biblioteca)\n",
    "            else:\n",
    "                print('Acción cancelada. No se borrará ningún libro')\n",
    "\n",
    "            if encontrado == False:\n",
    "                print('No se ha encontrado ningún libro con ese título')\n",
    "\n",
    "    # Acción 5. Salir de la biblioteca\n",
    "    elif accion == 5:\n",
    "        print('Salir de la biblioteca')\n",
    "        cerrar_biblioteca = True            \n",
    "    else: \n",
    "        print('Numero incorrecto')          \n",
    "        \n",
    "\n",
    "\n"
   ]
  },
  {
   "cell_type": "code",
   "execution_count": null,
   "metadata": {},
   "outputs": [],
   "source": []
  }
 ],
 "metadata": {
  "kernelspec": {
   "display_name": "Python 3",
   "language": "python",
   "name": "python3"
  },
  "language_info": {
   "codemirror_mode": {
    "name": "ipython",
    "version": 3
   },
   "file_extension": ".py",
   "mimetype": "text/x-python",
   "name": "python",
   "nbconvert_exporter": "python",
   "pygments_lexer": "ipython3",
   "version": "3.9.6"
  }
 },
 "nbformat": 4,
 "nbformat_minor": 2
}
