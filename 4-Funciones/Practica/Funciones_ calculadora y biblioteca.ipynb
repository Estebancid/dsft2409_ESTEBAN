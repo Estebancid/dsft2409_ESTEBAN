{
 "cells": [
  {
   "cell_type": "markdown",
   "metadata": {},
   "source": [
    "## Ejercicio\n",
    "#### Dos opciones:\n",
    "1. Crear una calculadora usando funciones.\n",
    "2. Crear una biblioteca usando funciones."
   ]
  },
  {
   "cell_type": "markdown",
   "metadata": {},
   "source": [
    "### Calculadora"
   ]
  },
  {
   "cell_type": "code",
   "execution_count": 16,
   "metadata": {},
   "outputs": [],
   "source": [
    "# Se definen las funciones de la calculadora\n",
    "def entrada_correcta():\n",
    "    '''\n",
    "    Solicita un número y asegura que se introduce el tipo de dato correcto\n",
    "    '''\n",
    "    num1 = None\n",
    "    entrada_correcta = False\n",
    "    while not entrada_correcta:\n",
    "        try:\n",
    "            num1 = float(input('Introduce un número'))\n",
    "            entrada_correcta = True\n",
    "        except Exception as e:\n",
    "            print('Entrada incorrecta')\n",
    "        return num1"
   ]
  },
  {
   "cell_type": "code",
   "execution_count": 18,
   "metadata": {},
   "outputs": [
    {
     "name": "stdout",
     "output_type": "stream",
     "text": [
      "Entrada incorrecta\n"
     ]
    }
   ],
   "source": [
    "num = entrada_correcta()\n",
    "num\n"
   ]
  },
  {
   "cell_type": "code",
   "execution_count": null,
   "metadata": {},
   "outputs": [],
   "source": []
  }
 ],
 "metadata": {
  "kernelspec": {
   "display_name": "Python 3",
   "language": "python",
   "name": "python3"
  },
  "language_info": {
   "codemirror_mode": {
    "name": "ipython",
    "version": 3
   },
   "file_extension": ".py",
   "mimetype": "text/x-python",
   "name": "python",
   "nbconvert_exporter": "python",
   "pygments_lexer": "ipython3",
   "version": "3.9.6"
  }
 },
 "nbformat": 4,
 "nbformat_minor": 2
}
