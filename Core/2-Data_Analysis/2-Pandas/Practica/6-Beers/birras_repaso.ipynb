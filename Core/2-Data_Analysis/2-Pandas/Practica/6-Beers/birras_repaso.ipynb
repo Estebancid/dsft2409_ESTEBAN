{
 "cells": [
  {
   "attachments": {},
   "cell_type": "markdown",
   "metadata": {},
   "source": [
    "![imagen](https://cdn.foodbeast.com/content/wp-content/uploads/2012/03/beer-print-01-selectism.jpg)\n",
    "\n",
    "# Ejercicio pandas estadística\n",
    "Para este ejercicio se ha utilizado [un dataset de un concurso de kaggle](https://www.kaggle.com/nickhould/craft-cans), cuyo reto consiste en predecir el tipo de cerveza en función de sus características (nivel de alcohol, amargura, tamaño...).\n",
    "\n",
    "# Ejercicio 1\n",
    "Importa las librerias que consideres"
   ]
  },
  {
   "cell_type": "code",
   "execution_count": 126,
   "metadata": {},
   "outputs": [],
   "source": [
    "import numpy as np\n",
    "import pandas as pd"
   ]
  },
  {
   "attachments": {},
   "cell_type": "markdown",
   "metadata": {},
   "source": [
    "## Ejercicio 2\n",
    "1. Importa el dataset \"datasets_beer.csv\"\n",
    "2. Imprime por pantalla los primeros registros.\n",
    "3. ¿Cuáles son sus columnas?\n",
    "4. ¿Qué dimensiones tiene el DataFrame?"
   ]
  },
  {
   "cell_type": "code",
   "execution_count": 127,
   "metadata": {},
   "outputs": [
    {
     "data": {
      "text/html": [
       "<div>\n",
       "<style scoped>\n",
       "    .dataframe tbody tr th:only-of-type {\n",
       "        vertical-align: middle;\n",
       "    }\n",
       "\n",
       "    .dataframe tbody tr th {\n",
       "        vertical-align: top;\n",
       "    }\n",
       "\n",
       "    .dataframe thead th {\n",
       "        text-align: right;\n",
       "    }\n",
       "</style>\n",
       "<table border=\"1\" class=\"dataframe\">\n",
       "  <thead>\n",
       "    <tr style=\"text-align: right;\">\n",
       "      <th></th>\n",
       "      <th>Unnamed: 0</th>\n",
       "      <th>abv</th>\n",
       "      <th>ibu</th>\n",
       "      <th>id</th>\n",
       "      <th>name</th>\n",
       "      <th>style</th>\n",
       "      <th>brewery_id</th>\n",
       "      <th>ounces</th>\n",
       "    </tr>\n",
       "  </thead>\n",
       "  <tbody>\n",
       "    <tr>\n",
       "      <th>0</th>\n",
       "      <td>0</td>\n",
       "      <td>0.050</td>\n",
       "      <td>NaN</td>\n",
       "      <td>1436</td>\n",
       "      <td>Pub Beer</td>\n",
       "      <td>American Pale Lager</td>\n",
       "      <td>408</td>\n",
       "      <td>12.0</td>\n",
       "    </tr>\n",
       "    <tr>\n",
       "      <th>1</th>\n",
       "      <td>1</td>\n",
       "      <td>0.066</td>\n",
       "      <td>NaN</td>\n",
       "      <td>2265</td>\n",
       "      <td>Devil's Cup</td>\n",
       "      <td>American Pale Ale (APA)</td>\n",
       "      <td>177</td>\n",
       "      <td>12.0</td>\n",
       "    </tr>\n",
       "    <tr>\n",
       "      <th>2</th>\n",
       "      <td>2</td>\n",
       "      <td>0.071</td>\n",
       "      <td>NaN</td>\n",
       "      <td>2264</td>\n",
       "      <td>Rise of the Phoenix</td>\n",
       "      <td>American IPA</td>\n",
       "      <td>177</td>\n",
       "      <td>12.0</td>\n",
       "    </tr>\n",
       "    <tr>\n",
       "      <th>3</th>\n",
       "      <td>3</td>\n",
       "      <td>0.090</td>\n",
       "      <td>NaN</td>\n",
       "      <td>2263</td>\n",
       "      <td>Sinister</td>\n",
       "      <td>American Double / Imperial IPA</td>\n",
       "      <td>177</td>\n",
       "      <td>12.0</td>\n",
       "    </tr>\n",
       "    <tr>\n",
       "      <th>4</th>\n",
       "      <td>4</td>\n",
       "      <td>0.075</td>\n",
       "      <td>NaN</td>\n",
       "      <td>2262</td>\n",
       "      <td>Sex and Candy</td>\n",
       "      <td>American IPA</td>\n",
       "      <td>177</td>\n",
       "      <td>12.0</td>\n",
       "    </tr>\n",
       "    <tr>\n",
       "      <th>...</th>\n",
       "      <td>...</td>\n",
       "      <td>...</td>\n",
       "      <td>...</td>\n",
       "      <td>...</td>\n",
       "      <td>...</td>\n",
       "      <td>...</td>\n",
       "      <td>...</td>\n",
       "      <td>...</td>\n",
       "    </tr>\n",
       "    <tr>\n",
       "      <th>2405</th>\n",
       "      <td>2405</td>\n",
       "      <td>0.067</td>\n",
       "      <td>45.0</td>\n",
       "      <td>928</td>\n",
       "      <td>Belgorado</td>\n",
       "      <td>Belgian IPA</td>\n",
       "      <td>424</td>\n",
       "      <td>12.0</td>\n",
       "    </tr>\n",
       "    <tr>\n",
       "      <th>2406</th>\n",
       "      <td>2406</td>\n",
       "      <td>0.052</td>\n",
       "      <td>NaN</td>\n",
       "      <td>807</td>\n",
       "      <td>Rail Yard Ale</td>\n",
       "      <td>American Amber / Red Ale</td>\n",
       "      <td>424</td>\n",
       "      <td>12.0</td>\n",
       "    </tr>\n",
       "    <tr>\n",
       "      <th>2407</th>\n",
       "      <td>2407</td>\n",
       "      <td>0.055</td>\n",
       "      <td>NaN</td>\n",
       "      <td>620</td>\n",
       "      <td>B3K Black Lager</td>\n",
       "      <td>Schwarzbier</td>\n",
       "      <td>424</td>\n",
       "      <td>12.0</td>\n",
       "    </tr>\n",
       "    <tr>\n",
       "      <th>2408</th>\n",
       "      <td>2408</td>\n",
       "      <td>0.055</td>\n",
       "      <td>40.0</td>\n",
       "      <td>145</td>\n",
       "      <td>Silverback Pale Ale</td>\n",
       "      <td>American Pale Ale (APA)</td>\n",
       "      <td>424</td>\n",
       "      <td>12.0</td>\n",
       "    </tr>\n",
       "    <tr>\n",
       "      <th>2409</th>\n",
       "      <td>2409</td>\n",
       "      <td>0.052</td>\n",
       "      <td>NaN</td>\n",
       "      <td>84</td>\n",
       "      <td>Rail Yard Ale (2009)</td>\n",
       "      <td>American Amber / Red Ale</td>\n",
       "      <td>424</td>\n",
       "      <td>12.0</td>\n",
       "    </tr>\n",
       "  </tbody>\n",
       "</table>\n",
       "<p>2410 rows × 8 columns</p>\n",
       "</div>"
      ],
      "text/plain": [
       "      Unnamed: 0    abv   ibu    id                  name  \\\n",
       "0              0  0.050   NaN  1436              Pub Beer   \n",
       "1              1  0.066   NaN  2265           Devil's Cup   \n",
       "2              2  0.071   NaN  2264   Rise of the Phoenix   \n",
       "3              3  0.090   NaN  2263              Sinister   \n",
       "4              4  0.075   NaN  2262         Sex and Candy   \n",
       "...          ...    ...   ...   ...                   ...   \n",
       "2405        2405  0.067  45.0   928             Belgorado   \n",
       "2406        2406  0.052   NaN   807         Rail Yard Ale   \n",
       "2407        2407  0.055   NaN   620       B3K Black Lager   \n",
       "2408        2408  0.055  40.0   145   Silverback Pale Ale   \n",
       "2409        2409  0.052   NaN    84  Rail Yard Ale (2009)   \n",
       "\n",
       "                               style  brewery_id  ounces  \n",
       "0                American Pale Lager         408    12.0  \n",
       "1            American Pale Ale (APA)         177    12.0  \n",
       "2                       American IPA         177    12.0  \n",
       "3     American Double / Imperial IPA         177    12.0  \n",
       "4                       American IPA         177    12.0  \n",
       "...                              ...         ...     ...  \n",
       "2405                     Belgian IPA         424    12.0  \n",
       "2406        American Amber / Red Ale         424    12.0  \n",
       "2407                     Schwarzbier         424    12.0  \n",
       "2408         American Pale Ale (APA)         424    12.0  \n",
       "2409        American Amber / Red Ale         424    12.0  \n",
       "\n",
       "[2410 rows x 8 columns]"
      ]
     },
     "execution_count": 127,
     "metadata": {},
     "output_type": "execute_result"
    }
   ],
   "source": [
    "df_beer = pd.read_csv(\"./data/datasets_beers.csv\")\n",
    "df_beer"
   ]
  },
  {
   "cell_type": "code",
   "execution_count": 128,
   "metadata": {},
   "outputs": [
    {
     "name": "stdout",
     "output_type": "stream",
     "text": [
      "<class 'pandas.core.frame.DataFrame'>\n",
      "RangeIndex: 2410 entries, 0 to 2409\n",
      "Data columns (total 8 columns):\n",
      " #   Column      Non-Null Count  Dtype  \n",
      "---  ------      --------------  -----  \n",
      " 0   Unnamed: 0  2410 non-null   int64  \n",
      " 1   abv         2348 non-null   float64\n",
      " 2   ibu         1405 non-null   float64\n",
      " 3   id          2410 non-null   int64  \n",
      " 4   name        2410 non-null   object \n",
      " 5   style       2405 non-null   object \n",
      " 6   brewery_id  2410 non-null   int64  \n",
      " 7   ounces      2410 non-null   float64\n",
      "dtypes: float64(3), int64(3), object(2)\n",
      "memory usage: 150.8+ KB\n"
     ]
    }
   ],
   "source": [
    "df_beer.info()"
   ]
  },
  {
   "cell_type": "code",
   "execution_count": 129,
   "metadata": {},
   "outputs": [
    {
     "data": {
      "text/html": [
       "<div>\n",
       "<style scoped>\n",
       "    .dataframe tbody tr th:only-of-type {\n",
       "        vertical-align: middle;\n",
       "    }\n",
       "\n",
       "    .dataframe tbody tr th {\n",
       "        vertical-align: top;\n",
       "    }\n",
       "\n",
       "    .dataframe thead th {\n",
       "        text-align: right;\n",
       "    }\n",
       "</style>\n",
       "<table border=\"1\" class=\"dataframe\">\n",
       "  <thead>\n",
       "    <tr style=\"text-align: right;\">\n",
       "      <th></th>\n",
       "      <th>Unnamed: 0</th>\n",
       "      <th>abv</th>\n",
       "      <th>ibu</th>\n",
       "      <th>id</th>\n",
       "      <th>name</th>\n",
       "      <th>style</th>\n",
       "      <th>brewery_id</th>\n",
       "      <th>ounces</th>\n",
       "    </tr>\n",
       "  </thead>\n",
       "  <tbody>\n",
       "    <tr>\n",
       "      <th>0</th>\n",
       "      <td>0</td>\n",
       "      <td>0.050</td>\n",
       "      <td>NaN</td>\n",
       "      <td>1436</td>\n",
       "      <td>Pub Beer</td>\n",
       "      <td>American Pale Lager</td>\n",
       "      <td>408</td>\n",
       "      <td>12.0</td>\n",
       "    </tr>\n",
       "    <tr>\n",
       "      <th>1</th>\n",
       "      <td>1</td>\n",
       "      <td>0.066</td>\n",
       "      <td>NaN</td>\n",
       "      <td>2265</td>\n",
       "      <td>Devil's Cup</td>\n",
       "      <td>American Pale Ale (APA)</td>\n",
       "      <td>177</td>\n",
       "      <td>12.0</td>\n",
       "    </tr>\n",
       "    <tr>\n",
       "      <th>2</th>\n",
       "      <td>2</td>\n",
       "      <td>0.071</td>\n",
       "      <td>NaN</td>\n",
       "      <td>2264</td>\n",
       "      <td>Rise of the Phoenix</td>\n",
       "      <td>American IPA</td>\n",
       "      <td>177</td>\n",
       "      <td>12.0</td>\n",
       "    </tr>\n",
       "    <tr>\n",
       "      <th>3</th>\n",
       "      <td>3</td>\n",
       "      <td>0.090</td>\n",
       "      <td>NaN</td>\n",
       "      <td>2263</td>\n",
       "      <td>Sinister</td>\n",
       "      <td>American Double / Imperial IPA</td>\n",
       "      <td>177</td>\n",
       "      <td>12.0</td>\n",
       "    </tr>\n",
       "    <tr>\n",
       "      <th>4</th>\n",
       "      <td>4</td>\n",
       "      <td>0.075</td>\n",
       "      <td>NaN</td>\n",
       "      <td>2262</td>\n",
       "      <td>Sex and Candy</td>\n",
       "      <td>American IPA</td>\n",
       "      <td>177</td>\n",
       "      <td>12.0</td>\n",
       "    </tr>\n",
       "  </tbody>\n",
       "</table>\n",
       "</div>"
      ],
      "text/plain": [
       "   Unnamed: 0    abv  ibu    id                 name  \\\n",
       "0           0  0.050  NaN  1436             Pub Beer   \n",
       "1           1  0.066  NaN  2265          Devil's Cup   \n",
       "2           2  0.071  NaN  2264  Rise of the Phoenix   \n",
       "3           3  0.090  NaN  2263             Sinister   \n",
       "4           4  0.075  NaN  2262        Sex and Candy   \n",
       "\n",
       "                            style  brewery_id  ounces  \n",
       "0             American Pale Lager         408    12.0  \n",
       "1         American Pale Ale (APA)         177    12.0  \n",
       "2                    American IPA         177    12.0  \n",
       "3  American Double / Imperial IPA         177    12.0  \n",
       "4                    American IPA         177    12.0  "
      ]
     },
     "execution_count": 129,
     "metadata": {},
     "output_type": "execute_result"
    }
   ],
   "source": [
    "df_beer.head()"
   ]
  },
  {
   "attachments": {},
   "cell_type": "markdown",
   "metadata": {},
   "source": [
    "## Ejercicio 3\n",
    "[Elimina la columna \"Unnamed: 0\"](https://pandas.pydata.org/pandas-docs/stable/reference/api/pandas.DataFrame.drop.html)"
   ]
  },
  {
   "cell_type": "code",
   "execution_count": 130,
   "metadata": {},
   "outputs": [
    {
     "name": "stdout",
     "output_type": "stream",
     "text": [
      "<class 'pandas.core.frame.DataFrame'>\n",
      "RangeIndex: 2410 entries, 0 to 2409\n",
      "Data columns (total 7 columns):\n",
      " #   Column      Non-Null Count  Dtype  \n",
      "---  ------      --------------  -----  \n",
      " 0   abv         2348 non-null   float64\n",
      " 1   ibu         1405 non-null   float64\n",
      " 2   id          2410 non-null   int64  \n",
      " 3   name        2410 non-null   object \n",
      " 4   style       2405 non-null   object \n",
      " 5   brewery_id  2410 non-null   int64  \n",
      " 6   ounces      2410 non-null   float64\n",
      "dtypes: float64(3), int64(2), object(2)\n",
      "memory usage: 131.9+ KB\n"
     ]
    }
   ],
   "source": [
    "df_beer.drop(columns = 'Unnamed: 0', inplace = True)\n",
    "df_beer.info()"
   ]
  },
  {
   "cell_type": "code",
   "execution_count": 131,
   "metadata": {},
   "outputs": [
    {
     "data": {
      "text/plain": [
       "Index(['abv', 'ibu', 'id', 'name', 'style', 'brewery_id', 'ounces'], dtype='object')"
      ]
     },
     "execution_count": 131,
     "metadata": {},
     "output_type": "execute_result"
    }
   ],
   "source": [
    "df_beer.columns"
   ]
  },
  {
   "attachments": {},
   "cell_type": "markdown",
   "metadata": {},
   "source": [
    "## Ejercicio 4\n",
    "¿Cuántas filas y columnas tiene el dataset?"
   ]
  },
  {
   "cell_type": "code",
   "execution_count": 132,
   "metadata": {},
   "outputs": [
    {
     "name": "stdout",
     "output_type": "stream",
     "text": [
      "<class 'pandas.core.frame.DataFrame'>\n",
      "RangeIndex: 2410 entries, 0 to 2409\n",
      "Data columns (total 7 columns):\n",
      " #   Column      Non-Null Count  Dtype  \n",
      "---  ------      --------------  -----  \n",
      " 0   abv         2348 non-null   float64\n",
      " 1   ibu         1405 non-null   float64\n",
      " 2   id          2410 non-null   int64  \n",
      " 3   name        2410 non-null   object \n",
      " 4   style       2405 non-null   object \n",
      " 5   brewery_id  2410 non-null   int64  \n",
      " 6   ounces      2410 non-null   float64\n",
      "dtypes: float64(3), int64(2), object(2)\n",
      "memory usage: 131.9+ KB\n"
     ]
    }
   ],
   "source": [
    "df_beer.info()"
   ]
  },
  {
   "cell_type": "code",
   "execution_count": 133,
   "metadata": {},
   "outputs": [
    {
     "data": {
      "text/plain": [
       "7"
      ]
     },
     "execution_count": 133,
     "metadata": {},
     "output_type": "execute_result"
    }
   ],
   "source": [
    "df_beer.columns.shape[0]        # número de columnas"
   ]
  },
  {
   "cell_type": "code",
   "execution_count": 134,
   "metadata": {},
   "outputs": [
    {
     "data": {
      "text/plain": [
       "2410"
      ]
     },
     "execution_count": 134,
     "metadata": {},
     "output_type": "execute_result"
    }
   ],
   "source": [
    "df_beer.shape[0]        # numero de filas"
   ]
  },
  {
   "attachments": {},
   "cell_type": "markdown",
   "metadata": {},
   "source": [
    "## Ejercicio 5\n",
    "¿De qué tipo son los datos?"
   ]
  },
  {
   "cell_type": "code",
   "execution_count": 135,
   "metadata": {},
   "outputs": [
    {
     "data": {
      "text/plain": [
       "abv           float64\n",
       "ibu           float64\n",
       "id              int64\n",
       "name           object\n",
       "style          object\n",
       "brewery_id      int64\n",
       "ounces        float64\n",
       "dtype: object"
      ]
     },
     "execution_count": 135,
     "metadata": {},
     "output_type": "execute_result"
    }
   ],
   "source": [
    "df_beer.dtypes"
   ]
  },
  {
   "attachments": {},
   "cell_type": "markdown",
   "metadata": {},
   "source": [
    "## Ejercicio 6\n",
    "Obtén en un nuevo DataFrame un resumen con las principales estadísticas de las columnas numéricas: mean, max, count, cuartiles..."
   ]
  },
  {
   "cell_type": "code",
   "execution_count": 136,
   "metadata": {},
   "outputs": [
    {
     "data": {
      "text/html": [
       "<div>\n",
       "<style scoped>\n",
       "    .dataframe tbody tr th:only-of-type {\n",
       "        vertical-align: middle;\n",
       "    }\n",
       "\n",
       "    .dataframe tbody tr th {\n",
       "        vertical-align: top;\n",
       "    }\n",
       "\n",
       "    .dataframe thead th {\n",
       "        text-align: right;\n",
       "    }\n",
       "</style>\n",
       "<table border=\"1\" class=\"dataframe\">\n",
       "  <thead>\n",
       "    <tr style=\"text-align: right;\">\n",
       "      <th></th>\n",
       "      <th>abv</th>\n",
       "      <th>ibu</th>\n",
       "      <th>id</th>\n",
       "      <th>brewery_id</th>\n",
       "      <th>ounces</th>\n",
       "    </tr>\n",
       "  </thead>\n",
       "  <tbody>\n",
       "    <tr>\n",
       "      <th>count</th>\n",
       "      <td>2348.000000</td>\n",
       "      <td>1405.000000</td>\n",
       "      <td>2410.000000</td>\n",
       "      <td>2410.000000</td>\n",
       "      <td>2410.000000</td>\n",
       "    </tr>\n",
       "    <tr>\n",
       "      <th>mean</th>\n",
       "      <td>0.059773</td>\n",
       "      <td>42.713167</td>\n",
       "      <td>1431.113278</td>\n",
       "      <td>231.749793</td>\n",
       "      <td>13.592241</td>\n",
       "    </tr>\n",
       "    <tr>\n",
       "      <th>std</th>\n",
       "      <td>0.013542</td>\n",
       "      <td>25.954066</td>\n",
       "      <td>752.459975</td>\n",
       "      <td>157.685604</td>\n",
       "      <td>2.352204</td>\n",
       "    </tr>\n",
       "    <tr>\n",
       "      <th>min</th>\n",
       "      <td>0.001000</td>\n",
       "      <td>4.000000</td>\n",
       "      <td>1.000000</td>\n",
       "      <td>0.000000</td>\n",
       "      <td>8.400000</td>\n",
       "    </tr>\n",
       "    <tr>\n",
       "      <th>25%</th>\n",
       "      <td>0.050000</td>\n",
       "      <td>21.000000</td>\n",
       "      <td>808.250000</td>\n",
       "      <td>93.000000</td>\n",
       "      <td>12.000000</td>\n",
       "    </tr>\n",
       "    <tr>\n",
       "      <th>50%</th>\n",
       "      <td>0.056000</td>\n",
       "      <td>35.000000</td>\n",
       "      <td>1453.500000</td>\n",
       "      <td>205.000000</td>\n",
       "      <td>12.000000</td>\n",
       "    </tr>\n",
       "    <tr>\n",
       "      <th>75%</th>\n",
       "      <td>0.067000</td>\n",
       "      <td>64.000000</td>\n",
       "      <td>2075.750000</td>\n",
       "      <td>366.000000</td>\n",
       "      <td>16.000000</td>\n",
       "    </tr>\n",
       "    <tr>\n",
       "      <th>max</th>\n",
       "      <td>0.128000</td>\n",
       "      <td>138.000000</td>\n",
       "      <td>2692.000000</td>\n",
       "      <td>557.000000</td>\n",
       "      <td>32.000000</td>\n",
       "    </tr>\n",
       "  </tbody>\n",
       "</table>\n",
       "</div>"
      ],
      "text/plain": [
       "               abv          ibu           id   brewery_id       ounces\n",
       "count  2348.000000  1405.000000  2410.000000  2410.000000  2410.000000\n",
       "mean      0.059773    42.713167  1431.113278   231.749793    13.592241\n",
       "std       0.013542    25.954066   752.459975   157.685604     2.352204\n",
       "min       0.001000     4.000000     1.000000     0.000000     8.400000\n",
       "25%       0.050000    21.000000   808.250000    93.000000    12.000000\n",
       "50%       0.056000    35.000000  1453.500000   205.000000    12.000000\n",
       "75%       0.067000    64.000000  2075.750000   366.000000    16.000000\n",
       "max       0.128000   138.000000  2692.000000   557.000000    32.000000"
      ]
     },
     "execution_count": 136,
     "metadata": {},
     "output_type": "execute_result"
    }
   ],
   "source": [
    "info_numericas = df_beer.describe()\n",
    "info_numericas"
   ]
  },
  {
   "attachments": {},
   "cell_type": "markdown",
   "metadata": {},
   "source": [
    "## Ejercicio 7\n",
    "¿Cuántas birras hay de cada estilo en este dataset? [Investiga en la documentación de Series](https://pandas.pydata.org/pandas-docs/stable/reference/api/pandas.Series.html) si puedes hacer un conteo de valores."
   ]
  },
  {
   "cell_type": "code",
   "execution_count": 137,
   "metadata": {},
   "outputs": [
    {
     "data": {
      "text/html": [
       "<div>\n",
       "<style scoped>\n",
       "    .dataframe tbody tr th:only-of-type {\n",
       "        vertical-align: middle;\n",
       "    }\n",
       "\n",
       "    .dataframe tbody tr th {\n",
       "        vertical-align: top;\n",
       "    }\n",
       "\n",
       "    .dataframe thead th {\n",
       "        text-align: right;\n",
       "    }\n",
       "</style>\n",
       "<table border=\"1\" class=\"dataframe\">\n",
       "  <thead>\n",
       "    <tr style=\"text-align: right;\">\n",
       "      <th></th>\n",
       "      <th>abv</th>\n",
       "      <th>ibu</th>\n",
       "      <th>id</th>\n",
       "      <th>name</th>\n",
       "      <th>style</th>\n",
       "      <th>brewery_id</th>\n",
       "      <th>ounces</th>\n",
       "    </tr>\n",
       "  </thead>\n",
       "  <tbody>\n",
       "    <tr>\n",
       "      <th>0</th>\n",
       "      <td>0.050</td>\n",
       "      <td>NaN</td>\n",
       "      <td>1436</td>\n",
       "      <td>Pub Beer</td>\n",
       "      <td>American Pale Lager</td>\n",
       "      <td>408</td>\n",
       "      <td>12.0</td>\n",
       "    </tr>\n",
       "    <tr>\n",
       "      <th>1</th>\n",
       "      <td>0.066</td>\n",
       "      <td>NaN</td>\n",
       "      <td>2265</td>\n",
       "      <td>Devil's Cup</td>\n",
       "      <td>American Pale Ale (APA)</td>\n",
       "      <td>177</td>\n",
       "      <td>12.0</td>\n",
       "    </tr>\n",
       "    <tr>\n",
       "      <th>2</th>\n",
       "      <td>0.071</td>\n",
       "      <td>NaN</td>\n",
       "      <td>2264</td>\n",
       "      <td>Rise of the Phoenix</td>\n",
       "      <td>American IPA</td>\n",
       "      <td>177</td>\n",
       "      <td>12.0</td>\n",
       "    </tr>\n",
       "    <tr>\n",
       "      <th>3</th>\n",
       "      <td>0.090</td>\n",
       "      <td>NaN</td>\n",
       "      <td>2263</td>\n",
       "      <td>Sinister</td>\n",
       "      <td>American Double / Imperial IPA</td>\n",
       "      <td>177</td>\n",
       "      <td>12.0</td>\n",
       "    </tr>\n",
       "    <tr>\n",
       "      <th>4</th>\n",
       "      <td>0.075</td>\n",
       "      <td>NaN</td>\n",
       "      <td>2262</td>\n",
       "      <td>Sex and Candy</td>\n",
       "      <td>American IPA</td>\n",
       "      <td>177</td>\n",
       "      <td>12.0</td>\n",
       "    </tr>\n",
       "    <tr>\n",
       "      <th>5</th>\n",
       "      <td>0.077</td>\n",
       "      <td>NaN</td>\n",
       "      <td>2261</td>\n",
       "      <td>Black Exodus</td>\n",
       "      <td>Oatmeal Stout</td>\n",
       "      <td>177</td>\n",
       "      <td>12.0</td>\n",
       "    </tr>\n",
       "    <tr>\n",
       "      <th>6</th>\n",
       "      <td>0.045</td>\n",
       "      <td>NaN</td>\n",
       "      <td>2260</td>\n",
       "      <td>Lake Street Express</td>\n",
       "      <td>American Pale Ale (APA)</td>\n",
       "      <td>177</td>\n",
       "      <td>12.0</td>\n",
       "    </tr>\n",
       "    <tr>\n",
       "      <th>7</th>\n",
       "      <td>0.065</td>\n",
       "      <td>NaN</td>\n",
       "      <td>2259</td>\n",
       "      <td>Foreman</td>\n",
       "      <td>American Porter</td>\n",
       "      <td>177</td>\n",
       "      <td>12.0</td>\n",
       "    </tr>\n",
       "    <tr>\n",
       "      <th>8</th>\n",
       "      <td>0.055</td>\n",
       "      <td>NaN</td>\n",
       "      <td>2258</td>\n",
       "      <td>Jade</td>\n",
       "      <td>American Pale Ale (APA)</td>\n",
       "      <td>177</td>\n",
       "      <td>12.0</td>\n",
       "    </tr>\n",
       "    <tr>\n",
       "      <th>9</th>\n",
       "      <td>0.086</td>\n",
       "      <td>NaN</td>\n",
       "      <td>2131</td>\n",
       "      <td>Cone Crusher</td>\n",
       "      <td>American Double / Imperial IPA</td>\n",
       "      <td>177</td>\n",
       "      <td>12.0</td>\n",
       "    </tr>\n",
       "    <tr>\n",
       "      <th>10</th>\n",
       "      <td>0.072</td>\n",
       "      <td>NaN</td>\n",
       "      <td>2099</td>\n",
       "      <td>Sophomoric Saison</td>\n",
       "      <td>Saison / Farmhouse Ale</td>\n",
       "      <td>177</td>\n",
       "      <td>12.0</td>\n",
       "    </tr>\n",
       "    <tr>\n",
       "      <th>11</th>\n",
       "      <td>0.073</td>\n",
       "      <td>NaN</td>\n",
       "      <td>2098</td>\n",
       "      <td>Regional Ring Of Fire</td>\n",
       "      <td>Saison / Farmhouse Ale</td>\n",
       "      <td>177</td>\n",
       "      <td>12.0</td>\n",
       "    </tr>\n",
       "    <tr>\n",
       "      <th>12</th>\n",
       "      <td>0.069</td>\n",
       "      <td>NaN</td>\n",
       "      <td>2097</td>\n",
       "      <td>Garce Selé</td>\n",
       "      <td>Saison / Farmhouse Ale</td>\n",
       "      <td>177</td>\n",
       "      <td>12.0</td>\n",
       "    </tr>\n",
       "    <tr>\n",
       "      <th>13</th>\n",
       "      <td>0.085</td>\n",
       "      <td>NaN</td>\n",
       "      <td>1980</td>\n",
       "      <td>Troll Destroyer</td>\n",
       "      <td>Belgian IPA</td>\n",
       "      <td>177</td>\n",
       "      <td>12.0</td>\n",
       "    </tr>\n",
       "    <tr>\n",
       "      <th>14</th>\n",
       "      <td>0.061</td>\n",
       "      <td>60.0</td>\n",
       "      <td>1979</td>\n",
       "      <td>Bitter Bitch</td>\n",
       "      <td>American Pale Ale (APA)</td>\n",
       "      <td>177</td>\n",
       "      <td>12.0</td>\n",
       "    </tr>\n",
       "  </tbody>\n",
       "</table>\n",
       "</div>"
      ],
      "text/plain": [
       "      abv   ibu    id                   name                           style  \\\n",
       "0   0.050   NaN  1436               Pub Beer             American Pale Lager   \n",
       "1   0.066   NaN  2265            Devil's Cup         American Pale Ale (APA)   \n",
       "2   0.071   NaN  2264    Rise of the Phoenix                    American IPA   \n",
       "3   0.090   NaN  2263               Sinister  American Double / Imperial IPA   \n",
       "4   0.075   NaN  2262          Sex and Candy                    American IPA   \n",
       "5   0.077   NaN  2261           Black Exodus                   Oatmeal Stout   \n",
       "6   0.045   NaN  2260    Lake Street Express         American Pale Ale (APA)   \n",
       "7   0.065   NaN  2259                Foreman                 American Porter   \n",
       "8   0.055   NaN  2258                   Jade         American Pale Ale (APA)   \n",
       "9   0.086   NaN  2131           Cone Crusher  American Double / Imperial IPA   \n",
       "10  0.072   NaN  2099      Sophomoric Saison          Saison / Farmhouse Ale   \n",
       "11  0.073   NaN  2098  Regional Ring Of Fire          Saison / Farmhouse Ale   \n",
       "12  0.069   NaN  2097             Garce Selé          Saison / Farmhouse Ale   \n",
       "13  0.085   NaN  1980        Troll Destroyer                     Belgian IPA   \n",
       "14  0.061  60.0  1979           Bitter Bitch         American Pale Ale (APA)   \n",
       "\n",
       "    brewery_id  ounces  \n",
       "0          408    12.0  \n",
       "1          177    12.0  \n",
       "2          177    12.0  \n",
       "3          177    12.0  \n",
       "4          177    12.0  \n",
       "5          177    12.0  \n",
       "6          177    12.0  \n",
       "7          177    12.0  \n",
       "8          177    12.0  \n",
       "9          177    12.0  \n",
       "10         177    12.0  \n",
       "11         177    12.0  \n",
       "12         177    12.0  \n",
       "13         177    12.0  \n",
       "14         177    12.0  "
      ]
     },
     "execution_count": 137,
     "metadata": {},
     "output_type": "execute_result"
    }
   ],
   "source": [
    "df_beer.head(15)"
   ]
  },
  {
   "cell_type": "code",
   "execution_count": 138,
   "metadata": {},
   "outputs": [
    {
     "data": {
      "text/plain": [
       "style\n",
       "American IPA                      424\n",
       "American Pale Ale (APA)           245\n",
       "American Amber / Red Ale          133\n",
       "American Blonde Ale               108\n",
       "American Double / Imperial IPA    105\n",
       "                                 ... \n",
       "Wheat Ale                           1\n",
       "Grisette                            1\n",
       "Flanders Oud Bruin                  1\n",
       "Braggot                             1\n",
       "Low Alcohol Beer                    1\n",
       "Name: count, Length: 99, dtype: int64"
      ]
     },
     "execution_count": 138,
     "metadata": {},
     "output_type": "execute_result"
    }
   ],
   "source": [
    "df_beer['style'].value_counts()"
   ]
  },
  {
   "cell_type": "code",
   "execution_count": 139,
   "metadata": {},
   "outputs": [
    {
     "data": {
      "text/plain": [
       "style\n",
       "American IPA                      424\n",
       "American Pale Ale (APA)           245\n",
       "American Amber / Red Ale          133\n",
       "American Blonde Ale               108\n",
       "American Double / Imperial IPA    105\n",
       "American Pale Wheat Ale            97\n",
       "American Brown Ale                 70\n",
       "American Porter                    68\n",
       "Saison / Farmhouse Ale             52\n",
       "Witbier                            51\n",
       "Name: count, dtype: int64"
      ]
     },
     "execution_count": 139,
     "metadata": {},
     "output_type": "execute_result"
    }
   ],
   "source": [
    "df_beer['style'].value_counts().head(10)"
   ]
  },
  {
   "attachments": {},
   "cell_type": "markdown",
   "metadata": {},
   "source": [
    "## Ejercicio 8\n",
    "1. Imprime por pantalla los registros desde el décimo hasta el vigésimo\n",
    "2. De esos registros, imprime por pantalla desde la columna `name` a `ounces`, ambas incluidas\n",
    "3. Quédate con las columnas `abv`, `ibu` y `ounces`, y además quédate sólo con los registros 10 al 20.\n",
    "4. Convierte el resultado del apartado 3 en un array de `numpy`"
   ]
  },
  {
   "cell_type": "code",
   "execution_count": 140,
   "metadata": {},
   "outputs": [],
   "source": [
    "df9_19 = df_beer.iloc[9:19]"
   ]
  },
  {
   "cell_type": "code",
   "execution_count": 141,
   "metadata": {},
   "outputs": [
    {
     "data": {
      "text/html": [
       "<div>\n",
       "<style scoped>\n",
       "    .dataframe tbody tr th:only-of-type {\n",
       "        vertical-align: middle;\n",
       "    }\n",
       "\n",
       "    .dataframe tbody tr th {\n",
       "        vertical-align: top;\n",
       "    }\n",
       "\n",
       "    .dataframe thead th {\n",
       "        text-align: right;\n",
       "    }\n",
       "</style>\n",
       "<table border=\"1\" class=\"dataframe\">\n",
       "  <thead>\n",
       "    <tr style=\"text-align: right;\">\n",
       "      <th></th>\n",
       "      <th>name</th>\n",
       "      <th>style</th>\n",
       "      <th>brewery_id</th>\n",
       "      <th>ounces</th>\n",
       "    </tr>\n",
       "  </thead>\n",
       "  <tbody>\n",
       "    <tr>\n",
       "      <th>9</th>\n",
       "      <td>Cone Crusher</td>\n",
       "      <td>American Double / Imperial IPA</td>\n",
       "      <td>177</td>\n",
       "      <td>12.0</td>\n",
       "    </tr>\n",
       "    <tr>\n",
       "      <th>10</th>\n",
       "      <td>Sophomoric Saison</td>\n",
       "      <td>Saison / Farmhouse Ale</td>\n",
       "      <td>177</td>\n",
       "      <td>12.0</td>\n",
       "    </tr>\n",
       "    <tr>\n",
       "      <th>11</th>\n",
       "      <td>Regional Ring Of Fire</td>\n",
       "      <td>Saison / Farmhouse Ale</td>\n",
       "      <td>177</td>\n",
       "      <td>12.0</td>\n",
       "    </tr>\n",
       "    <tr>\n",
       "      <th>12</th>\n",
       "      <td>Garce Selé</td>\n",
       "      <td>Saison / Farmhouse Ale</td>\n",
       "      <td>177</td>\n",
       "      <td>12.0</td>\n",
       "    </tr>\n",
       "    <tr>\n",
       "      <th>13</th>\n",
       "      <td>Troll Destroyer</td>\n",
       "      <td>Belgian IPA</td>\n",
       "      <td>177</td>\n",
       "      <td>12.0</td>\n",
       "    </tr>\n",
       "    <tr>\n",
       "      <th>14</th>\n",
       "      <td>Bitter Bitch</td>\n",
       "      <td>American Pale Ale (APA)</td>\n",
       "      <td>177</td>\n",
       "      <td>12.0</td>\n",
       "    </tr>\n",
       "    <tr>\n",
       "      <th>15</th>\n",
       "      <td>Ginja Ninja</td>\n",
       "      <td>Cider</td>\n",
       "      <td>154</td>\n",
       "      <td>12.0</td>\n",
       "    </tr>\n",
       "    <tr>\n",
       "      <th>16</th>\n",
       "      <td>Cherried Away</td>\n",
       "      <td>Cider</td>\n",
       "      <td>154</td>\n",
       "      <td>12.0</td>\n",
       "    </tr>\n",
       "    <tr>\n",
       "      <th>17</th>\n",
       "      <td>Rhubarbarian</td>\n",
       "      <td>Cider</td>\n",
       "      <td>154</td>\n",
       "      <td>12.0</td>\n",
       "    </tr>\n",
       "    <tr>\n",
       "      <th>18</th>\n",
       "      <td>BrightCider</td>\n",
       "      <td>Cider</td>\n",
       "      <td>154</td>\n",
       "      <td>12.0</td>\n",
       "    </tr>\n",
       "  </tbody>\n",
       "</table>\n",
       "</div>"
      ],
      "text/plain": [
       "                     name                           style  brewery_id  ounces\n",
       "9            Cone Crusher  American Double / Imperial IPA         177    12.0\n",
       "10      Sophomoric Saison          Saison / Farmhouse Ale         177    12.0\n",
       "11  Regional Ring Of Fire          Saison / Farmhouse Ale         177    12.0\n",
       "12             Garce Selé          Saison / Farmhouse Ale         177    12.0\n",
       "13        Troll Destroyer                     Belgian IPA         177    12.0\n",
       "14           Bitter Bitch         American Pale Ale (APA)         177    12.0\n",
       "15            Ginja Ninja                           Cider         154    12.0\n",
       "16          Cherried Away                           Cider         154    12.0\n",
       "17           Rhubarbarian                           Cider         154    12.0\n",
       "18            BrightCider                           Cider         154    12.0"
      ]
     },
     "execution_count": 141,
     "metadata": {},
     "output_type": "execute_result"
    }
   ],
   "source": [
    "df_ej8 = df9_19.loc[:,'name':'ounces']\n",
    "df_ej8"
   ]
  },
  {
   "cell_type": "code",
   "execution_count": 142,
   "metadata": {},
   "outputs": [],
   "source": [
    "df_nuevo = df9_19[['abv','ibu','ounces']]"
   ]
  },
  {
   "cell_type": "code",
   "execution_count": 143,
   "metadata": {},
   "outputs": [
    {
     "data": {
      "text/plain": [
       "array([[ 0.086,    nan, 12.   ],\n",
       "       [ 0.072,    nan, 12.   ],\n",
       "       [ 0.073,    nan, 12.   ],\n",
       "       [ 0.069,    nan, 12.   ],\n",
       "       [ 0.085,    nan, 12.   ],\n",
       "       [ 0.061, 60.   , 12.   ],\n",
       "       [ 0.06 ,    nan, 12.   ],\n",
       "       [ 0.06 ,    nan, 12.   ],\n",
       "       [ 0.06 ,    nan, 12.   ],\n",
       "       [ 0.06 ,    nan, 12.   ]])"
      ]
     },
     "execution_count": 143,
     "metadata": {},
     "output_type": "execute_result"
    }
   ],
   "source": [
    "numpy_array = df_nuevo.to_numpy()\n",
    "numpy_array"
   ]
  },
  {
   "attachments": {},
   "cell_type": "markdown",
   "metadata": {},
   "source": [
    "## Ejercicio 9\n",
    "¿Cuántas onzas pesan todas las birras del dataset?"
   ]
  },
  {
   "cell_type": "code",
   "execution_count": 144,
   "metadata": {},
   "outputs": [
    {
     "data": {
      "text/html": [
       "<div>\n",
       "<style scoped>\n",
       "    .dataframe tbody tr th:only-of-type {\n",
       "        vertical-align: middle;\n",
       "    }\n",
       "\n",
       "    .dataframe tbody tr th {\n",
       "        vertical-align: top;\n",
       "    }\n",
       "\n",
       "    .dataframe thead th {\n",
       "        text-align: right;\n",
       "    }\n",
       "</style>\n",
       "<table border=\"1\" class=\"dataframe\">\n",
       "  <thead>\n",
       "    <tr style=\"text-align: right;\">\n",
       "      <th></th>\n",
       "      <th>abv</th>\n",
       "      <th>ibu</th>\n",
       "      <th>id</th>\n",
       "      <th>name</th>\n",
       "      <th>style</th>\n",
       "      <th>brewery_id</th>\n",
       "      <th>ounces</th>\n",
       "    </tr>\n",
       "  </thead>\n",
       "  <tbody>\n",
       "    <tr>\n",
       "      <th>0</th>\n",
       "      <td>0.050</td>\n",
       "      <td>NaN</td>\n",
       "      <td>1436</td>\n",
       "      <td>Pub Beer</td>\n",
       "      <td>American Pale Lager</td>\n",
       "      <td>408</td>\n",
       "      <td>12.0</td>\n",
       "    </tr>\n",
       "    <tr>\n",
       "      <th>1</th>\n",
       "      <td>0.066</td>\n",
       "      <td>NaN</td>\n",
       "      <td>2265</td>\n",
       "      <td>Devil's Cup</td>\n",
       "      <td>American Pale Ale (APA)</td>\n",
       "      <td>177</td>\n",
       "      <td>12.0</td>\n",
       "    </tr>\n",
       "    <tr>\n",
       "      <th>2</th>\n",
       "      <td>0.071</td>\n",
       "      <td>NaN</td>\n",
       "      <td>2264</td>\n",
       "      <td>Rise of the Phoenix</td>\n",
       "      <td>American IPA</td>\n",
       "      <td>177</td>\n",
       "      <td>12.0</td>\n",
       "    </tr>\n",
       "    <tr>\n",
       "      <th>3</th>\n",
       "      <td>0.090</td>\n",
       "      <td>NaN</td>\n",
       "      <td>2263</td>\n",
       "      <td>Sinister</td>\n",
       "      <td>American Double / Imperial IPA</td>\n",
       "      <td>177</td>\n",
       "      <td>12.0</td>\n",
       "    </tr>\n",
       "    <tr>\n",
       "      <th>4</th>\n",
       "      <td>0.075</td>\n",
       "      <td>NaN</td>\n",
       "      <td>2262</td>\n",
       "      <td>Sex and Candy</td>\n",
       "      <td>American IPA</td>\n",
       "      <td>177</td>\n",
       "      <td>12.0</td>\n",
       "    </tr>\n",
       "    <tr>\n",
       "      <th>5</th>\n",
       "      <td>0.077</td>\n",
       "      <td>NaN</td>\n",
       "      <td>2261</td>\n",
       "      <td>Black Exodus</td>\n",
       "      <td>Oatmeal Stout</td>\n",
       "      <td>177</td>\n",
       "      <td>12.0</td>\n",
       "    </tr>\n",
       "    <tr>\n",
       "      <th>6</th>\n",
       "      <td>0.045</td>\n",
       "      <td>NaN</td>\n",
       "      <td>2260</td>\n",
       "      <td>Lake Street Express</td>\n",
       "      <td>American Pale Ale (APA)</td>\n",
       "      <td>177</td>\n",
       "      <td>12.0</td>\n",
       "    </tr>\n",
       "    <tr>\n",
       "      <th>7</th>\n",
       "      <td>0.065</td>\n",
       "      <td>NaN</td>\n",
       "      <td>2259</td>\n",
       "      <td>Foreman</td>\n",
       "      <td>American Porter</td>\n",
       "      <td>177</td>\n",
       "      <td>12.0</td>\n",
       "    </tr>\n",
       "    <tr>\n",
       "      <th>8</th>\n",
       "      <td>0.055</td>\n",
       "      <td>NaN</td>\n",
       "      <td>2258</td>\n",
       "      <td>Jade</td>\n",
       "      <td>American Pale Ale (APA)</td>\n",
       "      <td>177</td>\n",
       "      <td>12.0</td>\n",
       "    </tr>\n",
       "    <tr>\n",
       "      <th>9</th>\n",
       "      <td>0.086</td>\n",
       "      <td>NaN</td>\n",
       "      <td>2131</td>\n",
       "      <td>Cone Crusher</td>\n",
       "      <td>American Double / Imperial IPA</td>\n",
       "      <td>177</td>\n",
       "      <td>12.0</td>\n",
       "    </tr>\n",
       "  </tbody>\n",
       "</table>\n",
       "</div>"
      ],
      "text/plain": [
       "     abv  ibu    id                 name                           style  \\\n",
       "0  0.050  NaN  1436             Pub Beer             American Pale Lager   \n",
       "1  0.066  NaN  2265          Devil's Cup         American Pale Ale (APA)   \n",
       "2  0.071  NaN  2264  Rise of the Phoenix                    American IPA   \n",
       "3  0.090  NaN  2263             Sinister  American Double / Imperial IPA   \n",
       "4  0.075  NaN  2262        Sex and Candy                    American IPA   \n",
       "5  0.077  NaN  2261         Black Exodus                   Oatmeal Stout   \n",
       "6  0.045  NaN  2260  Lake Street Express         American Pale Ale (APA)   \n",
       "7  0.065  NaN  2259              Foreman                 American Porter   \n",
       "8  0.055  NaN  2258                 Jade         American Pale Ale (APA)   \n",
       "9  0.086  NaN  2131         Cone Crusher  American Double / Imperial IPA   \n",
       "\n",
       "   brewery_id  ounces  \n",
       "0         408    12.0  \n",
       "1         177    12.0  \n",
       "2         177    12.0  \n",
       "3         177    12.0  \n",
       "4         177    12.0  \n",
       "5         177    12.0  \n",
       "6         177    12.0  \n",
       "7         177    12.0  \n",
       "8         177    12.0  \n",
       "9         177    12.0  "
      ]
     },
     "execution_count": 144,
     "metadata": {},
     "output_type": "execute_result"
    }
   ],
   "source": [
    "df_beer.head(10)"
   ]
  },
  {
   "cell_type": "code",
   "execution_count": 145,
   "metadata": {},
   "outputs": [
    {
     "data": {
      "text/plain": [
       "np.float64(32757.3)"
      ]
     },
     "execution_count": 145,
     "metadata": {},
     "output_type": "execute_result"
    }
   ],
   "source": [
    "df_beer['ounces'].sum()"
   ]
  },
  {
   "cell_type": "code",
   "execution_count": 146,
   "metadata": {},
   "outputs": [
    {
     "data": {
      "text/plain": [
       "np.float64(32757.3)"
      ]
     },
     "execution_count": 146,
     "metadata": {},
     "output_type": "execute_result"
    }
   ],
   "source": [
    "df_beer.ounces.sum()"
   ]
  },
  {
   "attachments": {},
   "cell_type": "markdown",
   "metadata": {},
   "source": [
    "## Ejercicio 10\n",
    "El amargor de las cervezas se mide por su nivel de IBUs.\n",
    "1. ¿Cuál es el amargor medio de las cervezas?\n",
    "2. ¿El máximo? ¿Y el mínimo?\n",
    "3. ¿Qué cerveza es la que tiene el amargor máximo? ¿Cuál es la de amargor mínimo?"
   ]
  },
  {
   "cell_type": "code",
   "execution_count": 147,
   "metadata": {},
   "outputs": [
    {
     "data": {
      "text/html": [
       "<div>\n",
       "<style scoped>\n",
       "    .dataframe tbody tr th:only-of-type {\n",
       "        vertical-align: middle;\n",
       "    }\n",
       "\n",
       "    .dataframe tbody tr th {\n",
       "        vertical-align: top;\n",
       "    }\n",
       "\n",
       "    .dataframe thead th {\n",
       "        text-align: right;\n",
       "    }\n",
       "</style>\n",
       "<table border=\"1\" class=\"dataframe\">\n",
       "  <thead>\n",
       "    <tr style=\"text-align: right;\">\n",
       "      <th></th>\n",
       "      <th>abv</th>\n",
       "      <th>ibu</th>\n",
       "      <th>id</th>\n",
       "      <th>name</th>\n",
       "      <th>style</th>\n",
       "      <th>brewery_id</th>\n",
       "      <th>ounces</th>\n",
       "    </tr>\n",
       "  </thead>\n",
       "  <tbody>\n",
       "    <tr>\n",
       "      <th>0</th>\n",
       "      <td>0.050</td>\n",
       "      <td>NaN</td>\n",
       "      <td>1436</td>\n",
       "      <td>Pub Beer</td>\n",
       "      <td>American Pale Lager</td>\n",
       "      <td>408</td>\n",
       "      <td>12.0</td>\n",
       "    </tr>\n",
       "    <tr>\n",
       "      <th>1</th>\n",
       "      <td>0.066</td>\n",
       "      <td>NaN</td>\n",
       "      <td>2265</td>\n",
       "      <td>Devil's Cup</td>\n",
       "      <td>American Pale Ale (APA)</td>\n",
       "      <td>177</td>\n",
       "      <td>12.0</td>\n",
       "    </tr>\n",
       "    <tr>\n",
       "      <th>2</th>\n",
       "      <td>0.071</td>\n",
       "      <td>NaN</td>\n",
       "      <td>2264</td>\n",
       "      <td>Rise of the Phoenix</td>\n",
       "      <td>American IPA</td>\n",
       "      <td>177</td>\n",
       "      <td>12.0</td>\n",
       "    </tr>\n",
       "    <tr>\n",
       "      <th>3</th>\n",
       "      <td>0.090</td>\n",
       "      <td>NaN</td>\n",
       "      <td>2263</td>\n",
       "      <td>Sinister</td>\n",
       "      <td>American Double / Imperial IPA</td>\n",
       "      <td>177</td>\n",
       "      <td>12.0</td>\n",
       "    </tr>\n",
       "    <tr>\n",
       "      <th>4</th>\n",
       "      <td>0.075</td>\n",
       "      <td>NaN</td>\n",
       "      <td>2262</td>\n",
       "      <td>Sex and Candy</td>\n",
       "      <td>American IPA</td>\n",
       "      <td>177</td>\n",
       "      <td>12.0</td>\n",
       "    </tr>\n",
       "  </tbody>\n",
       "</table>\n",
       "</div>"
      ],
      "text/plain": [
       "     abv  ibu    id                 name                           style  \\\n",
       "0  0.050  NaN  1436             Pub Beer             American Pale Lager   \n",
       "1  0.066  NaN  2265          Devil's Cup         American Pale Ale (APA)   \n",
       "2  0.071  NaN  2264  Rise of the Phoenix                    American IPA   \n",
       "3  0.090  NaN  2263             Sinister  American Double / Imperial IPA   \n",
       "4  0.075  NaN  2262        Sex and Candy                    American IPA   \n",
       "\n",
       "   brewery_id  ounces  \n",
       "0         408    12.0  \n",
       "1         177    12.0  \n",
       "2         177    12.0  \n",
       "3         177    12.0  \n",
       "4         177    12.0  "
      ]
     },
     "execution_count": 147,
     "metadata": {},
     "output_type": "execute_result"
    }
   ],
   "source": [
    "df_beer.head()"
   ]
  },
  {
   "cell_type": "code",
   "execution_count": 148,
   "metadata": {},
   "outputs": [
    {
     "data": {
      "text/plain": [
       "np.float64(42.71316725978647)"
      ]
     },
     "execution_count": 148,
     "metadata": {},
     "output_type": "execute_result"
    }
   ],
   "source": [
    "df_beer['ibu'].mean()"
   ]
  },
  {
   "cell_type": "code",
   "execution_count": 149,
   "metadata": {},
   "outputs": [
    {
     "data": {
      "text/plain": [
       "count    1405.000000\n",
       "mean       42.713167\n",
       "std        25.954066\n",
       "min         4.000000\n",
       "25%        21.000000\n",
       "50%        35.000000\n",
       "75%        64.000000\n",
       "max       138.000000\n",
       "Name: ibu, dtype: float64"
      ]
     },
     "execution_count": 149,
     "metadata": {},
     "output_type": "execute_result"
    }
   ],
   "source": [
    "df_beer['ibu'].describe()       # De esta manera obtienes varios datos estadísticos incluyendo el máximo y el mínimo"
   ]
  },
  {
   "cell_type": "code",
   "execution_count": 150,
   "metadata": {},
   "outputs": [
    {
     "name": "stdout",
     "output_type": "stream",
     "text": [
      "Amargor máximo: 138.0\n",
      " Amargor mínimo: 4.0\n"
     ]
    }
   ],
   "source": [
    "#Tambien los puedes obtener así:\n",
    "print(f\"Amargor máximo: {df_beer['ibu'].max()}\\n Amargor mínimo: {df_beer['ibu'].min()}\")"
   ]
  },
  {
   "cell_type": "code",
   "execution_count": 151,
   "metadata": {},
   "outputs": [
    {
     "data": {
      "text/html": [
       "<div>\n",
       "<style scoped>\n",
       "    .dataframe tbody tr th:only-of-type {\n",
       "        vertical-align: middle;\n",
       "    }\n",
       "\n",
       "    .dataframe tbody tr th {\n",
       "        vertical-align: top;\n",
       "    }\n",
       "\n",
       "    .dataframe thead th {\n",
       "        text-align: right;\n",
       "    }\n",
       "</style>\n",
       "<table border=\"1\" class=\"dataframe\">\n",
       "  <thead>\n",
       "    <tr style=\"text-align: right;\">\n",
       "      <th></th>\n",
       "      <th>name</th>\n",
       "      <th>ibu</th>\n",
       "    </tr>\n",
       "  </thead>\n",
       "  <tbody>\n",
       "    <tr>\n",
       "      <th>147</th>\n",
       "      <td>Bitter Bitch Imperial IPA</td>\n",
       "      <td>138.0</td>\n",
       "    </tr>\n",
       "  </tbody>\n",
       "</table>\n",
       "</div>"
      ],
      "text/plain": [
       "                          name    ibu\n",
       "147  Bitter Bitch Imperial IPA  138.0"
      ]
     },
     "execution_count": 151,
     "metadata": {},
     "output_type": "execute_result"
    }
   ],
   "source": [
    "# Obtener nombre de la cerveza más amarga. Opción1\n",
    "df_beer[df_beer['ibu'] == df_beer['ibu'].max()][['name', 'ibu']]"
   ]
  },
  {
   "cell_type": "code",
   "execution_count": 152,
   "metadata": {},
   "outputs": [
    {
     "data": {
      "text/html": [
       "<div>\n",
       "<style scoped>\n",
       "    .dataframe tbody tr th:only-of-type {\n",
       "        vertical-align: middle;\n",
       "    }\n",
       "\n",
       "    .dataframe tbody tr th {\n",
       "        vertical-align: top;\n",
       "    }\n",
       "\n",
       "    .dataframe thead th {\n",
       "        text-align: right;\n",
       "    }\n",
       "</style>\n",
       "<table border=\"1\" class=\"dataframe\">\n",
       "  <thead>\n",
       "    <tr style=\"text-align: right;\">\n",
       "      <th></th>\n",
       "      <th>ibu</th>\n",
       "      <th>name</th>\n",
       "    </tr>\n",
       "  </thead>\n",
       "  <tbody>\n",
       "    <tr>\n",
       "      <th>147</th>\n",
       "      <td>138.0</td>\n",
       "      <td>Bitter Bitch Imperial IPA</td>\n",
       "    </tr>\n",
       "    <tr>\n",
       "      <th>2390</th>\n",
       "      <td>135.0</td>\n",
       "      <td>Troopers Alley IPA</td>\n",
       "    </tr>\n",
       "    <tr>\n",
       "      <th>525</th>\n",
       "      <td>130.0</td>\n",
       "      <td>Dead-Eye DIPA</td>\n",
       "    </tr>\n",
       "    <tr>\n",
       "      <th>594</th>\n",
       "      <td>126.0</td>\n",
       "      <td>Bay of Bengal Double IPA (2014)</td>\n",
       "    </tr>\n",
       "    <tr>\n",
       "      <th>2145</th>\n",
       "      <td>120.0</td>\n",
       "      <td>Heady Topper</td>\n",
       "    </tr>\n",
       "    <tr>\n",
       "      <th>...</th>\n",
       "      <td>...</td>\n",
       "      <td>...</td>\n",
       "    </tr>\n",
       "    <tr>\n",
       "      <th>2403</th>\n",
       "      <td>NaN</td>\n",
       "      <td>Wynkoop Pumpkin Ale</td>\n",
       "    </tr>\n",
       "    <tr>\n",
       "      <th>2404</th>\n",
       "      <td>NaN</td>\n",
       "      <td>Rocky Mountain Oyster Stout</td>\n",
       "    </tr>\n",
       "    <tr>\n",
       "      <th>2406</th>\n",
       "      <td>NaN</td>\n",
       "      <td>Rail Yard Ale</td>\n",
       "    </tr>\n",
       "    <tr>\n",
       "      <th>2407</th>\n",
       "      <td>NaN</td>\n",
       "      <td>B3K Black Lager</td>\n",
       "    </tr>\n",
       "    <tr>\n",
       "      <th>2409</th>\n",
       "      <td>NaN</td>\n",
       "      <td>Rail Yard Ale (2009)</td>\n",
       "    </tr>\n",
       "  </tbody>\n",
       "</table>\n",
       "<p>2410 rows × 2 columns</p>\n",
       "</div>"
      ],
      "text/plain": [
       "        ibu                             name\n",
       "147   138.0        Bitter Bitch Imperial IPA\n",
       "2390  135.0               Troopers Alley IPA\n",
       "525   130.0                    Dead-Eye DIPA\n",
       "594   126.0  Bay of Bengal Double IPA (2014)\n",
       "2145  120.0                     Heady Topper\n",
       "...     ...                              ...\n",
       "2403    NaN              Wynkoop Pumpkin Ale\n",
       "2404    NaN      Rocky Mountain Oyster Stout\n",
       "2406    NaN                    Rail Yard Ale\n",
       "2407    NaN                  B3K Black Lager\n",
       "2409    NaN             Rail Yard Ale (2009)\n",
       "\n",
       "[2410 rows x 2 columns]"
      ]
     },
     "execution_count": 152,
     "metadata": {},
     "output_type": "execute_result"
    }
   ],
   "source": [
    "# Opcion 2\n",
    "df_beer.sort_values(by = 'ibu', ascending = False)[['ibu', 'name']]"
   ]
  },
  {
   "cell_type": "code",
   "execution_count": 153,
   "metadata": {},
   "outputs": [
    {
     "data": {
      "text/html": [
       "<div>\n",
       "<style scoped>\n",
       "    .dataframe tbody tr th:only-of-type {\n",
       "        vertical-align: middle;\n",
       "    }\n",
       "\n",
       "    .dataframe tbody tr th {\n",
       "        vertical-align: top;\n",
       "    }\n",
       "\n",
       "    .dataframe thead th {\n",
       "        text-align: right;\n",
       "    }\n",
       "</style>\n",
       "<table border=\"1\" class=\"dataframe\">\n",
       "  <thead>\n",
       "    <tr style=\"text-align: right;\">\n",
       "      <th></th>\n",
       "      <th>name</th>\n",
       "      <th>ibu</th>\n",
       "    </tr>\n",
       "  </thead>\n",
       "  <tbody>\n",
       "    <tr>\n",
       "      <th>106</th>\n",
       "      <td>Summer Solstice</td>\n",
       "      <td>4.0</td>\n",
       "    </tr>\n",
       "    <tr>\n",
       "      <th>112</th>\n",
       "      <td>Summer Solstice Cerveza Crema (2009)</td>\n",
       "      <td>4.0</td>\n",
       "    </tr>\n",
       "    <tr>\n",
       "      <th>117</th>\n",
       "      <td>Summer Solstice (2011)</td>\n",
       "      <td>4.0</td>\n",
       "    </tr>\n",
       "  </tbody>\n",
       "</table>\n",
       "</div>"
      ],
      "text/plain": [
       "                                     name  ibu\n",
       "106                       Summer Solstice  4.0\n",
       "112  Summer Solstice Cerveza Crema (2009)  4.0\n",
       "117                Summer Solstice (2011)  4.0"
      ]
     },
     "execution_count": 153,
     "metadata": {},
     "output_type": "execute_result"
    }
   ],
   "source": [
    "# Obtener nombre de la cerveza menos amarga. Opción1\n",
    "df_beer[df_beer['ibu'] == df_beer['ibu'].min()][['name', 'ibu']]"
   ]
  },
  {
   "cell_type": "code",
   "execution_count": 154,
   "metadata": {},
   "outputs": [
    {
     "data": {
      "text/html": [
       "<div>\n",
       "<style scoped>\n",
       "    .dataframe tbody tr th:only-of-type {\n",
       "        vertical-align: middle;\n",
       "    }\n",
       "\n",
       "    .dataframe tbody tr th {\n",
       "        vertical-align: top;\n",
       "    }\n",
       "\n",
       "    .dataframe thead th {\n",
       "        text-align: right;\n",
       "    }\n",
       "</style>\n",
       "<table border=\"1\" class=\"dataframe\">\n",
       "  <thead>\n",
       "    <tr style=\"text-align: right;\">\n",
       "      <th></th>\n",
       "      <th>ibu</th>\n",
       "      <th>name</th>\n",
       "    </tr>\n",
       "  </thead>\n",
       "  <tbody>\n",
       "    <tr>\n",
       "      <th>106</th>\n",
       "      <td>4.0</td>\n",
       "      <td>Summer Solstice</td>\n",
       "    </tr>\n",
       "    <tr>\n",
       "      <th>112</th>\n",
       "      <td>4.0</td>\n",
       "      <td>Summer Solstice Cerveza Crema (2009)</td>\n",
       "    </tr>\n",
       "    <tr>\n",
       "      <th>117</th>\n",
       "      <td>4.0</td>\n",
       "      <td>Summer Solstice (2011)</td>\n",
       "    </tr>\n",
       "    <tr>\n",
       "      <th>2339</th>\n",
       "      <td>5.0</td>\n",
       "      <td>Westbrook Gose</td>\n",
       "    </tr>\n",
       "    <tr>\n",
       "      <th>961</th>\n",
       "      <td>5.0</td>\n",
       "      <td>Chickawawa Lemonale</td>\n",
       "    </tr>\n",
       "    <tr>\n",
       "      <th>...</th>\n",
       "      <td>...</td>\n",
       "      <td>...</td>\n",
       "    </tr>\n",
       "    <tr>\n",
       "      <th>2403</th>\n",
       "      <td>NaN</td>\n",
       "      <td>Wynkoop Pumpkin Ale</td>\n",
       "    </tr>\n",
       "    <tr>\n",
       "      <th>2404</th>\n",
       "      <td>NaN</td>\n",
       "      <td>Rocky Mountain Oyster Stout</td>\n",
       "    </tr>\n",
       "    <tr>\n",
       "      <th>2406</th>\n",
       "      <td>NaN</td>\n",
       "      <td>Rail Yard Ale</td>\n",
       "    </tr>\n",
       "    <tr>\n",
       "      <th>2407</th>\n",
       "      <td>NaN</td>\n",
       "      <td>B3K Black Lager</td>\n",
       "    </tr>\n",
       "    <tr>\n",
       "      <th>2409</th>\n",
       "      <td>NaN</td>\n",
       "      <td>Rail Yard Ale (2009)</td>\n",
       "    </tr>\n",
       "  </tbody>\n",
       "</table>\n",
       "<p>2410 rows × 2 columns</p>\n",
       "</div>"
      ],
      "text/plain": [
       "      ibu                                  name\n",
       "106   4.0                       Summer Solstice\n",
       "112   4.0  Summer Solstice Cerveza Crema (2009)\n",
       "117   4.0                Summer Solstice (2011)\n",
       "2339  5.0                        Westbrook Gose\n",
       "961   5.0                   Chickawawa Lemonale\n",
       "...   ...                                   ...\n",
       "2403  NaN                   Wynkoop Pumpkin Ale\n",
       "2404  NaN           Rocky Mountain Oyster Stout\n",
       "2406  NaN                         Rail Yard Ale\n",
       "2407  NaN                       B3K Black Lager\n",
       "2409  NaN                  Rail Yard Ale (2009)\n",
       "\n",
       "[2410 rows x 2 columns]"
      ]
     },
     "execution_count": 154,
     "metadata": {},
     "output_type": "execute_result"
    }
   ],
   "source": [
    "# Opcion 2\n",
    "df_beer.sort_values(by = 'ibu')[['ibu', 'name']]"
   ]
  },
  {
   "attachments": {},
   "cell_type": "markdown",
   "metadata": {},
   "source": [
    "## Ejercicio 11\n",
    "No queda muy claro cuánto de dispar, de dispersa, es la medida de IBU. Mediante estadística descriptiva (una o dos métricas, sin gráficas), razona la dispersión de la variable IBU."
   ]
  },
  {
   "cell_type": "code",
   "execution_count": 155,
   "metadata": {},
   "outputs": [
    {
     "data": {
      "text/plain": [
       "count    1405.000000\n",
       "mean       42.713167\n",
       "std        25.954066\n",
       "min         4.000000\n",
       "25%        21.000000\n",
       "50%        35.000000\n",
       "75%        64.000000\n",
       "max       138.000000\n",
       "Name: ibu, dtype: float64"
      ]
     },
     "execution_count": 155,
     "metadata": {},
     "output_type": "execute_result"
    }
   ],
   "source": [
    "df_beer['ibu'].describe()"
   ]
  },
  {
   "attachments": {},
   "cell_type": "markdown",
   "metadata": {},
   "source": [
    "## Ejercicio 12\n",
    "¿Existe alguna relación lineal entre las variables numéricas del dataset? Intenta pintar este razonamiento mediante un gráfico"
   ]
  },
  {
   "cell_type": "code",
   "execution_count": 156,
   "metadata": {},
   "outputs": [
    {
     "data": {
      "text/html": [
       "<div>\n",
       "<style scoped>\n",
       "    .dataframe tbody tr th:only-of-type {\n",
       "        vertical-align: middle;\n",
       "    }\n",
       "\n",
       "    .dataframe tbody tr th {\n",
       "        vertical-align: top;\n",
       "    }\n",
       "\n",
       "    .dataframe thead th {\n",
       "        text-align: right;\n",
       "    }\n",
       "</style>\n",
       "<table border=\"1\" class=\"dataframe\">\n",
       "  <thead>\n",
       "    <tr style=\"text-align: right;\">\n",
       "      <th></th>\n",
       "      <th>abv</th>\n",
       "      <th>ibu</th>\n",
       "      <th>id</th>\n",
       "      <th>name</th>\n",
       "      <th>style</th>\n",
       "      <th>brewery_id</th>\n",
       "      <th>ounces</th>\n",
       "    </tr>\n",
       "  </thead>\n",
       "  <tbody>\n",
       "    <tr>\n",
       "      <th>0</th>\n",
       "      <td>0.050</td>\n",
       "      <td>NaN</td>\n",
       "      <td>1436</td>\n",
       "      <td>Pub Beer</td>\n",
       "      <td>American Pale Lager</td>\n",
       "      <td>408</td>\n",
       "      <td>12.0</td>\n",
       "    </tr>\n",
       "    <tr>\n",
       "      <th>1</th>\n",
       "      <td>0.066</td>\n",
       "      <td>NaN</td>\n",
       "      <td>2265</td>\n",
       "      <td>Devil's Cup</td>\n",
       "      <td>American Pale Ale (APA)</td>\n",
       "      <td>177</td>\n",
       "      <td>12.0</td>\n",
       "    </tr>\n",
       "    <tr>\n",
       "      <th>2</th>\n",
       "      <td>0.071</td>\n",
       "      <td>NaN</td>\n",
       "      <td>2264</td>\n",
       "      <td>Rise of the Phoenix</td>\n",
       "      <td>American IPA</td>\n",
       "      <td>177</td>\n",
       "      <td>12.0</td>\n",
       "    </tr>\n",
       "    <tr>\n",
       "      <th>3</th>\n",
       "      <td>0.090</td>\n",
       "      <td>NaN</td>\n",
       "      <td>2263</td>\n",
       "      <td>Sinister</td>\n",
       "      <td>American Double / Imperial IPA</td>\n",
       "      <td>177</td>\n",
       "      <td>12.0</td>\n",
       "    </tr>\n",
       "    <tr>\n",
       "      <th>4</th>\n",
       "      <td>0.075</td>\n",
       "      <td>NaN</td>\n",
       "      <td>2262</td>\n",
       "      <td>Sex and Candy</td>\n",
       "      <td>American IPA</td>\n",
       "      <td>177</td>\n",
       "      <td>12.0</td>\n",
       "    </tr>\n",
       "    <tr>\n",
       "      <th>5</th>\n",
       "      <td>0.077</td>\n",
       "      <td>NaN</td>\n",
       "      <td>2261</td>\n",
       "      <td>Black Exodus</td>\n",
       "      <td>Oatmeal Stout</td>\n",
       "      <td>177</td>\n",
       "      <td>12.0</td>\n",
       "    </tr>\n",
       "    <tr>\n",
       "      <th>6</th>\n",
       "      <td>0.045</td>\n",
       "      <td>NaN</td>\n",
       "      <td>2260</td>\n",
       "      <td>Lake Street Express</td>\n",
       "      <td>American Pale Ale (APA)</td>\n",
       "      <td>177</td>\n",
       "      <td>12.0</td>\n",
       "    </tr>\n",
       "    <tr>\n",
       "      <th>7</th>\n",
       "      <td>0.065</td>\n",
       "      <td>NaN</td>\n",
       "      <td>2259</td>\n",
       "      <td>Foreman</td>\n",
       "      <td>American Porter</td>\n",
       "      <td>177</td>\n",
       "      <td>12.0</td>\n",
       "    </tr>\n",
       "    <tr>\n",
       "      <th>8</th>\n",
       "      <td>0.055</td>\n",
       "      <td>NaN</td>\n",
       "      <td>2258</td>\n",
       "      <td>Jade</td>\n",
       "      <td>American Pale Ale (APA)</td>\n",
       "      <td>177</td>\n",
       "      <td>12.0</td>\n",
       "    </tr>\n",
       "    <tr>\n",
       "      <th>9</th>\n",
       "      <td>0.086</td>\n",
       "      <td>NaN</td>\n",
       "      <td>2131</td>\n",
       "      <td>Cone Crusher</td>\n",
       "      <td>American Double / Imperial IPA</td>\n",
       "      <td>177</td>\n",
       "      <td>12.0</td>\n",
       "    </tr>\n",
       "    <tr>\n",
       "      <th>10</th>\n",
       "      <td>0.072</td>\n",
       "      <td>NaN</td>\n",
       "      <td>2099</td>\n",
       "      <td>Sophomoric Saison</td>\n",
       "      <td>Saison / Farmhouse Ale</td>\n",
       "      <td>177</td>\n",
       "      <td>12.0</td>\n",
       "    </tr>\n",
       "    <tr>\n",
       "      <th>11</th>\n",
       "      <td>0.073</td>\n",
       "      <td>NaN</td>\n",
       "      <td>2098</td>\n",
       "      <td>Regional Ring Of Fire</td>\n",
       "      <td>Saison / Farmhouse Ale</td>\n",
       "      <td>177</td>\n",
       "      <td>12.0</td>\n",
       "    </tr>\n",
       "    <tr>\n",
       "      <th>12</th>\n",
       "      <td>0.069</td>\n",
       "      <td>NaN</td>\n",
       "      <td>2097</td>\n",
       "      <td>Garce Selé</td>\n",
       "      <td>Saison / Farmhouse Ale</td>\n",
       "      <td>177</td>\n",
       "      <td>12.0</td>\n",
       "    </tr>\n",
       "    <tr>\n",
       "      <th>13</th>\n",
       "      <td>0.085</td>\n",
       "      <td>NaN</td>\n",
       "      <td>1980</td>\n",
       "      <td>Troll Destroyer</td>\n",
       "      <td>Belgian IPA</td>\n",
       "      <td>177</td>\n",
       "      <td>12.0</td>\n",
       "    </tr>\n",
       "    <tr>\n",
       "      <th>14</th>\n",
       "      <td>0.061</td>\n",
       "      <td>60.0</td>\n",
       "      <td>1979</td>\n",
       "      <td>Bitter Bitch</td>\n",
       "      <td>American Pale Ale (APA)</td>\n",
       "      <td>177</td>\n",
       "      <td>12.0</td>\n",
       "    </tr>\n",
       "    <tr>\n",
       "      <th>15</th>\n",
       "      <td>0.060</td>\n",
       "      <td>NaN</td>\n",
       "      <td>2318</td>\n",
       "      <td>Ginja Ninja</td>\n",
       "      <td>Cider</td>\n",
       "      <td>154</td>\n",
       "      <td>12.0</td>\n",
       "    </tr>\n",
       "    <tr>\n",
       "      <th>16</th>\n",
       "      <td>0.060</td>\n",
       "      <td>NaN</td>\n",
       "      <td>2170</td>\n",
       "      <td>Cherried Away</td>\n",
       "      <td>Cider</td>\n",
       "      <td>154</td>\n",
       "      <td>12.0</td>\n",
       "    </tr>\n",
       "    <tr>\n",
       "      <th>17</th>\n",
       "      <td>0.060</td>\n",
       "      <td>NaN</td>\n",
       "      <td>2169</td>\n",
       "      <td>Rhubarbarian</td>\n",
       "      <td>Cider</td>\n",
       "      <td>154</td>\n",
       "      <td>12.0</td>\n",
       "    </tr>\n",
       "    <tr>\n",
       "      <th>18</th>\n",
       "      <td>0.060</td>\n",
       "      <td>NaN</td>\n",
       "      <td>1502</td>\n",
       "      <td>BrightCider</td>\n",
       "      <td>Cider</td>\n",
       "      <td>154</td>\n",
       "      <td>12.0</td>\n",
       "    </tr>\n",
       "    <tr>\n",
       "      <th>19</th>\n",
       "      <td>0.082</td>\n",
       "      <td>NaN</td>\n",
       "      <td>1593</td>\n",
       "      <td>He Said Baltic-Style Porter</td>\n",
       "      <td>Baltic Porter</td>\n",
       "      <td>368</td>\n",
       "      <td>12.0</td>\n",
       "    </tr>\n",
       "  </tbody>\n",
       "</table>\n",
       "</div>"
      ],
      "text/plain": [
       "      abv   ibu    id                         name  \\\n",
       "0   0.050   NaN  1436                     Pub Beer   \n",
       "1   0.066   NaN  2265                  Devil's Cup   \n",
       "2   0.071   NaN  2264          Rise of the Phoenix   \n",
       "3   0.090   NaN  2263                     Sinister   \n",
       "4   0.075   NaN  2262                Sex and Candy   \n",
       "5   0.077   NaN  2261                 Black Exodus   \n",
       "6   0.045   NaN  2260          Lake Street Express   \n",
       "7   0.065   NaN  2259                      Foreman   \n",
       "8   0.055   NaN  2258                         Jade   \n",
       "9   0.086   NaN  2131                 Cone Crusher   \n",
       "10  0.072   NaN  2099            Sophomoric Saison   \n",
       "11  0.073   NaN  2098        Regional Ring Of Fire   \n",
       "12  0.069   NaN  2097                   Garce Selé   \n",
       "13  0.085   NaN  1980              Troll Destroyer   \n",
       "14  0.061  60.0  1979                 Bitter Bitch   \n",
       "15  0.060   NaN  2318                  Ginja Ninja   \n",
       "16  0.060   NaN  2170                Cherried Away   \n",
       "17  0.060   NaN  2169                 Rhubarbarian   \n",
       "18  0.060   NaN  1502                  BrightCider   \n",
       "19  0.082   NaN  1593  He Said Baltic-Style Porter   \n",
       "\n",
       "                             style  brewery_id  ounces  \n",
       "0              American Pale Lager         408    12.0  \n",
       "1          American Pale Ale (APA)         177    12.0  \n",
       "2                     American IPA         177    12.0  \n",
       "3   American Double / Imperial IPA         177    12.0  \n",
       "4                     American IPA         177    12.0  \n",
       "5                    Oatmeal Stout         177    12.0  \n",
       "6          American Pale Ale (APA)         177    12.0  \n",
       "7                  American Porter         177    12.0  \n",
       "8          American Pale Ale (APA)         177    12.0  \n",
       "9   American Double / Imperial IPA         177    12.0  \n",
       "10          Saison / Farmhouse Ale         177    12.0  \n",
       "11          Saison / Farmhouse Ale         177    12.0  \n",
       "12          Saison / Farmhouse Ale         177    12.0  \n",
       "13                     Belgian IPA         177    12.0  \n",
       "14         American Pale Ale (APA)         177    12.0  \n",
       "15                           Cider         154    12.0  \n",
       "16                           Cider         154    12.0  \n",
       "17                           Cider         154    12.0  \n",
       "18                           Cider         154    12.0  \n",
       "19                   Baltic Porter         368    12.0  "
      ]
     },
     "execution_count": 156,
     "metadata": {},
     "output_type": "execute_result"
    }
   ],
   "source": [
    "df_beer.head(20)"
   ]
  },
  {
   "cell_type": "code",
   "execution_count": null,
   "metadata": {},
   "outputs": [],
   "source": []
  },
  {
   "attachments": {},
   "cell_type": "markdown",
   "metadata": {},
   "source": [
    "## Ejercicio 13\n",
    "Representa el nivel de alcohol (columna `abv`) en un histograma. ¿Se trata de una distribución simétrica o asimétrica?"
   ]
  },
  {
   "cell_type": "code",
   "execution_count": 157,
   "metadata": {},
   "outputs": [],
   "source": [
    "import matplotlib.pyplot as plt"
   ]
  },
  {
   "cell_type": "code",
   "execution_count": 158,
   "metadata": {},
   "outputs": [
    {
     "data": {
      "text/plain": [
       "(array([  1.,   0.,  38., 699., 857., 486., 159., 104.,   1.,   3.]),\n",
       " array([0.001 , 0.0137, 0.0264, 0.0391, 0.0518, 0.0645, 0.0772, 0.0899,\n",
       "        0.1026, 0.1153, 0.128 ]),\n",
       " <BarContainer object of 10 artists>)"
      ]
     },
     "execution_count": 158,
     "metadata": {},
     "output_type": "execute_result"
    },
    {
     "data": {
      "image/png": "[encoded data removed]",
      "text/plain": [
       "<Figure size 640x480 with 1 Axes>"
      ]
     },
     "metadata": {},
     "output_type": "display_data"
    }
   ],
   "source": [
    "plt.hist(df_beer.abv)"
   ]
  },
  {
   "cell_type": "code",
   "execution_count": 159,
   "metadata": {},
   "outputs": [],
   "source": [
    "# !pip install scipy"
   ]
  },
  {
   "attachments": {},
   "cell_type": "markdown",
   "metadata": {},
   "source": [
    "## Ejercicio 14\n",
    "Representa mediante un *boxplot* de `seaborn` la variable `abv`"
   ]
  },
  {
   "cell_type": "code",
   "execution_count": 72,
   "metadata": {},
   "outputs": [],
   "source": []
  },
  {
   "cell_type": "code",
   "execution_count": null,
   "metadata": {},
   "outputs": [],
   "source": []
  },
  {
   "attachments": {},
   "cell_type": "markdown",
   "metadata": {},
   "source": [
    "## Ejercicio 15\n",
    "1. ¿Qué estilos son los que tienen en media más alcohol?\n",
    "2. ¿Y los estilos que son en media más amargos?"
   ]
  },
  {
   "cell_type": "code",
   "execution_count": 160,
   "metadata": {},
   "outputs": [
    {
     "data": {
      "text/html": [
       "<div>\n",
       "<style scoped>\n",
       "    .dataframe tbody tr th:only-of-type {\n",
       "        vertical-align: middle;\n",
       "    }\n",
       "\n",
       "    .dataframe tbody tr th {\n",
       "        vertical-align: top;\n",
       "    }\n",
       "\n",
       "    .dataframe thead th {\n",
       "        text-align: right;\n",
       "    }\n",
       "</style>\n",
       "<table border=\"1\" class=\"dataframe\">\n",
       "  <thead>\n",
       "    <tr style=\"text-align: right;\">\n",
       "      <th></th>\n",
       "      <th>abv</th>\n",
       "      <th>ibu</th>\n",
       "      <th>id</th>\n",
       "      <th>name</th>\n",
       "      <th>style</th>\n",
       "      <th>brewery_id</th>\n",
       "      <th>ounces</th>\n",
       "    </tr>\n",
       "  </thead>\n",
       "  <tbody>\n",
       "    <tr>\n",
       "      <th>0</th>\n",
       "      <td>0.050</td>\n",
       "      <td>NaN</td>\n",
       "      <td>1436</td>\n",
       "      <td>Pub Beer</td>\n",
       "      <td>American Pale Lager</td>\n",
       "      <td>408</td>\n",
       "      <td>12.0</td>\n",
       "    </tr>\n",
       "    <tr>\n",
       "      <th>1</th>\n",
       "      <td>0.066</td>\n",
       "      <td>NaN</td>\n",
       "      <td>2265</td>\n",
       "      <td>Devil's Cup</td>\n",
       "      <td>American Pale Ale (APA)</td>\n",
       "      <td>177</td>\n",
       "      <td>12.0</td>\n",
       "    </tr>\n",
       "    <tr>\n",
       "      <th>2</th>\n",
       "      <td>0.071</td>\n",
       "      <td>NaN</td>\n",
       "      <td>2264</td>\n",
       "      <td>Rise of the Phoenix</td>\n",
       "      <td>American IPA</td>\n",
       "      <td>177</td>\n",
       "      <td>12.0</td>\n",
       "    </tr>\n",
       "    <tr>\n",
       "      <th>3</th>\n",
       "      <td>0.090</td>\n",
       "      <td>NaN</td>\n",
       "      <td>2263</td>\n",
       "      <td>Sinister</td>\n",
       "      <td>American Double / Imperial IPA</td>\n",
       "      <td>177</td>\n",
       "      <td>12.0</td>\n",
       "    </tr>\n",
       "    <tr>\n",
       "      <th>4</th>\n",
       "      <td>0.075</td>\n",
       "      <td>NaN</td>\n",
       "      <td>2262</td>\n",
       "      <td>Sex and Candy</td>\n",
       "      <td>American IPA</td>\n",
       "      <td>177</td>\n",
       "      <td>12.0</td>\n",
       "    </tr>\n",
       "  </tbody>\n",
       "</table>\n",
       "</div>"
      ],
      "text/plain": [
       "     abv  ibu    id                 name                           style  \\\n",
       "0  0.050  NaN  1436             Pub Beer             American Pale Lager   \n",
       "1  0.066  NaN  2265          Devil's Cup         American Pale Ale (APA)   \n",
       "2  0.071  NaN  2264  Rise of the Phoenix                    American IPA   \n",
       "3  0.090  NaN  2263             Sinister  American Double / Imperial IPA   \n",
       "4  0.075  NaN  2262        Sex and Candy                    American IPA   \n",
       "\n",
       "   brewery_id  ounces  \n",
       "0         408    12.0  \n",
       "1         177    12.0  \n",
       "2         177    12.0  \n",
       "3         177    12.0  \n",
       "4         177    12.0  "
      ]
     },
     "execution_count": 160,
     "metadata": {},
     "output_type": "execute_result"
    }
   ],
   "source": [
    "df_beer.head()"
   ]
  },
  {
   "cell_type": "code",
   "execution_count": 161,
   "metadata": {},
   "outputs": [
    {
     "data": {
      "text/plain": [
       "array(['American Pale Lager', 'American Pale Ale (APA)', 'American IPA',\n",
       "       'American Double / Imperial IPA', 'Oatmeal Stout',\n",
       "       'American Porter', 'Saison / Farmhouse Ale', 'Belgian IPA',\n",
       "       'Cider', 'Baltic Porter', 'Tripel', 'American Barleywine',\n",
       "       'Winter Warmer', 'American Stout', 'Fruit / Vegetable Beer',\n",
       "       'English Strong Ale', 'American Black Ale', 'Belgian Dark Ale',\n",
       "       'American Blonde Ale', 'American Amber / Red Ale',\n",
       "       'Berliner Weissbier', 'American Brown Ale',\n",
       "       'American Pale Wheat Ale', 'Belgian Strong Dark Ale', 'Kölsch',\n",
       "       'English Pale Ale', 'American Amber / Red Lager',\n",
       "       'English Barleywine', 'Milk / Sweet Stout', 'German Pilsener',\n",
       "       'Pumpkin Ale', 'Belgian Pale Ale', 'American Pilsner',\n",
       "       'American Wild Ale', 'English Brown Ale', 'Altbier',\n",
       "       'California Common / Steam Beer', 'Gose', 'Cream Ale',\n",
       "       'Vienna Lager', 'Witbier', 'American Double / Imperial Stout',\n",
       "       'Munich Helles Lager', 'Schwarzbier', 'Märzen / Oktoberfest',\n",
       "       'Extra Special / Strong Bitter (ESB)', 'Rye Beer',\n",
       "       'Euro Dark Lager', 'Hefeweizen', 'Foreign / Export Stout', 'Other',\n",
       "       'English India Pale Ale (IPA)', 'Czech Pilsener',\n",
       "       'American Strong Ale', 'Mead', 'Euro Pale Lager',\n",
       "       'American White IPA', 'Dortmunder / Export Lager',\n",
       "       'Irish Dry Stout', 'Scotch Ale / Wee Heavy', 'Munich Dunkel Lager',\n",
       "       'Radler', 'Bock', 'English Dark Mild Ale', 'Irish Red Ale',\n",
       "       'Rauchbier', 'Bière de Garde', 'Doppelbock', 'Dunkelweizen',\n",
       "       'Belgian Strong Pale Ale', 'Dubbel', 'Quadrupel (Quad)',\n",
       "       'Russian Imperial Stout', 'English Pale Mild Ale',\n",
       "       'Maibock / Helles Bock', 'Herbed / Spiced Beer',\n",
       "       'American Adjunct Lager', 'Scottish Ale', nan, 'Smoked Beer',\n",
       "       'Light Lager', 'Abbey Single Ale', 'Roggenbier', 'Kristalweizen',\n",
       "       'American Dark Wheat Ale', 'English Stout', 'Old Ale',\n",
       "       'American Double / Imperial Pilsner', 'Flanders Red Ale',\n",
       "       'Keller Bier / Zwickel Bier', 'American India Pale Lager',\n",
       "       'Shandy', 'Wheat Ale', 'American Malt Liquor', 'English Bitter',\n",
       "       'Chile Beer', 'Grisette', 'Flanders Oud Bruin', 'Braggot',\n",
       "       'Low Alcohol Beer'], dtype=object)"
      ]
     },
     "execution_count": 161,
     "metadata": {},
     "output_type": "execute_result"
    }
   ],
   "source": [
    "df_beer['style'].unique()"
   ]
  },
  {
   "cell_type": "code",
   "execution_count": 162,
   "metadata": {},
   "outputs": [
    {
     "data": {
      "text/plain": [
       "style\n",
       "English Barleywine        0.107667\n",
       "Quadrupel (Quad)          0.104000\n",
       "American Barleywine       0.099000\n",
       "American Malt Liquor      0.099000\n",
       "Russian Imperial Stout    0.097636\n",
       "                            ...   \n",
       "Berliner Weissbier        0.043909\n",
       "English Dark Mild Ale     0.041500\n",
       "Light Lager               0.040417\n",
       "Radler                    0.040333\n",
       "Low Alcohol Beer          0.001000\n",
       "Name: abv, Length: 99, dtype: float64"
      ]
     },
     "execution_count": 162,
     "metadata": {},
     "output_type": "execute_result"
    }
   ],
   "source": [
    "# Estilos con más alcohol de media:\n",
    "abv_per_style = df_beer.groupby('style')['abv'].mean().sort_values(ascending = False)\n",
    "abv_per_style"
   ]
  },
  {
   "cell_type": "code",
   "execution_count": 163,
   "metadata": {},
   "outputs": [
    {
     "data": {
      "text/plain": [
       "style\n",
       "American Barleywine                   96.00\n",
       "American Double / Imperial IPA        93.32\n",
       "Russian Imperial Stout                86.50\n",
       "American Double / Imperial Pilsner    85.00\n",
       "Belgian Strong Dark Ale               72.00\n",
       "                                      ...  \n",
       "Kristalweizen                           NaN\n",
       "Low Alcohol Beer                        NaN\n",
       "Mead                                    NaN\n",
       "Rauchbier                               NaN\n",
       "Shandy                                  NaN\n",
       "Name: ibu, Length: 99, dtype: float64"
      ]
     },
     "execution_count": 163,
     "metadata": {},
     "output_type": "execute_result"
    }
   ],
   "source": [
    "# Estilos con más ibu de media:\n",
    "ibu_per_style = df_beer.groupby('style')['ibu'].mean().sort_values(ascending = False)\n",
    "ibu_per_style"
   ]
  },
  {
   "cell_type": "code",
   "execution_count": 166,
   "metadata": {},
   "outputs": [
    {
     "name": "stdout",
     "output_type": "stream",
     "text": [
      "<class 'pandas.core.frame.DataFrame'>\n",
      "Index: 1405 entries, 14 to 2408\n",
      "Data columns (total 7 columns):\n",
      " #   Column      Non-Null Count  Dtype  \n",
      "---  ------      --------------  -----  \n",
      " 0   abv         1405 non-null   float64\n",
      " 1   ibu         1405 non-null   float64\n",
      " 2   id          1405 non-null   int64  \n",
      " 3   name        1405 non-null   object \n",
      " 4   style       1403 non-null   object \n",
      " 5   brewery_id  1405 non-null   int64  \n",
      " 6   ounces      1405 non-null   float64\n",
      "dtypes: float64(3), int64(2), object(2)\n",
      "memory usage: 87.8+ KB\n"
     ]
    }
   ],
   "source": [
    "# Eliminando los nan quedaría:\n",
    "df_beers2 = df_beer.dropna(subset = ['ibu'])\n",
    "df_beers2.info()"
   ]
  },
  {
   "cell_type": "code",
   "execution_count": 168,
   "metadata": {},
   "outputs": [
    {
     "data": {
      "text/plain": [
       "style\n",
       "American Barleywine                   96.000000\n",
       "American Double / Imperial IPA        93.320000\n",
       "Russian Imperial Stout                86.500000\n",
       "American Double / Imperial Pilsner    85.000000\n",
       "Belgian Strong Dark Ale               72.000000\n",
       "                                        ...    \n",
       "Fruit / Vegetable Beer                14.200000\n",
       "Light Lager                           11.666667\n",
       "American Adjunct Lager                11.000000\n",
       "Gose                                   9.428571\n",
       "Berliner Weissbier                     7.800000\n",
       "Name: ibu, Length: 90, dtype: float64"
      ]
     },
     "execution_count": 168,
     "metadata": {},
     "output_type": "execute_result"
    }
   ],
   "source": [
    "df_beers2.groupby('style')['ibu'].mean().sort_values(ascending = False)"
   ]
  },
  {
   "attachments": {},
   "cell_type": "markdown",
   "metadata": {},
   "source": [
    "## Ejercicio 16\n",
    "Carga el datasets de cervecerias `datasets_breweries.csv`"
   ]
  },
  {
   "cell_type": "code",
   "execution_count": null,
   "metadata": {},
   "outputs": [],
   "source": []
  },
  {
   "cell_type": "code",
   "execution_count": null,
   "metadata": {},
   "outputs": [],
   "source": []
  },
  {
   "cell_type": "code",
   "execution_count": null,
   "metadata": {},
   "outputs": [],
   "source": []
  },
  {
   "attachments": {},
   "cell_type": "markdown",
   "metadata": {},
   "source": [
    "## Ejercicio 17\n",
    "1. Renombra la columna `Unnamed: 0` como `brewery_id`\n",
    "2. Renombra también la columna `name` por `brewery_name`. ¿Puedes hacer ambos apartados en una sola sentencia?"
   ]
  },
  {
   "cell_type": "code",
   "execution_count": 81,
   "metadata": {},
   "outputs": [],
   "source": []
  },
  {
   "cell_type": "code",
   "execution_count": null,
   "metadata": {},
   "outputs": [],
   "source": []
  },
  {
   "attachments": {},
   "cell_type": "markdown",
   "metadata": {},
   "source": [
    "## Ejercicio 18\n",
    "Junta los dos datasets que tienes"
   ]
  },
  {
   "cell_type": "code",
   "execution_count": null,
   "metadata": {},
   "outputs": [],
   "source": []
  },
  {
   "cell_type": "code",
   "execution_count": null,
   "metadata": {},
   "outputs": [],
   "source": []
  },
  {
   "cell_type": "code",
   "execution_count": null,
   "metadata": {},
   "outputs": [],
   "source": []
  },
  {
   "cell_type": "code",
   "execution_count": null,
   "metadata": {},
   "outputs": [],
   "source": []
  },
  {
   "attachments": {},
   "cell_type": "markdown",
   "metadata": {},
   "source": [
    "## Ejercicio 19\n",
    "1. ¿Cuántos estados diferentes hay?\n",
    "2. ¿Y ciudades diferentes?\n",
    "3. ¿Cuántas cervecerías hay?"
   ]
  },
  {
   "cell_type": "code",
   "execution_count": null,
   "metadata": {},
   "outputs": [],
   "source": []
  },
  {
   "cell_type": "code",
   "execution_count": null,
   "metadata": {},
   "outputs": [],
   "source": []
  },
  {
   "cell_type": "code",
   "execution_count": null,
   "metadata": {},
   "outputs": [],
   "source": []
  },
  {
   "cell_type": "code",
   "execution_count": null,
   "metadata": {},
   "outputs": [],
   "source": []
  },
  {
   "attachments": {},
   "cell_type": "markdown",
   "metadata": {},
   "source": [
    "## Ejercicio 20\n",
    "Agrupa por estado y ciudad, la media, mediana y máximo nivel de alcohol"
   ]
  },
  {
   "cell_type": "code",
   "execution_count": null,
   "metadata": {},
   "outputs": [],
   "source": []
  },
  {
   "attachments": {},
   "cell_type": "markdown",
   "metadata": {},
   "source": [
    "## Ejercicio 21\n",
    "¿Cuáles son las cervezas más amargas que se consumen en Indiana, estado = `IN`?"
   ]
  },
  {
   "cell_type": "code",
   "execution_count": null,
   "metadata": {},
   "outputs": [],
   "source": []
  },
  {
   "cell_type": "code",
   "execution_count": null,
   "metadata": {},
   "outputs": [],
   "source": []
  },
  {
   "cell_type": "code",
   "execution_count": null,
   "metadata": {},
   "outputs": [],
   "source": []
  },
  {
   "cell_type": "code",
   "execution_count": null,
   "metadata": {},
   "outputs": [],
   "source": []
  },
  {
   "attachments": {},
   "cell_type": "markdown",
   "metadata": {},
   "source": [
    "## Ejercicio 22\n",
    "Obtén una tabla con los principales estadísticos del campo `ibu`,  a nivel ciudad"
   ]
  },
  {
   "cell_type": "code",
   "execution_count": null,
   "metadata": {},
   "outputs": [],
   "source": []
  },
  {
   "cell_type": "code",
   "execution_count": null,
   "metadata": {},
   "outputs": [],
   "source": []
  },
  {
   "cell_type": "code",
   "execution_count": null,
   "metadata": {},
   "outputs": [],
   "source": []
  },
  {
   "attachments": {},
   "cell_type": "markdown",
   "metadata": {},
   "source": [
    "## Ejercicio 23\n",
    "Consigue en un DataFrame de todas las cervezas en cuyas cervecerías al menos haya una cerveza con un `abv` mínimo 0.07."
   ]
  },
  {
   "cell_type": "code",
   "execution_count": 32,
   "metadata": {},
   "outputs": [],
   "source": [
    "# todas las cervezas, que venda una cervecería, donde al menos una de ellas sea de 0.07 para arriba"
   ]
  },
  {
   "cell_type": "code",
   "execution_count": null,
   "metadata": {},
   "outputs": [],
   "source": []
  },
  {
   "cell_type": "code",
   "execution_count": null,
   "metadata": {},
   "outputs": [],
   "source": []
  },
  {
   "cell_type": "code",
   "execution_count": null,
   "metadata": {},
   "outputs": [],
   "source": []
  },
  {
   "cell_type": "code",
   "execution_count": null,
   "metadata": {},
   "outputs": [],
   "source": []
  },
  {
   "cell_type": "code",
   "execution_count": null,
   "metadata": {},
   "outputs": [],
   "source": []
  },
  {
   "cell_type": "code",
   "execution_count": null,
   "metadata": {},
   "outputs": [],
   "source": []
  },
  {
   "attachments": {},
   "cell_type": "markdown",
   "metadata": {},
   "source": [
    "## Ejercicio 24\n",
    "Teniendo en cuenta la media de amargor de todas las cervezas, obtén una tabla con las cervezas cuyos estados tengan una media de amargor en cerveza por encima de la media"
   ]
  },
  {
   "cell_type": "code",
   "execution_count": 33,
   "metadata": {},
   "outputs": [],
   "source": [
    "# Las cervezas que se encuentran en aquellos estados, cuya media de amargor, sea superior a la media de amargor total"
   ]
  },
  {
   "cell_type": "code",
   "execution_count": null,
   "metadata": {},
   "outputs": [],
   "source": []
  },
  {
   "cell_type": "code",
   "execution_count": null,
   "metadata": {},
   "outputs": [],
   "source": []
  },
  {
   "cell_type": "code",
   "execution_count": null,
   "metadata": {},
   "outputs": [],
   "source": []
  },
  {
   "cell_type": "code",
   "execution_count": null,
   "metadata": {},
   "outputs": [],
   "source": []
  }
 ],
 "metadata": {
  "kernelspec": {
   "display_name": "Python 3",
   "language": "python",
   "name": "python3"
  },
  "language_info": {
   "codemirror_mode": {
    "name": "ipython",
    "version": 3
   },
   "file_extension": ".py",
   "mimetype": "text/x-python",
   "name": "python",
   "nbconvert_exporter": "python",
   "pygments_lexer": "ipython3",
   "version": "3.9.6"
  }
 },
 "nbformat": 4,
 "nbformat_minor": 4
}
