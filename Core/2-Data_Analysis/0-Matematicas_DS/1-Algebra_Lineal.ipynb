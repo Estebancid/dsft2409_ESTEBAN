{
 "cells": [
  {
   "cell_type": "markdown",
   "metadata": {
    "colab_type": "text",
    "id": "GLie_cEH_lZm"
   },
   "source": [
    "# Algebra Lineal con Python"
   ]
  },
  {
   "cell_type": "markdown",
   "metadata": {
    "colab_type": "text",
    "id": "9n56-m2h_lZn"
   },
   "source": [
    "<img alt=\"Algebra lineal\" title=\"Algebra lineal\" src=\"http://relopezbriega.github.io/images/lin-alg.jpg\">"
   ]
  },
  {
   "cell_type": "markdown",
   "metadata": {
    "colab_type": "text",
    "id": "sENBeN2i_lZn"
   },
   "source": [
    "## Introducción\n",
    "\n",
    "Una de las herramientas matemáticas más utilizadas en [machine learning](http://es.wikipedia.org/wiki/Machine_learning) y [data mining](http://es.wikipedia.org/wiki/Miner%C3%ADa_de_datos) es el [Álgebra lineal](http://es.wikipedia.org/wiki/%C3%81lgebra_lineal); por tanto, si queremos incursionar en el fascinante mundo del aprendizaje automático y el análisis de datos es importante reforzar los conceptos que forman parte de sus cimientos. \n",
    "\n",
    "El [Álgebra lineal](http://es.wikipedia.org/wiki/%C3%81lgebra_lineal) es una rama de las [matemáticas](http://es.wikipedia.org/wiki/Matem%C3%A1ticas) que es sumamente utilizada en el estudio de una gran variedad de ciencias, como ingeniería, finanzas, investigación operativa, entre otras. Es una extensión del [álgebra](http://es.wikipedia.org/wiki/%C3%81lgebra) que aprendemos en la escuela secundaria, hacia un mayor número de dimensiones; en lugar de trabajar con incógnitas a nivel de <a href=\"http://es.wikipedia.org/wiki/Escalar_(matem%C3%A1tica)\">escalares</a> comenzamos a trabajar con <a href=\"http://es.wikipedia.org/wiki/Matriz_(matem%C3%A1ticas)\">matrices</a> y [vectores](http://es.wikipedia.org/wiki/Vector).  \n",
    "\n",
    "El estudio del [Álgebra lineal](http://es.wikipedia.org/wiki/%C3%81lgebra_lineal) implica trabajar con varios objetos matemáticos, como ser:\n",
    "\n",
    "* **Los <a href=\"http://es.wikipedia.org/wiki/Escalar_(matem%C3%A1tica)\">Escalares</a>**: Un *escalar* es un solo número, en contraste con la mayoría de los otros objetos estudiados en [Álgebra lineal](http://es.wikipedia.org/wiki/%C3%81lgebra_lineal), que son generalmente una colección de múltiples números.\n",
    "\n",
    "* **Los [Vectores](http://es.wikipedia.org/wiki/Vector)**:Un *vector* es una serie de números. Los números tienen una orden preestablecido, y podemos identificar cada número individual por su índice en ese orden. Podemos pensar en los  *vectores* como la identificación de puntos en el espacio, con cada elemento que da la coordenada a lo largo de un eje diferente. Existen dos tipos de *vectores*, los *vectores de fila* y los *vectores de columna*. Podemos representarlos de la siguiente manera, dónde *f* es un vector de fila y *c* es un vector de columna:\n",
    "$$f=\\begin{bmatrix}0&1&-1\\end{bmatrix} ;       c=\\begin{bmatrix}0\\\\1\\\\-1\\end{bmatrix}$$\n",
    "\n",
    "* **Las <a href=\"http://es.wikipedia.org/wiki/Matriz_(matem%C3%A1ticas)\">Matrices</a>**: Una *matriz* es un arreglo bidimensional de números (llamados entradas de la matriz) ordenados en filas (o renglones) y columnas, donde una fila es cada una de las líneas horizontales de la matriz y una columna es cada una de las líneas verticales. En una *matriz* cada elemento puede ser identificado utilizando dos índices, uno para la fila y otro para la columna en que se encuentra. Las podemos representar de la siguiente manera, *A* es una matriz de 3x2.\n",
    "$$A=\\begin{bmatrix}0 & 1& \\\\-1 & 2 \\\\ -2 & 3\\end{bmatrix}$$\n",
    "\n",
    "* **Los [Tensores](http://es.wikipedia.org/wiki/C%C3%A1lculo_tensorial)**:En algunos casos necesitaremos una matriz con más de dos ejes. En general, una serie de números dispuestos en una cuadrícula regular con un número variable de ejes es conocido como un *tensor*.\n",
    "\n",
    "Sobre estos objetos podemos realizar las operaciones matemáticas básicas, como ser [adición](http://es.wikipedia.org/wiki/Adici%C3%B3n), [multiplicación](http://es.wikipedia.org/wiki/Multiplicaci%C3%B3n), [sustracción](http://es.wikipedia.org/wiki/Sustracci%C3%B3n) y <a href=\"http://es.wikipedia.org/wiki/Divisi%C3%B3n_(matem%C3%A1tica)\" >división</a>, es decir que vamos a poder sumar [vectores](http://es.wikipedia.org/wiki/Vector) con <a href=\"http://es.wikipedia.org/wiki/Matriz_(matem%C3%A1ticas)\">matrices</a>, multiplicar <a href=\"http://es.wikipedia.org/wiki/Escalar_(matem%C3%A1tica)\">escalares</a> a [vectores](http://es.wikipedia.org/wiki/Vector) y demás."
   ]
  },
  {
   "cell_type": "markdown",
   "metadata": {
    "colab_type": "text",
    "id": "7YWQ9vG__lZo"
   },
   "source": [
    "## Librerías de Python para álgebra lineal\n",
    "\n",
    "Los principales módulos que [Python](http://python.org/) nos ofrece para realizar operaciones de [Álgebra lineal](http://es.wikipedia.org/wiki/%C3%81lgebra_lineal) son los siguientes:\n",
    "\n",
    "* **[Numpy](http://www.numpy.org/)**: El popular paquete matemático de [Python](http://python.org/), nos va a permitir crear *[vectores](http://es.wikipedia.org/wiki/Vector)*, *<a href=\"http://es.wikipedia.org/wiki/Matriz_(matem%C3%A1ticas)\">matrices</a>* y *[tensores](http://es.wikipedia.org/wiki/C%C3%A1lculo_tensorial)* con suma facilidad.\n",
    "\n",
    "* **[numpy.linalg](http://docs.scipy.org/doc/numpy/reference/routines.linalg.html)**: Este es un submodulo dentro de [Numpy](http://www.numpy.org/) con un gran número de funciones para resolver ecuaciones de [Álgebra lineal](http://es.wikipedia.org/wiki/%C3%81lgebra_lineal).\n",
    "\n",
    "* **[scipy.linalg](http://docs.scipy.org/doc/scipy/reference/tutorial/linalg.html)**: Este submodulo del paquete científico [Scipy](http://docs.scipy.org/doc/scipy/reference/index.html) es muy similar al anterior, pero con algunas más funciones y optimaciones.\n",
    "\n",
    "* **[Sympy](http://www.sympy.org/es/)**: Esta librería nos permite trabajar con matemática simbólica, convierte a [Python](http://python.org/) en un [sistema algebraico computacional](http://es.wikipedia.org/wiki/Sistema_algebraico_computacional). Nos va a permitir trabajar con ecuaciones y fórmulas simbólicamente, en lugar de numéricamente.\n",
    "\n",
    "* **[CVXOPT](http://cvxopt.org/)**: Este módulo nos permite resolver problemas de optimizaciones de [programación lineal](http://es.wikipedia.org/wiki/Programaci%C3%B3n_lineal). \n",
    "\n",
    "* **[PuLP](http://pythonhosted.org//PuLP/)**: Esta librería nos permite crear modelos de [programación lineal](http://es.wikipedia.org/wiki/Programaci%C3%B3n_lineal) en forma muy sencilla con [Python](http://python.org/)."
   ]
  },
  {
   "cell_type": "markdown",
   "metadata": {},
   "source": [
    "## ALGEBRA LINEAL EN DATA SCIENCE\n",
    "1. Representación de Datos\n",
    "2. Reducción de Dimensionalidad\n",
    "3. Modelos de Regresión y Optimización\n",
    "4. Redes Neuronales\n",
    "5. Análisis de Similaridad y Distancias\n",
    "6. Métodos de Descomposición y Factorización\n",
    "7. Procesamiento de Imágenes y Texto"
   ]
  },
  {
   "cell_type": "code",
   "execution_count": null,
   "metadata": {},
   "outputs": [],
   "source": [
    "%pip install numpy\n"
   ]
  },
  {
   "cell_type": "code",
   "execution_count": null,
   "metadata": {},
   "outputs": [],
   "source": [
    "%pip freeze"
   ]
  },
  {
   "cell_type": "code",
   "execution_count": 1,
   "metadata": {},
   "outputs": [],
   "source": [
    "import numpy as np"
   ]
  },
  {
   "cell_type": "markdown",
   "metadata": {
    "colab_type": "text",
    "id": "aaD5HprF_lZo"
   },
   "source": [
    "## Operaciones básicas"
   ]
  },
  {
   "cell_type": "markdown",
   "metadata": {
    "colab_type": "text",
    "id": "C5da7Osq_lZp"
   },
   "source": [
    "### Vectores\n",
    "\n",
    "Un *[vector](http://es.wikipedia.org/wiki/Vector)* de largo `n` es una secuencia (o *array*, o *tupla*) de `n` números. La solemos escribir como x=(x1,...,xn) o x=[x1,...,xn]\n",
    "\n",
    "En [Python](http://python.org/), un *[vector](http://es.wikipedia.org/wiki/Vector)* puede ser representado con una simple *lista*, o con un *array* de [Numpy](http://www.numpy.org/); siendo preferible utilizar esta última opción."
   ]
  },
  {
   "cell_type": "code",
   "execution_count": null,
   "metadata": {
    "colab": {},
    "colab_type": "code",
    "collapsed": false,
    "id": "HZ7H_sTn_lZp",
    "jupyter": {
     "outputs_hidden": false
    },
    "outputId": "ac39aa7c-2a89-4501-c66e-3000f3227a2f"
   },
   "outputs": [],
   "source": [
    "# Vector como lista de Python\n",
    "v1 = [2, 4, 6]\n",
    "v1"
   ]
  },
  {
   "cell_type": "code",
   "execution_count": null,
   "metadata": {},
   "outputs": [],
   "source": [
    "type(v1)"
   ]
  },
  {
   "cell_type": "code",
   "execution_count": null,
   "metadata": {},
   "outputs": [],
   "source": [
    "# Vectores con numpy\n",
    "import numpy as np\n",
    "\n",
    "type(np.array(v1))"
   ]
  },
  {
   "cell_type": "code",
   "execution_count": null,
   "metadata": {
    "colab": {},
    "colab_type": "code",
    "collapsed": false,
    "id": "6dsVtrVP_lZt",
    "jupyter": {
     "outputs_hidden": false
    },
    "outputId": "fe736923-76c8-455f-c8ce-6f1341b9fd6c"
   },
   "outputs": [],
   "source": [
    "v2 = np.ones(3) # vector de solo unos.\n",
    "v2"
   ]
  },
  {
   "cell_type": "code",
   "execution_count": null,
   "metadata": {},
   "outputs": [],
   "source": [
    "[1, 3, 5] * 2"
   ]
  },
  {
   "cell_type": "code",
   "execution_count": null,
   "metadata": {
    "colab": {},
    "colab_type": "code",
    "collapsed": false,
    "id": "27fz9iqG_lZw",
    "jupyter": {
     "outputs_hidden": false
    },
    "outputId": "bd28923c-bc05-4731-ceb5-d99578cbfd04"
   },
   "outputs": [],
   "source": [
    "v3 = np.array([1, 3, 5]) # pasando una lista a las arrays de numpy\n",
    "v3"
   ]
  },
  {
   "cell_type": "code",
   "execution_count": null,
   "metadata": {},
   "outputs": [],
   "source": [
    "v3 * 2"
   ]
  },
  {
   "cell_type": "code",
   "execution_count": 8,
   "metadata": {
    "colab": {},
    "colab_type": "code",
    "collapsed": false,
    "id": "RJ_jKS9O_lZy",
    "jupyter": {
     "outputs_hidden": false
    },
    "outputId": "f5bcd9de-7380-4ba4-ecba-17f440ded6c7"
   },
   "outputs": [
    {
     "data": {
      "text/plain": [
       "array([1, 2, 3, 4, 5, 6, 7])"
      ]
     },
     "execution_count": 8,
     "metadata": {},
     "output_type": "execute_result"
    }
   ],
   "source": [
    "v4 = np.arange(1, 8) # utilizando la funcion arange de numpy\n",
    "v4"
   ]
  },
  {
   "cell_type": "markdown",
   "metadata": {
    "colab_type": "text",
    "id": "S1CuAI4S_lZ1"
   },
   "source": [
    "### Representación gráfica\n",
    "\n",
    "Tradicionalmente, los *[vectores](http://es.wikipedia.org/wiki/Vector)* son representados visualmente como flechas que parten desde el origen hacia un punto.\n",
    "\n",
    "Por ejemplo, si quisiéramos representar graficamente a los vectores v1=[2, 4], v2=[-3, 3] y v3=[-4, -3.5], podríamos hacerlo de la siguiente manera."
   ]
  },
  {
   "cell_type": "code",
   "execution_count": 10,
   "metadata": {},
   "outputs": [
    {
     "name": "stdout",
     "output_type": "stream",
     "text": [
      "Collecting matplotlib\n",
      "  Downloading matplotlib-3.9.2-cp39-cp39-macosx_10_12_x86_64.whl (7.9 MB)\n",
      "\u001b[K     |████████████████████████████████| 7.9 MB 2.6 MB/s eta 0:00:01\n",
      "\u001b[?25hCollecting fonttools>=4.22.0\n",
      "  Downloading fonttools-4.54.1-cp39-cp39-macosx_10_9_universal2.whl (2.8 MB)\n",
      "\u001b[K     |████████████████████████████████| 2.8 MB 19.9 MB/s eta 0:00:01\n",
      "\u001b[?25hCollecting contourpy>=1.0.1\n",
      "  Downloading contourpy-1.3.0-cp39-cp39-macosx_10_9_x86_64.whl (265 kB)\n",
      "\u001b[K     |████████████████████████████████| 265 kB 9.6 MB/s eta 0:00:01\n",
      "\u001b[?25hCollecting cycler>=0.10\n",
      "  Downloading cycler-0.12.1-py3-none-any.whl (8.3 kB)\n",
      "Requirement already satisfied: numpy>=1.23 in /Users/estebancid_/Library/Python/3.9/lib/python/site-packages (from matplotlib) (2.0.2)\n",
      "Collecting kiwisolver>=1.3.1\n",
      "  Downloading kiwisolver-1.4.7-cp39-cp39-macosx_10_9_x86_64.whl (65 kB)\n",
      "\u001b[K     |████████████████████████████████| 65 kB 5.3 MB/s  eta 0:00:01\n",
      "\u001b[?25hCollecting importlib-resources>=3.2.0\n",
      "  Downloading importlib_resources-6.4.5-py3-none-any.whl (36 kB)\n",
      "Requirement already satisfied: python-dateutil>=2.7 in /Users/estebancid_/Library/Python/3.9/lib/python/site-packages (from matplotlib) (2.9.0.post0)\n",
      "Collecting pyparsing>=2.3.1\n",
      "  Downloading pyparsing-3.2.0-py3-none-any.whl (106 kB)\n",
      "\u001b[K     |████████████████████████████████| 106 kB 21.2 MB/s eta 0:00:01\n",
      "\u001b[?25hCollecting pillow>=8\n",
      "  Downloading pillow-10.4.0-cp39-cp39-macosx_10_10_x86_64.whl (3.5 MB)\n",
      "\u001b[K     |████████████████████████████████| 3.5 MB 7.2 MB/s eta 0:00:01\n",
      "\u001b[?25hRequirement already satisfied: packaging>=20.0 in /Users/estebancid_/Library/Python/3.9/lib/python/site-packages (from matplotlib) (24.1)\n",
      "Requirement already satisfied: zipp>=3.1.0 in /Users/estebancid_/Library/Python/3.9/lib/python/site-packages (from importlib-resources>=3.2.0->matplotlib) (3.20.2)\n",
      "Requirement already satisfied: six>=1.5 in /Users/estebancid_/Library/Python/3.9/lib/python/site-packages (from python-dateutil>=2.7->matplotlib) (1.16.0)\n",
      "Installing collected packages: pyparsing, pillow, kiwisolver, importlib-resources, fonttools, cycler, contourpy, matplotlib\n",
      "Successfully installed contourpy-1.3.0 cycler-0.12.1 fonttools-4.54.1 importlib-resources-6.4.5 kiwisolver-1.4.7 matplotlib-3.9.2 pillow-10.4.0 pyparsing-3.2.0\n",
      "\u001b[33mWARNING: You are using pip version 21.1.3; however, version 24.2 is available.\n",
      "You should consider upgrading via the '/usr/local/bin/python3 -m pip install --upgrade pip' command.\u001b[0m\n",
      "Note: you may need to restart the kernel to use updated packages.\n"
     ]
    }
   ],
   "source": [
    "%pip install matplotlib"
   ]
  },
  {
   "cell_type": "code",
   "execution_count": 1,
   "metadata": {
    "colab": {},
    "colab_type": "code",
    "id": "2bm2pN4m_lZ1"
   },
   "outputs": [
    {
     "name": "stderr",
     "output_type": "stream",
     "text": [
      "Matplotlib is building the font cache; this may take a moment.\n"
     ]
    }
   ],
   "source": [
    "import matplotlib.pyplot as plt\n",
    "from warnings import filterwarnings\n",
    "\n",
    "%matplotlib inline\n",
    "filterwarnings('ignore') # Ignorar warnings"
   ]
  },
  {
   "cell_type": "code",
   "execution_count": 2,
   "metadata": {
    "colab": {},
    "colab_type": "code",
    "id": "XjhC5zY3_lZ3"
   },
   "outputs": [],
   "source": [
    "def move_spines():\n",
    "    \"\"\"Crea la figura de pyplot y los ejes. Mueve las lineas de la izquierda y de abajo\n",
    "    para que se intersecten con el origen. Elimina las lineas de la derecha y la de arriba.\n",
    "    Devuelve los ejes.\"\"\"\n",
    "    fix, ax = plt.subplots()\n",
    "    for spine in [\"left\", \"bottom\"]:\n",
    "        ax.spines[spine].set_position(\"zero\")\n",
    "    \n",
    "    for spine in [\"right\", \"top\"]:\n",
    "        ax.spines[spine].set_color(\"none\")\n",
    "    \n",
    "    return ax\n",
    "\n",
    "def vect_fig(): \n",
    "    \"\"\"Genera el grafico de los vectores en el plano\"\"\"\n",
    "    ax = move_spines()\n",
    "    \n",
    "    ax.set_xlim(-5, 5)\n",
    "    ax.set_ylim(-5, 5)\n",
    "    ax.grid()\n",
    "    vecs = [[3, 4], [-2, 5], [4, -3]] # lista de vectores\n",
    "    for v in vecs:\n",
    "        ax.annotate(\" \", xy=v, xytext=[0, 0],\n",
    "                   arrowprops=dict(facecolor=\"blue\",\n",
    "                                  shrink=0,\n",
    "                                  alpha=0.7,\n",
    "                                  width=0.5))\n",
    "        ax.text(1.1 * v[0], 1.1 * v[1], v)"
   ]
  },
  {
   "cell_type": "code",
   "execution_count": 3,
   "metadata": {
    "colab": {},
    "colab_type": "code",
    "collapsed": false,
    "id": "LXe-pbHM_lZ7",
    "jupyter": {
     "outputs_hidden": false
    },
    "outputId": "02076cd7-8d9d-4f79-bcfc-4f97492878c3"
   },
   "outputs": [
    {
     "data": {
      "image/png": "[encoded data removed]",
      "text/plain": [
       "<Figure size 640x480 with 1 Axes>"
      ]
     },
     "metadata": {},
     "output_type": "display_data"
    }
   ],
   "source": [
    "vect_fig() # crea el gráfico"
   ]
  },
  {
   "cell_type": "markdown",
   "metadata": {
    "colab_type": "text",
    "id": "dz8UK9fc_lZ9"
   },
   "source": [
    "### Operaciones con vectores\n",
    "\n",
    "Las operaciones más comunes que utilizamos cuando trabajamos con *[vectores](http://es.wikipedia.org/wiki/Vector)* son la *suma*, la *resta* y la *multiplicación por <a href=\"http://es.wikipedia.org/wiki/Escalar_(matem%C3%A1tica)\">escalares</a>*.\n",
    "\n",
    "Cuando *sumamos* dos *[vectores](http://es.wikipedia.org/wiki/Vector)*, vamos sumando elemento por elemento de cada\n",
    "*[vector](http://es.wikipedia.org/wiki/Vector)*.\n",
    "\n",
    "$$ \\begin{split}x + y\n",
    "=\n",
    "\\left[\n",
    "\\begin{array}{c}\n",
    "    x_1 \\\\\n",
    "    x_2 \\\\\n",
    "    \\vdots \\\\\n",
    "    x_n\n",
    "\\end{array}\n",
    "\\right]\n",
    "+\n",
    "\\left[\n",
    "\\begin{array}{c}\n",
    "     y_1 \\\\\n",
    "     y_2 \\\\\n",
    "    \\vdots \\\\\n",
    "     y_n\n",
    "\\end{array}\n",
    "\\right]\n",
    ":=\n",
    "\\left[\n",
    "\\begin{array}{c}\n",
    "    x_1 + y_1 \\\\\n",
    "    x_2 + y_2 \\\\\n",
    "    \\vdots \\\\\n",
    "    x_n + y_n\n",
    "\\end{array}\n",
    "\\right]\\end{split}$$\n",
    "\n",
    "De forma similar funciona la operación de resta.\n",
    "\n",
    "$$ \\begin{split}x - y\n",
    "=\n",
    "\\left[\n",
    "\\begin{array}{c}\n",
    "    x_1 \\\\\n",
    "    x_2 \\\\\n",
    "    \\vdots \\\\\n",
    "    x_n\n",
    "\\end{array}\n",
    "\\right]\n",
    "-\n",
    "\\left[\n",
    "\\begin{array}{c}\n",
    "     y_1 \\\\\n",
    "     y_2 \\\\\n",
    "    \\vdots \\\\\n",
    "     y_n\n",
    "\\end{array}\n",
    "\\right]\n",
    ":=\n",
    "\\left[\n",
    "\\begin{array}{c}\n",
    "    x_1 - y_1 \\\\\n",
    "    x_2 - y_2 \\\\\n",
    "    \\vdots \\\\\n",
    "    x_n - y_n\n",
    "\\end{array}\n",
    "\\right]\\end{split}$$\n",
    "\n",
    "La *multiplicación por <a href=\"http://es.wikipedia.org/wiki/Escalar_(matem%C3%A1tica)\">escalares</a>* es una operación que toma a un número $\\gamma$, y a un *[vector](http://es.wikipedia.org/wiki/Vector)* $x$ y produce un nuevo *[vector](http://es.wikipedia.org/wiki/Vector)* donde cada elemento del vector $x$ es multiplicado por el número $\\gamma$.\n",
    "\n",
    "$$\\begin{split}\\gamma x\n",
    ":=\n",
    "\\left[\n",
    "\\begin{array}{c}\n",
    "    \\gamma x_1 \\\\\n",
    "    \\gamma x_2 \\\\\n",
    "    \\vdots \\\\\n",
    "    \\gamma x_n\n",
    "\\end{array}\n",
    "\\right]\\end{split}$$\n",
    "\n",
    "En [Python](http://python.org/) podríamos realizar estas operaciones en forma muy sencilla:"
   ]
  },
  {
   "cell_type": "code",
   "execution_count": 5,
   "metadata": {},
   "outputs": [],
   "source": [
    "import numpy as np"
   ]
  },
  {
   "cell_type": "code",
   "execution_count": 6,
   "metadata": {
    "colab": {},
    "colab_type": "code",
    "collapsed": false,
    "id": "mJcgEr0Y_lZ-",
    "jupyter": {
     "outputs_hidden": false
    },
    "outputId": "64d60323-318e-4f9e-bad8-44d0a329e81f"
   },
   "outputs": [
    {
     "data": {
      "text/plain": [
       "(array([1, 2, 3, 4]), array([2, 4, 6, 8]))"
      ]
     },
     "execution_count": 6,
     "metadata": {},
     "output_type": "execute_result"
    }
   ],
   "source": [
    "# Ejemplo en Python\n",
    "x = np.arange(1, 5)\n",
    "y = np.array([2, 4, 6, 8])\n",
    "x, y"
   ]
  },
  {
   "cell_type": "code",
   "execution_count": 7,
   "metadata": {
    "colab": {},
    "colab_type": "code",
    "collapsed": false,
    "id": "A-RiJr5m_laA",
    "jupyter": {
     "outputs_hidden": false
    },
    "outputId": "821a10dc-0b63-4e31-8a53-6bde455f6446"
   },
   "outputs": [
    {
     "data": {
      "text/plain": [
       "array([ 3,  6,  9, 12])"
      ]
     },
     "execution_count": 7,
     "metadata": {},
     "output_type": "execute_result"
    }
   ],
   "source": [
    "# sumando dos vectores numpy\n",
    "x + y"
   ]
  },
  {
   "cell_type": "code",
   "execution_count": 8,
   "metadata": {
    "colab": {},
    "colab_type": "code",
    "collapsed": false,
    "id": "77_U5taW_laC",
    "jupyter": {
     "outputs_hidden": false
    },
    "outputId": "5244b5ca-86f6-45a0-a738-cb308e683b54"
   },
   "outputs": [
    {
     "data": {
      "text/plain": [
       "array([-1, -2, -3, -4])"
      ]
     },
     "execution_count": 8,
     "metadata": {},
     "output_type": "execute_result"
    }
   ],
   "source": [
    "# restando dos vectores\n",
    "x - y"
   ]
  },
  {
   "cell_type": "code",
   "execution_count": 9,
   "metadata": {
    "colab": {},
    "colab_type": "code",
    "collapsed": false,
    "id": "GL21Dre0_laF",
    "jupyter": {
     "outputs_hidden": false
    },
    "outputId": "0a2039c0-ecc3-4627-cf84-1715b3191d76"
   },
   "outputs": [
    {
     "data": {
      "text/plain": [
       "array([2, 4, 6, 8])"
      ]
     },
     "execution_count": 9,
     "metadata": {},
     "output_type": "execute_result"
    }
   ],
   "source": [
    "# multiplicando por un escalar\n",
    "x * 2"
   ]
  },
  {
   "cell_type": "code",
   "execution_count": 10,
   "metadata": {
    "colab": {},
    "colab_type": "code",
    "collapsed": false,
    "id": "BLOOKDUK_laH",
    "jupyter": {
     "outputs_hidden": false
    },
    "outputId": "cb00dc9a-6a67-486c-dc1a-8f313d23259e"
   },
   "outputs": [
    {
     "data": {
      "text/plain": [
       "array([ 6, 12, 18, 24])"
      ]
     },
     "execution_count": 10,
     "metadata": {},
     "output_type": "execute_result"
    }
   ],
   "source": [
    "y * 3"
   ]
  },
  {
   "cell_type": "markdown",
   "metadata": {
    "colab_type": "text",
    "id": "Gr1bhr-R_laJ"
   },
   "source": [
    "#### Producto escalar o interior\n",
    "\n",
    "El [producto escalar](https://es.wikipedia.org/wiki/Producto_escalar) de dos *[vectores](http://es.wikipedia.org/wiki/Vector)* se define como la suma de los productos de sus elementos, suele representarse matemáticamente como < x, y > o x'y, donde x e y son dos vectores.\n",
    "\n",
    "$$< x, y > := \\sum_{i=1}^n x_i y_i$$\n",
    "\n",
    "Dos *[vectores](http://es.wikipedia.org/wiki/Vector)* son <a href=\"https://es.wikipedia.org/wiki/Ortogonalidad_(matem%C3%A1ticas)\">ortogonales</a> o perpendiculares cuando forman ángulo recto entre sí. Si el producto escalar de dos vectores es cero, ambos vectores son <a href=\"https://es.wikipedia.org/wiki/Ortogonalidad_(matem%C3%A1ticas)\">ortogonales</a>.\n",
    "\n",
    "Adicionalmente, todo [producto escalar](https://es.wikipedia.org/wiki/Producto_escalar) induce una [norma](https://es.wikipedia.org/wiki/Norma_vectorial) sobre el espacio en el que está definido, de la siguiente manera:\n",
    "\n",
    "$$\\| x \\| := \\sqrt{< x, x>} := \\left( \\sum_{i=1}^n x_i^2 \\right)^{1/2}$$\n",
    "\n",
    "En [Python](http://python.org/) lo podemos calcular de la siguiente forma:"
   ]
  },
  {
   "cell_type": "code",
   "execution_count": 11,
   "metadata": {},
   "outputs": [
    {
     "data": {
      "text/plain": [
       "(array([1, 2, 3, 4]), array([2, 4, 6, 8]))"
      ]
     },
     "execution_count": 11,
     "metadata": {},
     "output_type": "execute_result"
    }
   ],
   "source": [
    "x, y"
   ]
  },
  {
   "cell_type": "code",
   "execution_count": 13,
   "metadata": {},
   "outputs": [
    {
     "data": {
      "text/plain": [
       "60"
      ]
     },
     "execution_count": 13,
     "metadata": {},
     "output_type": "execute_result"
    }
   ],
   "source": [
    "1*2 +2*4 + 3*6 + 4*8"
   ]
  },
  {
   "cell_type": "code",
   "execution_count": 12,
   "metadata": {
    "colab": {},
    "colab_type": "code",
    "collapsed": false,
    "id": "SCzHGxxE_laK",
    "jupyter": {
     "outputs_hidden": false
    },
    "outputId": "024d8667-cdca-4554-dafe-7ac8daa86c3b"
   },
   "outputs": [
    {
     "data": {
      "text/plain": [
       "np.int64(60)"
      ]
     },
     "execution_count": 12,
     "metadata": {},
     "output_type": "execute_result"
    }
   ],
   "source": [
    "# Calculando el producto escalar de los vectores x e y\n",
    "np.dot(x, y)"
   ]
  },
  {
   "cell_type": "code",
   "execution_count": 14,
   "metadata": {},
   "outputs": [
    {
     "data": {
      "text/plain": [
       "array([ 2,  8, 18, 32])"
      ]
     },
     "execution_count": 14,
     "metadata": {},
     "output_type": "execute_result"
    }
   ],
   "source": [
    "x * y"
   ]
  },
  {
   "cell_type": "code",
   "execution_count": 15,
   "metadata": {
    "colab": {},
    "colab_type": "code",
    "collapsed": false,
    "id": "41pSfiUV_laM",
    "jupyter": {
     "outputs_hidden": false
    },
    "outputId": "a7502d06-d40c-4ecb-91c1-65d1a3ae2834"
   },
   "outputs": [
    {
     "data": {
      "text/plain": [
       "np.int64(60)"
      ]
     },
     "execution_count": 15,
     "metadata": {},
     "output_type": "execute_result"
    }
   ],
   "source": [
    "# o lo que es lo mismo, que:\n",
    "sum(x * y)"
   ]
  },
  {
   "cell_type": "code",
   "execution_count": null,
   "metadata": {},
   "outputs": [],
   "source": [
    "x"
   ]
  },
  {
   "cell_type": "code",
   "execution_count": null,
   "metadata": {},
   "outputs": [],
   "source": [
    "(1**2 + 2**2 + 3**2 + 4**2)**(1/2)"
   ]
  },
  {
   "cell_type": "code",
   "execution_count": 16,
   "metadata": {
    "colab": {},
    "colab_type": "code",
    "collapsed": false,
    "id": "uv9BwLKw_laO",
    "jupyter": {
     "outputs_hidden": false
    },
    "outputId": "93cb041e-de5c-4506-95a1-db25f4eb7962"
   },
   "outputs": [
    {
     "data": {
      "text/plain": [
       "np.float64(5.477225575051661)"
      ]
     },
     "execution_count": 16,
     "metadata": {},
     "output_type": "execute_result"
    }
   ],
   "source": [
    "# Calculando la norma del vector X\n",
    "np.linalg.norm(x)"
   ]
  },
  {
   "cell_type": "code",
   "execution_count": 17,
   "metadata": {},
   "outputs": [
    {
     "data": {
      "text/plain": [
       "5.477225575051661"
      ]
     },
     "execution_count": 17,
     "metadata": {},
     "output_type": "execute_result"
    }
   ],
   "source": [
    "# Otra forma de calcular la norma de x\n",
    "(1*1 + 2*2 +3*3 +4*4)**(1/2)"
   ]
  },
  {
   "cell_type": "code",
   "execution_count": 18,
   "metadata": {
    "colab": {},
    "colab_type": "code",
    "collapsed": false,
    "id": "mKWoq-6e_laR",
    "jupyter": {
     "outputs_hidden": false
    },
    "outputId": "a391a193-5e08-45b1-8115-5e6889eee886"
   },
   "outputs": [
    {
     "data": {
      "text/plain": [
       "np.float64(5.477225575051661)"
      ]
     },
     "execution_count": 18,
     "metadata": {},
     "output_type": "execute_result"
    }
   ],
   "source": [
    "# otra forma de calcular la norma de x\n",
    "np.sqrt(np.dot(x, x))"
   ]
  },
  {
   "cell_type": "code",
   "execution_count": 20,
   "metadata": {
    "colab": {},
    "colab_type": "code",
    "collapsed": false,
    "id": "tihUgXuk_laT",
    "jupyter": {
     "outputs_hidden": false
    },
    "outputId": "1d4c98d9-8db3-4944-f786-1bbe6fe436b7"
   },
   "outputs": [
    {
     "data": {
      "text/plain": [
       "np.int64(0)"
      ]
     },
     "execution_count": 20,
     "metadata": {},
     "output_type": "execute_result"
    }
   ],
   "source": [
    "# vectores ortogonales (su producto vectorial es 0)\n",
    "v1 = np.array([3, 4])\n",
    "v2 = np.array([4, -3])\n",
    "\n",
    "np.dot(v1, v2)"
   ]
  },
  {
   "cell_type": "markdown",
   "metadata": {
    "colab_type": "text",
    "id": "6NS_n_g8_laV"
   },
   "source": [
    "### Matrices\n",
    "\n",
    "Las <a href=\"http://es.wikipedia.org/wiki/Matriz_(matem%C3%A1ticas)\">matrices</a> son una forma clara y sencilla de organizar los datos para su uso en operaciones lineales.\n",
    "\n",
    "Una <a href=\"http://es.wikipedia.org/wiki/Matriz_(matem%C3%A1ticas)\">matriz</a> `n × k` es una agrupación rectangular de números con n filas y k columnas; se representa de la siguiente forma:\n",
    "\n",
    "$$\\begin{split}A =\n",
    "\\left[\n",
    "\\begin{array}{cccc}\n",
    "    a_{11} & a_{12} & \\cdots & a_{1k} \\\\\n",
    "    a_{21} & a_{22} & \\cdots & a_{2k} \\\\\n",
    "    \\vdots & \\vdots &  & \\vdots \\\\\n",
    "    a_{n1} & a_{n2} & \\cdots & a_{nk}\n",
    "\\end{array}\n",
    "\\right]\\end{split}$$\n",
    "\n",
    "En la <a href=\"http://es.wikipedia.org/wiki/Matriz_(matem%C3%A1ticas)\">matriz</a> A, el símbolo $a_{nk}$ representa el elemento  n-ésimo de la fila en la k-ésima columna. La <a href=\"http://es.wikipedia.org/wiki/Matriz_(matem%C3%A1ticas)\">matriz</a> A también puede ser llamada un *[vector](http://es.wikipedia.org/wiki/Vector)* si cualquiera de n o k son iguales a 1. En el caso de n=1, A se llama un *[vector](http://es.wikipedia.org/wiki/Vector) fila*, mientras que en el caso de k=1 se denomina un *[vector](http://es.wikipedia.org/wiki/Vector) columna*.\n",
    "\n",
    "Las <a href=\"http://es.wikipedia.org/wiki/Matriz_(matem%C3%A1ticas)\">matrices</a> se utilizan para múltiples aplicaciones y sirven, en particular, para representar los coeficientes de los sistemas de ecuaciones lineales o para representar transformaciones lineales dada una base. Pueden sumarse, multiplicarse y descomponerse de varias formas."
   ]
  },
  {
   "cell_type": "markdown",
   "metadata": {
    "colab_type": "text",
    "id": "ph96Q7dS_laV"
   },
   "source": [
    "### Operaciones con matrices\n",
    "\n",
    "Al igual que con los *[vectores](http://es.wikipedia.org/wiki/Vector)*, que no son más que un caso particular, las <a href=\"http://es.wikipedia.org/wiki/Matriz_(matem%C3%A1ticas)\">matrices</a> se pueden *sumar*, *restar* y la *multiplicar por <a href=\"http://es.wikipedia.org/wiki/Escalar_(matem%C3%A1tica)\">escalares</a>*.\n",
    "\n",
    "Multiplicacion por escalares:\n",
    "$$\\begin{split}\\gamma A\n",
    "\\left[\n",
    "\\begin{array}{ccc}\n",
    "    a_{11} &  \\cdots & a_{1k} \\\\\n",
    "    \\vdots & \\vdots  & \\vdots \\\\\n",
    "    a_{n1} &  \\cdots & a_{nk} \\\\\n",
    "\\end{array}\n",
    "\\right]\n",
    ":=\n",
    "\\left[\n",
    "\\begin{array}{ccc}\n",
    "    \\gamma a_{11} & \\cdots & \\gamma a_{1k} \\\\\n",
    "    \\vdots & \\vdots & \\vdots \\\\\n",
    "    \\gamma a_{n1} & \\cdots & \\gamma a_{nk} \\\\\n",
    "\\end{array}\n",
    "\\right]\\end{split}$$\n",
    "\n",
    "Suma de matrices: \n",
    "$$\\begin{split}A + B =\n",
    "\\left[\n",
    "\\begin{array}{ccc}\n",
    "    a_{11} & \\cdots & a_{1k} \\\\\n",
    "    \\vdots & \\vdots & \\vdots \\\\\n",
    "    a_{n1} & \\cdots & a_{nk} \\\\\n",
    "\\end{array}\n",
    "\\right]\n",
    "+\n",
    "\\left[\n",
    "\\begin{array}{ccc}\n",
    "    b_{11} & \\cdots & b_{1k} \\\\\n",
    "    \\vdots & \\vdots & \\vdots \\\\\n",
    "    b_{n1} & \\cdots & b_{nk} \\\\\n",
    "\\end{array}\n",
    "\\right]\n",
    ":=\n",
    "\\left[\n",
    "\\begin{array}{ccc}\n",
    "    a_{11} + b_{11} &  \\cdots & a_{1k} + b_{1k} \\\\\n",
    "    \\vdots & \\vdots & \\vdots \\\\\n",
    "    a_{n1} + b_{n1} &  \\cdots & a_{nk} + b_{nk} \\\\\n",
    "\\end{array}\n",
    "\\right]\\end{split}$$\n",
    "\n",
    "Resta de matrices: \n",
    "$$\\begin{split}A - B =\n",
    "\\left[\n",
    "\\begin{array}{ccc}\n",
    "    a_{11} & \\cdots & a_{1k} \\\\\n",
    "    \\vdots & \\vdots & \\vdots \\\\\n",
    "    a_{n1} & \\cdots & a_{nk} \\\\\n",
    "\\end{array}\n",
    "\\right]-\n",
    "\\left[\n",
    "\\begin{array}{ccc}\n",
    "    b_{11} & \\cdots & b_{1k} \\\\\n",
    "    \\vdots & \\vdots & \\vdots \\\\\n",
    "    b_{n1} & \\cdots & b_{nk} \\\\\n",
    "\\end{array}\n",
    "\\right]\n",
    ":=\n",
    "\\left[\n",
    "\\begin{array}{ccc}\n",
    "    a_{11} - b_{11} &  \\cdots & a_{1k} - b_{1k} \\\\\n",
    "    \\vdots & \\vdots & \\vdots \\\\\n",
    "    a_{n1} - b_{n1} &  \\cdots & a_{nk} - b_{nk} \\\\\n",
    "\\end{array}\n",
    "\\right]\\end{split}$$\n",
    "\n",
    "Para los casos de suma y resta, hay que tener en cuenta que solo se pueden sumar o restar <a href=\"http://es.wikipedia.org/wiki/Matriz_(matem%C3%A1ticas)\">matrices</a> que tengan las mismas dimensiones, es decir que si tengo una <a href=\"http://es.wikipedia.org/wiki/Matriz_(matem%C3%A1ticas)\">matriz</a> A de dimensión 3x2 (3 filas y 2 columnas) solo voy a poder sumar o restar la <a href=\"http://es.wikipedia.org/wiki/Matriz_(matem%C3%A1ticas)\">matriz</a> B si esta también tiene 3 filas y 2 columnas."
   ]
  },
  {
   "cell_type": "code",
   "execution_count": 21,
   "metadata": {},
   "outputs": [],
   "source": [
    "my_list = [[1, 3, 2],\n",
    "          [1, 0, 0],\n",
    "          [1, 2, 2]]"
   ]
  },
  {
   "cell_type": "code",
   "execution_count": 22,
   "metadata": {},
   "outputs": [
    {
     "data": {
      "text/plain": [
       "list"
      ]
     },
     "execution_count": 22,
     "metadata": {},
     "output_type": "execute_result"
    }
   ],
   "source": [
    "type(my_list[0])"
   ]
  },
  {
   "cell_type": "code",
   "execution_count": 23,
   "metadata": {},
   "outputs": [
    {
     "data": {
      "text/plain": [
       "2"
      ]
     },
     "execution_count": 23,
     "metadata": {},
     "output_type": "execute_result"
    }
   ],
   "source": [
    "# my_lista32\n",
    "my_list[2][1]"
   ]
  },
  {
   "cell_type": "code",
   "execution_count": 24,
   "metadata": {},
   "outputs": [
    {
     "name": "stdout",
     "output_type": "stream",
     "text": [
      "[[1, 3, 2], [1, 0, 0], [1, 2, 2]]\n"
     ]
    }
   ],
   "source": [
    "print(my_list)"
   ]
  },
  {
   "cell_type": "code",
   "execution_count": 25,
   "metadata": {},
   "outputs": [
    {
     "data": {
      "text/plain": [
       "1"
      ]
     },
     "execution_count": 25,
     "metadata": {},
     "output_type": "execute_result"
    }
   ],
   "source": [
    "my_list[0][0]"
   ]
  },
  {
   "cell_type": "code",
   "execution_count": 26,
   "metadata": {
    "colab": {},
    "colab_type": "code",
    "collapsed": false,
    "id": "ebC-pToF_laW",
    "jupyter": {
     "outputs_hidden": false
    }
   },
   "outputs": [],
   "source": [
    "# Ejemplo en Python\n",
    "A = np.array([[1, 3, 2],\n",
    "              [1, 0, 0],\n",
    "              [1, 2, 2]])\n",
    "\n",
    "B = np.array([[1, 0, 5],\n",
    "              [7, 5, 0],\n",
    "              [2, 1, 1]])"
   ]
  },
  {
   "cell_type": "code",
   "execution_count": 28,
   "metadata": {},
   "outputs": [
    {
     "data": {
      "text/plain": [
       "array([1, 2])"
      ]
     },
     "execution_count": 28,
     "metadata": {},
     "output_type": "execute_result"
    }
   ],
   "source": [
    "x = np.array([1,2])\n",
    "x"
   ]
  },
  {
   "cell_type": "code",
   "execution_count": 29,
   "metadata": {},
   "outputs": [
    {
     "name": "stdout",
     "output_type": "stream",
     "text": [
      "Dimensiones 1\n",
      "Shape  (2,)\n",
      "Size  2\n"
     ]
    }
   ],
   "source": [
    "print('Dimensiones', x.ndim)\n",
    "print('Shape ', x.shape)\n",
    "print('Size ', x.size)"
   ]
  },
  {
   "cell_type": "code",
   "execution_count": 30,
   "metadata": {},
   "outputs": [],
   "source": [
    "B = np.array([[1, 0, 5],\n",
    "              [7, 5, 0],\n",
    "              [2, 1, 1]])"
   ]
  },
  {
   "cell_type": "code",
   "execution_count": 31,
   "metadata": {},
   "outputs": [
    {
     "data": {
      "text/plain": [
       "(3, 3)"
      ]
     },
     "execution_count": 31,
     "metadata": {},
     "output_type": "execute_result"
    }
   ],
   "source": [
    "np.shape(B)"
   ]
  },
  {
   "cell_type": "code",
   "execution_count": 32,
   "metadata": {},
   "outputs": [
    {
     "name": "stdout",
     "output_type": "stream",
     "text": [
      "Dimensiones 2\n",
      "Shape  (3, 3)\n",
      "Size  9\n"
     ]
    }
   ],
   "source": [
    "print('Dimensiones', B.ndim)\n",
    "print('Shape ', B.shape)\n",
    "print('Size ', B.size)"
   ]
  },
  {
   "cell_type": "code",
   "execution_count": 33,
   "metadata": {},
   "outputs": [
    {
     "data": {
      "text/plain": [
       "True"
      ]
     },
     "execution_count": 33,
     "metadata": {},
     "output_type": "execute_result"
    }
   ],
   "source": [
    "len(B.shape) == B.ndim"
   ]
  },
  {
   "cell_type": "code",
   "execution_count": null,
   "metadata": {},
   "outputs": [],
   "source": [
    "B.shape[0] * B.shape[1] == B.size"
   ]
  },
  {
   "cell_type": "code",
   "execution_count": null,
   "metadata": {},
   "outputs": [],
   "source": [
    "A, B"
   ]
  },
  {
   "cell_type": "code",
   "execution_count": null,
   "metadata": {
    "colab": {},
    "colab_type": "code",
    "collapsed": false,
    "id": "o2NX2cHS_laX",
    "jupyter": {
     "outputs_hidden": false
    },
    "outputId": "8bdc4242-ea27-4e94-a790-b78be371e41b"
   },
   "outputs": [],
   "source": [
    "# suma de las matrices A y B\n",
    "A + B"
   ]
  },
  {
   "cell_type": "code",
   "execution_count": null,
   "metadata": {
    "colab": {},
    "colab_type": "code",
    "collapsed": false,
    "id": "gaf6T5aj_laZ",
    "jupyter": {
     "outputs_hidden": false
    },
    "outputId": "e6a16eba-46d8-45b9-9b5a-f3f07ac86f59"
   },
   "outputs": [],
   "source": [
    "# resta de matrices\n",
    "A - B"
   ]
  },
  {
   "cell_type": "code",
   "execution_count": null,
   "metadata": {
    "colab": {},
    "colab_type": "code",
    "collapsed": false,
    "id": "NRIOiz7A_lab",
    "jupyter": {
     "outputs_hidden": false
    },
    "outputId": "c059eb40-d82a-406b-c448-00cb6de77f76"
   },
   "outputs": [],
   "source": [
    "# multiplicando matrices por escalares\n",
    "A * 2"
   ]
  },
  {
   "cell_type": "code",
   "execution_count": null,
   "metadata": {
    "colab": {},
    "colab_type": "code",
    "collapsed": false,
    "id": "mn-goILQ_lai",
    "jupyter": {
     "outputs_hidden": false
    },
    "outputId": "5fc7acce-fdfa-4be7-e396-c45647ebb918"
   },
   "outputs": [],
   "source": [
    "B * 3"
   ]
  },
  {
   "cell_type": "code",
   "execution_count": 34,
   "metadata": {
    "colab": {},
    "colab_type": "code",
    "collapsed": false,
    "id": "VTIJPRsx_lak",
    "jupyter": {
     "outputs_hidden": false
    },
    "outputId": "55bcf643-e12c-48cf-f580-75750f7f9416"
   },
   "outputs": [
    {
     "data": {
      "text/plain": [
       "(3, 3)"
      ]
     },
     "execution_count": 34,
     "metadata": {},
     "output_type": "execute_result"
    }
   ],
   "source": [
    "# ver la dimension de una matriz\n",
    "A.shape"
   ]
  },
  {
   "cell_type": "code",
   "execution_count": 35,
   "metadata": {
    "colab": {},
    "colab_type": "code",
    "collapsed": false,
    "id": "ijzgWTV9_lan",
    "jupyter": {
     "outputs_hidden": false
    },
    "outputId": "6f2ff593-9630-478e-86b0-d03c599de1f2"
   },
   "outputs": [
    {
     "data": {
      "text/plain": [
       "9"
      ]
     },
     "execution_count": 35,
     "metadata": {},
     "output_type": "execute_result"
    }
   ],
   "source": [
    "# ver cantidad de elementos de una matriz\n",
    "A.size"
   ]
  },
  {
   "cell_type": "markdown",
   "metadata": {
    "colab_type": "text",
    "id": "pN9kyy80_lap"
   },
   "source": [
    "#### Multiplicacion o Producto de matrices\n",
    "\n",
    "La regla para la [multiplicación de matrices](https://es.wikipedia.org/wiki/Multiplicaci%C3%B3n_de_matrices) generaliza la idea del [producto interior](https://es.wikipedia.org/wiki/Producto_escalar) que vimos con los [vectores](http://es.wikipedia.org/wiki/Vector); y esta diseñada para facilitar las operaciones lineales básicas.\n",
    "Cuando [multiplicamos matrices](https://es.wikipedia.org/wiki/Multiplicaci%C3%B3n_de_matrices), el número de columnas de la primera <a href=\"http://es.wikipedia.org/wiki/Matriz_(matem%C3%A1ticas)\">matriz</a> debe ser igual al número de filas de la segunda <a href=\"http://es.wikipedia.org/wiki/Matriz_(matem%C3%A1ticas)\">matriz</a>; y el resultado de esta multiplicación va a tener el mismo número de filas que la primer <a href=\"http://es.wikipedia.org/wiki/Matriz_(matem%C3%A1ticas)\">matriz</a> y el número de la columnas de la segunda <a href=\"http://es.wikipedia.org/wiki/Matriz_(matem%C3%A1ticas)\">matriz</a>. Es decir, que si yo tengo una <a href=\"http://es.wikipedia.org/wiki/Matriz_(matem%C3%A1ticas)\">matriz</a> A de dimensión 3x4 y la multiplico por una <a href=\"http://es.wikipedia.org/wiki/Matriz_(matem%C3%A1ticas)\">matriz</a> B de dimensión 4x2, el resultado va a ser una <a href=\"http://es.wikipedia.org/wiki/Matriz_(matem%C3%A1ticas)\">matriz</a> C de dimensión 3x2.\n",
    "\n",
    "Algo a tener en cuenta a la hora de [multiplicar matrices](https://es.wikipedia.org/wiki/Multiplicaci%C3%B3n_de_matrices) es que la propiedad [connmutativa](https://es.wikipedia.org/wiki/Conmutatividad) no se cumple. AxB no es lo mismo que BxA.\n",
    "\n",
    "Veamos los ejemplos en [Python](http://python.org/)."
   ]
  },
  {
   "cell_type": "code",
   "execution_count": 36,
   "metadata": {},
   "outputs": [
    {
     "data": {
      "text/plain": [
       "array([ 1,  2,  3,  4,  5,  6,  7,  8,  9, 10, 11, 12])"
      ]
     },
     "execution_count": 36,
     "metadata": {},
     "output_type": "execute_result"
    }
   ],
   "source": [
    "np.arange(1, 13)"
   ]
  },
  {
   "cell_type": "code",
   "execution_count": 37,
   "metadata": {
    "colab": {},
    "colab_type": "code",
    "collapsed": false,
    "id": "QrUMaUGz_lap",
    "jupyter": {
     "outputs_hidden": false
    },
    "outputId": "b732d20f-5611-4908-ef88-c17e0e6cc2ca"
   },
   "outputs": [
    {
     "data": {
      "text/plain": [
       "array([[ 1,  2,  3,  4],\n",
       "       [ 5,  6,  7,  8],\n",
       "       [ 9, 10, 11, 12]])"
      ]
     },
     "execution_count": 37,
     "metadata": {},
     "output_type": "execute_result"
    }
   ],
   "source": [
    "# Ejemplo multiplicación de matrices\n",
    "A = np.arange(1, 13).reshape(3, 4) #matriz de dimension 3x4\n",
    "A"
   ]
  },
  {
   "cell_type": "code",
   "execution_count": 38,
   "metadata": {},
   "outputs": [
    {
     "name": "stdout",
     "output_type": "stream",
     "text": [
      "Dimensiones 2\n",
      "Shape  (3, 4)\n",
      "Size  12\n"
     ]
    }
   ],
   "source": [
    "print('Dimensiones', A.ndim)\n",
    "print('Shape ', A.shape)\n",
    "print('Size ', A.size)"
   ]
  },
  {
   "cell_type": "code",
   "execution_count": null,
   "metadata": {},
   "outputs": [],
   "source": [
    "A.ndim == len(A.shape)"
   ]
  },
  {
   "cell_type": "code",
   "execution_count": null,
   "metadata": {},
   "outputs": [],
   "source": [
    "A.size == A.shape[0] * A.shape[1]"
   ]
  },
  {
   "cell_type": "code",
   "execution_count": null,
   "metadata": {},
   "outputs": [],
   "source": [
    "np.arange(12)"
   ]
  },
  {
   "cell_type": "code",
   "execution_count": 39,
   "metadata": {
    "colab": {},
    "colab_type": "code",
    "collapsed": false,
    "id": "uNXjexLW_lar",
    "jupyter": {
     "outputs_hidden": false
    },
    "outputId": "e3c1eb74-fb4a-4398-e496-77727984eb76"
   },
   "outputs": [
    {
     "data": {
      "text/plain": [
       "array([[0, 1],\n",
       "       [2, 3],\n",
       "       [4, 5],\n",
       "       [6, 7]])"
      ]
     },
     "execution_count": 39,
     "metadata": {},
     "output_type": "execute_result"
    }
   ],
   "source": [
    "B = np.arange(8).reshape(4,2) #matriz de dimension 4x2\n",
    "B"
   ]
  },
  {
   "cell_type": "code",
   "execution_count": 40,
   "metadata": {},
   "outputs": [
    {
     "name": "stdout",
     "output_type": "stream",
     "text": [
      "Dimensiones 2\n",
      "Shape  (4, 2)\n",
      "Size  8\n"
     ]
    }
   ],
   "source": [
    "print('Dimensiones', B.ndim)\n",
    "print('Shape ', B.shape)\n",
    "print('Size ', B.size)"
   ]
  },
  {
   "cell_type": "code",
   "execution_count": 41,
   "metadata": {},
   "outputs": [
    {
     "data": {
      "text/plain": [
       "(array([[ 1,  2,  3,  4],\n",
       "        [ 5,  6,  7,  8],\n",
       "        [ 9, 10, 11, 12]]),\n",
       " array([[0, 1],\n",
       "        [2, 3],\n",
       "        [4, 5],\n",
       "        [6, 7]]))"
      ]
     },
     "execution_count": 41,
     "metadata": {},
     "output_type": "execute_result"
    }
   ],
   "source": [
    "A, B"
   ]
  },
  {
   "cell_type": "code",
   "execution_count": 43,
   "metadata": {},
   "outputs": [
    {
     "data": {
      "text/plain": [
       "40"
      ]
     },
     "execution_count": 43,
     "metadata": {},
     "output_type": "execute_result"
    }
   ],
   "source": [
    "1 * 0 + 2 * 2 + 3 * 4 + 4 * 6"
   ]
  },
  {
   "cell_type": "code",
   "execution_count": 44,
   "metadata": {},
   "outputs": [
    {
     "data": {
      "text/plain": [
       "88"
      ]
     },
     "execution_count": 44,
     "metadata": {},
     "output_type": "execute_result"
    }
   ],
   "source": [
    "5 * 0 + 6 * 2 + 7 * 4 + 8 * 6"
   ]
  },
  {
   "cell_type": "code",
   "execution_count": 42,
   "metadata": {
    "colab": {},
    "colab_type": "code",
    "collapsed": false,
    "id": "WQDDLg-G_las",
    "jupyter": {
     "outputs_hidden": false
    },
    "outputId": "f0462713-c592-4025-e09c-3b3cda1157e7"
   },
   "outputs": [
    {
     "data": {
      "text/plain": [
       "array([[ 40,  50],\n",
       "       [ 88, 114],\n",
       "       [136, 178]])"
      ]
     },
     "execution_count": 42,
     "metadata": {},
     "output_type": "execute_result"
    }
   ],
   "source": [
    "# Multiplicando A x B\n",
    "A.dot(B) #resulta en una matriz de dimension 3x2"
   ]
  },
  {
   "cell_type": "code",
   "execution_count": null,
   "metadata": {},
   "outputs": [],
   "source": [
    "B, A"
   ]
  },
  {
   "cell_type": "code",
   "execution_count": 45,
   "metadata": {
    "colab": {},
    "colab_type": "code",
    "collapsed": false,
    "id": "FPWPxLIb_lau",
    "jupyter": {
     "outputs_hidden": false
    },
    "outputId": "5ff11851-850e-47a3-b410-290e26325dce"
   },
   "outputs": [
    {
     "ename": "ValueError",
     "evalue": "shapes (4,2) and (3,4) not aligned: 2 (dim 1) != 3 (dim 0)",
     "output_type": "error",
     "traceback": [
      "\u001b[0;31m---------------------------------------------------------------------------\u001b[0m",
      "\u001b[0;31mValueError\u001b[0m                                Traceback (most recent call last)",
      "Cell \u001b[0;32mIn[45], line 2\u001b[0m\n\u001b[1;32m      1\u001b[0m \u001b[38;5;66;03m# Multiplicando B x A\u001b[39;00m\n\u001b[0;32m----> 2\u001b[0m \u001b[43mB\u001b[49m\u001b[38;5;241;43m.\u001b[39;49m\u001b[43mdot\u001b[49m\u001b[43m(\u001b[49m\u001b[43mA\u001b[49m\u001b[43m)\u001b[49m\n",
      "\u001b[0;31mValueError\u001b[0m: shapes (4,2) and (3,4) not aligned: 2 (dim 1) != 3 (dim 0)"
     ]
    }
   ],
   "source": [
    "# Multiplicando B x A\n",
    "B.dot(A)"
   ]
  },
  {
   "cell_type": "markdown",
   "metadata": {
    "colab_type": "text",
    "id": "zkNjYkh1_law"
   },
   "source": [
    "Este ultimo ejemplo vemos que la propiedad conmutativa no se cumple, es más, [Python](http://python.org/) nos arroja un error, ya que el número de columnas de B no coincide con el número de filas de A, por lo que ni siquiera se puede realizar la multiplicación de B x A.\n",
    "\n",
    "Para una explicación más detallada del proceso de [multiplicación de matrices](https://es.wikipedia.org/wiki/Multiplicaci%C3%B3n_de_matrices), pueden consultar el siguiente [tutorial](http://www.mathsisfun.com/algebra/matrix-multiplying.html)."
   ]
  },
  {
   "cell_type": "markdown",
   "metadata": {
    "colab_type": "text",
    "id": "MJ7kfMWO_lax"
   },
   "source": [
    "#### La matriz identidad,  la matriz inversa,  la matrix transpuesta y el determinante\n",
    "\n",
    "La [matriz identidad](https://es.wikipedia.org/wiki/Matriz_identidad) es el elemento neutro en la [multiplicación de matrices](https://es.wikipedia.org/wiki/Multiplicaci%C3%B3n_de_matrices), es el equivalente al número 1. Cualquier matriz multiplicada por la [matriz identidad](https://es.wikipedia.org/wiki/Matriz_identidad) nos da como resultado la misma matriz. La [matriz identidad](https://es.wikipedia.org/wiki/Matriz_identidad) es una [matriz cuadrada](https://es.wikipedia.org/wiki/Matriz_cuadrada) (tiene siempre el mismo número de filas que de columnas); y su diagonal principal se compone de todos elementos 1 y el resto de los elementos se completan con 0. Suele representase con la letra I\n",
    "\n",
    "Por ejemplo la matriz identidad de 3x3 sería la siguiente:\n",
    "\n",
    "$$I=\\begin{bmatrix}1 & 0 & 0 & \\\\0 & 1 & 0\\\\ 0 & 0 & 1\\end{bmatrix}$$\n",
    "\n",
    "Ahora que conocemos el concepto de la [matriz identidad](https://es.wikipedia.org/wiki/Matriz_identidad), podemos llegar al concepto de la [matriz inversa](https://es.wikipedia.org/wiki/Matriz_invertible). Si tenemos una matriz A, la [matriz inversa](https://es.wikipedia.org/wiki/Matriz_invertible) de A, que se representa como $A^{-1}$ es aquella [matriz cuadrada](https://es.wikipedia.org/wiki/Matriz_cuadrada) que hace que la multiplicación $A$x$A^{-1}$ sea igual a la [matriz identidad](https://es.wikipedia.org/wiki/Matriz_identidad) I. Es decir que es la <a href=\"http://es.wikipedia.org/wiki/Matriz_(matem%C3%A1ticas)\">matriz</a> recíproca de A.\n",
    "\n",
    "$$A × A^{-1} = A^{-1} × A = I$$\n",
    "\n",
    "Tener en cuenta que esta [matriz inversa](https://es.wikipedia.org/wiki/Matriz_invertible) en muchos casos puede no existir.En este caso se dice que la matriz es singular o degenerada. Una matriz es singular si y solo si su <a href=\"https://es.wikipedia.org/wiki/Determinante_(matem%C3%A1tica)\">determinante</a> es nulo.\n",
    "\n",
    "El <a href=\"https://es.wikipedia.org/wiki/Determinante_(matem%C3%A1tica)\">determinante</a> es un número especial que puede calcularse sobre las [matrices cuadradas](https://es.wikipedia.org/wiki/Matriz_cuadrada). Se calcula como la suma de los productos de las diagonales de la matriz en una dirección menos la suma de los productos de las diagonales en la otra dirección. Se represente con el símbolo |A|.\n",
    "\n",
    "$$A=\\begin{bmatrix}a_{11} & a_{12} & a_{13} & \\\\a_{21} & a_{22} & a_{23} & \\\\ a_{31} & a_{32} & a_{33} & \\end{bmatrix}$$\n",
    "\n",
    "$$|A| = \n",
    "     (a_{11} a_{22} a_{33} \n",
    "   + a_{12} a_{23} a_{31} \n",
    "   + a_{13} a_{21} a_{32} )\n",
    "   - (a_{31} a_{22} a_{13} \n",
    "   + a_{32} a_{23} a_{11} \n",
    "   + a_{33} a_{21} a_{12})\n",
    " $$\n",
    "\n",
    "Por último, la [matriz transpuesta](http://es.wikipedia.org/wiki/Matriz_transpuesta) es aquella en que las filas se transforman en columnas y las columnas en filas. Se representa con el símbolo $A^\\intercal$\n",
    "\n",
    "$$\\begin{bmatrix}a & b & \\\\c & d & \\\\ e & f & \\end{bmatrix}^T:=\\begin{bmatrix}a & c & e &\\\\b & d & f & \\end{bmatrix}$$\n",
    "\n",
    "Ejemplos en [Python](http://python.org/):"
   ]
  },
  {
   "cell_type": "code",
   "execution_count": 46,
   "metadata": {
    "colab": {},
    "colab_type": "code",
    "collapsed": false,
    "id": "H6chu8kJ_lax",
    "jupyter": {
     "outputs_hidden": false
    },
    "outputId": "8d597371-2582-4631-f2fb-7505ff9c898b"
   },
   "outputs": [
    {
     "data": {
      "text/plain": [
       "array([[1., 0.],\n",
       "       [0., 1.]])"
      ]
     },
     "execution_count": 46,
     "metadata": {},
     "output_type": "execute_result"
    }
   ],
   "source": [
    "# Creando una matriz identidad de 2x2\n",
    "I = np.eye(2)\n",
    "I"
   ]
  },
  {
   "cell_type": "code",
   "execution_count": 47,
   "metadata": {
    "colab": {},
    "colab_type": "code",
    "collapsed": false,
    "id": "P8nKrQdB_laz",
    "jupyter": {
     "outputs_hidden": false
    },
    "outputId": "97230bc0-11a5-4b8c-8855-d1052f1df5c7"
   },
   "outputs": [
    {
     "data": {
      "text/plain": [
       "array([[4, 7],\n",
       "       [2, 6]])"
      ]
     },
     "execution_count": 47,
     "metadata": {},
     "output_type": "execute_result"
    }
   ],
   "source": [
    "# Multiplicar una matriz por la identidad nos da la misma matriz\n",
    "A = np.array([[4, 7],\n",
    "              [2, 6]])\n",
    "A"
   ]
  },
  {
   "cell_type": "code",
   "execution_count": 48,
   "metadata": {
    "colab": {},
    "colab_type": "code",
    "collapsed": false,
    "id": "TjiAKfqj_la0",
    "jupyter": {
     "outputs_hidden": false
    },
    "outputId": "91dd0009-e5d7-433f-cf68-bc2dfe503ac9"
   },
   "outputs": [
    {
     "data": {
      "text/plain": [
       "array([[4., 7.],\n",
       "       [2., 6.]])"
      ]
     },
     "execution_count": 48,
     "metadata": {},
     "output_type": "execute_result"
    }
   ],
   "source": [
    "A.dot(I) # AxI = A"
   ]
  },
  {
   "cell_type": "code",
   "execution_count": 49,
   "metadata": {
    "colab": {},
    "colab_type": "code",
    "collapsed": false,
    "id": "EAXLUTDv_la2",
    "jupyter": {
     "outputs_hidden": false
    },
    "outputId": "3cb7e295-fc0e-4c28-94a5-60f3e1308768"
   },
   "outputs": [
    {
     "data": {
      "text/plain": [
       "np.float64(10.000000000000002)"
      ]
     },
     "execution_count": 49,
     "metadata": {},
     "output_type": "execute_result"
    }
   ],
   "source": [
    "# Calculando el determinante de la matriz A\n",
    "np.linalg.det(A)"
   ]
  },
  {
   "cell_type": "code",
   "execution_count": 50,
   "metadata": {
    "colab": {},
    "colab_type": "code",
    "collapsed": false,
    "id": "dlXXWPTe_la4",
    "jupyter": {
     "outputs_hidden": false
    },
    "outputId": "56c9635f-b563-4dad-dae3-0ce60c5e5d1e"
   },
   "outputs": [
    {
     "data": {
      "text/plain": [
       "array([[ 0.6, -0.7],\n",
       "       [-0.2,  0.4]])"
      ]
     },
     "execution_count": 50,
     "metadata": {},
     "output_type": "execute_result"
    }
   ],
   "source": [
    "# Calculando la inversa de A.\n",
    "A_inv = np.linalg.inv(A)\n",
    "A_inv"
   ]
  },
  {
   "cell_type": "code",
   "execution_count": 51,
   "metadata": {
    "colab": {},
    "colab_type": "code",
    "collapsed": false,
    "id": "iZRBBMbB_la6",
    "jupyter": {
     "outputs_hidden": false
    },
    "outputId": "904bb2cc-d248-4ad2-aedf-8dd80d426911"
   },
   "outputs": [
    {
     "data": {
      "text/plain": [
       "array([[ 1.00000000e+00, -1.11022302e-16],\n",
       "       [ 1.11022302e-16,  1.00000000e+00]])"
      ]
     },
     "execution_count": 51,
     "metadata": {},
     "output_type": "execute_result"
    }
   ],
   "source": [
    "# A x A_inv nos da como resultado I.\n",
    "A.dot(A_inv)"
   ]
  },
  {
   "cell_type": "code",
   "execution_count": null,
   "metadata": {},
   "outputs": [],
   "source": [
    "1*10**(-16)"
   ]
  },
  {
   "cell_type": "code",
   "execution_count": 52,
   "metadata": {
    "colab": {},
    "colab_type": "code",
    "collapsed": false,
    "id": "MRY9I8QV_la8",
    "jupyter": {
     "outputs_hidden": false
    },
    "outputId": "50ae6792-407c-4acf-e2c9-e9c9bf10e9e7"
   },
   "outputs": [
    {
     "data": {
      "text/plain": [
       "array([[0, 1],\n",
       "       [2, 3],\n",
       "       [4, 5]])"
      ]
     },
     "execution_count": 52,
     "metadata": {},
     "output_type": "execute_result"
    }
   ],
   "source": [
    "# Trasponiendo una matriz\n",
    "A = np.arange(6).reshape(3, 2)\n",
    "A"
   ]
  },
  {
   "cell_type": "code",
   "execution_count": 53,
   "metadata": {
    "colab": {},
    "colab_type": "code",
    "collapsed": false,
    "id": "NZeH2cbE_la9",
    "jupyter": {
     "outputs_hidden": false
    },
    "outputId": "2f14c0b6-88b5-4c3e-96d3-e62eaf8e650c"
   },
   "outputs": [
    {
     "data": {
      "text/plain": [
       "array([[0, 2, 4],\n",
       "       [1, 3, 5]])"
      ]
     },
     "execution_count": 53,
     "metadata": {},
     "output_type": "execute_result"
    }
   ],
   "source": [
    "np.transpose(A)"
   ]
  },
  {
   "cell_type": "code",
   "execution_count": 54,
   "metadata": {},
   "outputs": [
    {
     "data": {
      "text/plain": [
       "array([[0, 2, 4],\n",
       "       [1, 3, 5]])"
      ]
     },
     "execution_count": 54,
     "metadata": {},
     "output_type": "execute_result"
    }
   ],
   "source": [
    "A.T"
   ]
  },
  {
   "cell_type": "markdown",
   "metadata": {
    "colab_type": "text",
    "id": "qFwfhobF_lbA"
   },
   "source": [
    "### Sistemas de ecuaciones lineales\n",
    "\n",
    "Una de las principales aplicaciones del [Álgebra lineal](http://es.wikipedia.org/wiki/%C3%81lgebra_lineal) consiste en resolver problemas de sistemas de ecuaciones lineales.\n",
    "\n",
    "Una [ecuación lineal](https://es.wikipedia.org/wiki/Ecuaci%C3%B3n_de_primer_grado) es una ecuación que solo involucra sumas y restas de una variable o mas variables a la primera potencia. Es la ecuación de la línea recta.Cuando nuestro problema esta representado por más de una [ecuación lineal](https://es.wikipedia.org/wiki/Ecuaci%C3%B3n_de_primer_grado), hablamos de un [sistema de ecuaciones lineales](http://es.wikipedia.org/wiki/Sistema_de_ecuaciones_lineales). Por ejemplo, podríamos tener un sistema de dos ecuaciones con dos incógnitas como el siguiente:\n",
    "\n",
    "$$ x - 2y = 1$$ \n",
    "$$3x + 2y = 11$$\n",
    "\n",
    "La idea es encontrar el valor de $x$ e $y$ que resuelva ambas ecuaciones. Una forma en que podemos hacer esto, puede ser representando graficamente ambas rectas y buscar los puntos en que las rectas se cruzan. \n",
    "\n",
    "En [Python](http://python.org/) esto se puede hacer en forma muy sencilla con la ayuda de [matplotlib](http://matplotlib.org/)."
   ]
  },
  {
   "cell_type": "code",
   "execution_count": 55,
   "metadata": {},
   "outputs": [
    {
     "ename": "SyntaxError",
     "evalue": "cannot assign to operator (3978271044.py, line 1)",
     "output_type": "error",
     "traceback": [
      "\u001b[0;36m  Cell \u001b[0;32mIn[55], line 1\u001b[0;36m\u001b[0m\n\u001b[0;31m    x - 2*y = 1\u001b[0m\n\u001b[0m    ^\u001b[0m\n\u001b[0;31mSyntaxError\u001b[0m\u001b[0;31m:\u001b[0m cannot assign to operator\n"
     ]
    }
   ],
   "source": [
    "x - 2*y = 1\n",
    "\n",
    "# x = 1 + 2*y Despejamos x\n",
    "\n",
    "x - 1 = 2*y\n",
    "\n",
    "#(x-1)/2 = y # Despejamos y"
   ]
  },
  {
   "cell_type": "code",
   "execution_count": 58,
   "metadata": {},
   "outputs": [
    {
     "data": {
      "text/plain": [
       "array([0. , 2.5, 5. ])"
      ]
     },
     "execution_count": 58,
     "metadata": {},
     "output_type": "execute_result"
    }
   ],
   "source": [
    "np.linspace(0, 5, 3)"
   ]
  },
  {
   "cell_type": "code",
   "execution_count": 78,
   "metadata": {},
   "outputs": [],
   "source": [
    "#x = 0 y=\n",
    "#x = 0.55 y=\n",
    "#x = 1.11 y="
   ]
  },
  {
   "cell_type": "code",
   "execution_count": 59,
   "metadata": {
    "colab": {},
    "colab_type": "code",
    "collapsed": false,
    "id": "iXyQSq00_lbA",
    "jupyter": {
     "outputs_hidden": false
    },
    "outputId": "65a07981-732d-478f-de43-0faad9659814"
   },
   "outputs": [
    {
     "data": {
      "text/plain": [
       "[<matplotlib.lines.Line2D at 0x7fc8e52727c0>]"
      ]
     },
     "execution_count": 59,
     "metadata": {},
     "output_type": "execute_result"
    },
    {
     "data": {
      "image/png": "[encoded data removed]",
      "text/plain": [
       "<Figure size 640x480 with 1 Axes>"
      ]
     },
     "metadata": {},
     "output_type": "display_data"
    }
   ],
   "source": [
    "# graficando el sistema de ecuaciones.\n",
    "x_vals = np.linspace(0, 5, 50) # crea 50 valores entre 0 y 5\n",
    "plt.plot(x_vals, (x_vals - 1)/2) # grafica x - 2y = 1\n",
    "plt.plot(x_vals, (11 - (3*x_vals))/2) # grafica 3x + 2y = 11\n",
    "# plt.axis(ymin = 0)"
   ]
  },
  {
   "cell_type": "markdown",
   "metadata": {
    "colab_type": "text",
    "id": "bs3bEBr-_lbC"
   },
   "source": [
    "Luego de haber graficado las funciones, podemos ver que ambas rectas se cruzan en el punto (3, 1), es decir que la solución de nuestro sistema sería $x=3$ e $y=1$. En este caso, al tratarse de un sistema simple y con solo dos incógnitas, la solución gráfica puede ser de utilidad, pero para sistemas más complicados se necesita una solución numérica, es aquí donde entran a jugar las <a href=\"http://es.wikipedia.org/wiki/Matriz_(matem%C3%A1ticas)\">matrices</a>.\n",
    "\n",
    "Ese mismo sistema se podría representar como una ecuación matricial de la siguiente forma:\n",
    "\n",
    "$$\\begin{bmatrix}1 & -2 & \\\\3 & 2 & \\end{bmatrix} \\begin{bmatrix}x & \\\\y & \\end{bmatrix} = \\begin{bmatrix}1 & \\\\11 & \\end{bmatrix}$$\n",
    "\n",
    "Lo que es lo mismo que decir que la <a href=\"http://es.wikipedia.org/wiki/Matriz_(matem%C3%A1ticas)\">matriz</a> A por la <a href=\"http://es.wikipedia.org/wiki/Matriz_(matem%C3%A1ticas)\">matriz</a> $x$ nos da como resultado el [vector](http://es.wikipedia.org/wiki/Vector) b.\n",
    "\n",
    "$$ Ax = b$$\n",
    "\n",
    "En este caso, ya sabemos el resultado de $x$, por lo que podemos comprobar que nuestra solución es correcta realizando la [multiplicación de matrices](https://es.wikipedia.org/wiki/Multiplicaci%C3%B3n_de_matrices)."
   ]
  },
  {
   "cell_type": "code",
   "execution_count": null,
   "metadata": {},
   "outputs": [],
   "source": [
    "1*x - 2*y = 1\n",
    "3*x + 2*y = 11"
   ]
  },
  {
   "cell_type": "code",
   "execution_count": 60,
   "metadata": {
    "colab": {},
    "colab_type": "code",
    "collapsed": false,
    "id": "z7v4PvIe_lbD",
    "jupyter": {
     "outputs_hidden": false
    },
    "outputId": "529035c0-2d6d-4620-97a2-0d90200723cb"
   },
   "outputs": [
    {
     "data": {
      "text/plain": [
       "array([[ 1.],\n",
       "       [11.]])"
      ]
     },
     "execution_count": 60,
     "metadata": {},
     "output_type": "execute_result"
    }
   ],
   "source": [
    "# Comprobando la solucion con la multiplicación de matrices.\n",
    "A = np.array([[1., -2.],\n",
    "              [3., 2.]])\n",
    "x = np.array([[3.],[1.]])\n",
    "\n",
    "A.dot(x)"
   ]
  },
  {
   "cell_type": "markdown",
   "metadata": {
    "colab_type": "text",
    "id": "Vz3NqnEw_lbE"
   },
   "source": [
    "Para resolver en forma numérica los [sistema de ecuaciones](http://es.wikipedia.org/wiki/Sistema_de_ecuaciones_lineales), existen varios métodos:\n",
    "\n",
    "* **El método de sustitución**: El cual consiste en despejar en una de las ecuaciones cualquier incógnita, preferiblemente la que tenga menor coeficiente y a continuación sustituirla en otra ecuación por su valor.\n",
    "\n",
    "* **El método de igualacion**: El cual se puede entender como un caso particular del método de sustitución en el que se despeja la misma incógnita en dos ecuaciones y a continuación se igualan entre sí la parte derecha de ambas ecuaciones.\n",
    "\n",
    "* **El método de reduccion**: El procedimiento de este método consiste en transformar una de las ecuaciones (generalmente, mediante productos), de manera que obtengamos dos ecuaciones en la que una misma incógnita aparezca con el mismo coeficiente y distinto signo. A continuación, se suman ambas ecuaciones produciéndose así la reducción o cancelación de dicha incógnita, obteniendo una ecuación con una sola incógnita, donde el método de resolución es simple.\n",
    "\n",
    "* **El método gráfico**: Que consiste en construir el gráfica de cada una de las ecuaciones del sistema. Este método (manualmente aplicado) solo resulta eficiente en el plano cartesiano (solo dos incógnitas).\n",
    "\n",
    "* **El método de Gauss**: El método de eliminación de Gauss o simplemente método de Gauss consiste en convertir un sistema lineal de n ecuaciones con n incógnitas, en uno escalonado, en el que la primera ecuación tiene n incógnitas, la segunda ecuación tiene n - 1 incógnitas, ..., hasta la última ecuación, que tiene 1 incógnita. De esta forma, será fácil partir de la última ecuación e ir subiendo para calcular el valor de las demás incógnitas.\n",
    "\n",
    "* **El método de Eliminación de Gauss-Jordan**: El cual es una variante del método anterior, y consistente en triangular la matriz aumentada del sistema mediante transformaciones elementales, hasta obtener ecuaciones de una sola incógnita.\n",
    "\n",
    "* **El método de Cramer**: El cual consiste en aplicar la [regla de Cramer](http://es.wikipedia.org/wiki/Regla_de_Cramer) para resolver el sistema. Este método solo se puede aplicar cuando la matriz de coeficientes del sistema es cuadrada y de determinante no nulo.\n",
    "\n",
    "La idea no es explicar cada uno de estos métodos, sino saber que existen y que [Python](http://python.org/) nos hacer la vida mucho más fácil, ya que para resolver un [sistema de ecuaciones](http://es.wikipedia.org/wiki/Sistema_de_ecuaciones_lineales) simplemente debemos llamar a la función `solve()`.\n",
    "\n",
    "Por ejemplo, para resolver este sistema de 3 ecuaciones y 3 incógnitas.\n",
    "\n",
    "$$ x + 2y + 3z = 6$$\n",
    "$$ 2x + 5y + 2z = 4$$\n",
    "$$ 6x - 3y + z = 2$$\n",
    "\n",
    "Primero armamos la <a href=\"http://es.wikipedia.org/wiki/Matriz_(matem%C3%A1ticas)\">matriz</a> A de coeficientes y la <a href=\"http://es.wikipedia.org/wiki/Matriz_(matem%C3%A1ticas)\">matriz</a> b de resultados y luego utilizamos `solve()` para resolverla."
   ]
  },
  {
   "cell_type": "code",
   "execution_count": null,
   "metadata": {},
   "outputs": [],
   "source": [
    "# A*x = b\n",
    "# x = [x,\n",
    "#      y,\n",
    "#      z]"
   ]
  },
  {
   "cell_type": "code",
   "execution_count": 61,
   "metadata": {
    "colab": {},
    "colab_type": "code",
    "collapsed": false,
    "id": "iqjmwU_9_lbF",
    "jupyter": {
     "outputs_hidden": false
    },
    "outputId": "a55f31f7-020f-4a04-cbae-73dacd20f3b2"
   },
   "outputs": [
    {
     "data": {
      "text/plain": [
       "array([[ 1,  2,  3],\n",
       "       [ 2,  5,  2],\n",
       "       [ 6, -3,  1]])"
      ]
     },
     "execution_count": 61,
     "metadata": {},
     "output_type": "execute_result"
    }
   ],
   "source": [
    "# Creando matriz de coeficientes\n",
    "A = np.array([[1, 2, 3],\n",
    "              [2, 5, 2],\n",
    "              [6, -3, 1]])\n",
    "A"
   ]
  },
  {
   "cell_type": "code",
   "execution_count": 62,
   "metadata": {
    "colab": {},
    "colab_type": "code",
    "collapsed": false,
    "id": "JgGA4MFo_lbG",
    "jupyter": {
     "outputs_hidden": false
    },
    "outputId": "340b038b-d1c3-415c-ac83-8c8f6f834a90"
   },
   "outputs": [
    {
     "data": {
      "text/plain": [
       "array([6, 4, 2])"
      ]
     },
     "execution_count": 62,
     "metadata": {},
     "output_type": "execute_result"
    }
   ],
   "source": [
    "# Creando matriz de resultados\n",
    "b = np.array([6, 4, 2])\n",
    "b"
   ]
  },
  {
   "cell_type": "code",
   "execution_count": 63,
   "metadata": {
    "colab": {},
    "colab_type": "code",
    "collapsed": false,
    "id": "psR7_-HW_lbI",
    "jupyter": {
     "outputs_hidden": false
    },
    "outputId": "dbf02904-ce2f-4341-c0a0-df6d3d08364a"
   },
   "outputs": [
    {
     "data": {
      "text/plain": [
       "array([-1.48029737e-16, -1.48029737e-16,  2.00000000e+00])"
      ]
     },
     "execution_count": 63,
     "metadata": {},
     "output_type": "execute_result"
    }
   ],
   "source": [
    "# Resolviendo sistema de ecuaciones\n",
    "variables = np.linalg.solve(A, b)\n",
    "variables"
   ]
  },
  {
   "cell_type": "code",
   "execution_count": 84,
   "metadata": {},
   "outputs": [],
   "source": [
    "x = 0\n",
    "y = 0\n",
    "z = 2"
   ]
  },
  {
   "cell_type": "code",
   "execution_count": null,
   "metadata": {
    "colab": {},
    "colab_type": "code",
    "collapsed": false,
    "id": "hmWSzajI_lbK",
    "jupyter": {
     "outputs_hidden": false
    },
    "outputId": "b75b956e-4f39-4543-f290-ae7e9eef6685"
   },
   "outputs": [],
   "source": [
    "# Comprobando la solucion\n",
    "A.dot(variables) == b"
   ]
  },
  {
   "cell_type": "markdown",
   "metadata": {
    "colab_type": "text",
    "id": "l9xnCAgL_lbT"
   },
   "source": [
    "\n",
    "## Campos\n",
    "\n",
    "Un <a href=\"https://es.wikipedia.org/wiki/Cuerpo_(matem%C3%A1ticas)\">Campo</a>, $F$, es una [estructura algebraica](https://es.wikipedia.org/wiki/Estructura_algebraica) en la cual las operaciones de <a href=\"https://es.wikipedia.org/wiki/Adici%C3%B3n_(matem%C3%A1ticas)\">adición</a> y [multiplicación](https://es.wikipedia.org/wiki/Multiplicaci%C3%B3n) se pueden realizar y cumplen con las siguientes propiedades: \n",
    "\n",
    "1. La [propiedad conmutativa](https://es.wikipedia.org/wiki/Conmutatividad) tanto para la <a href=\"https://es.wikipedia.org/wiki/Adici%C3%B3n_(matem%C3%A1ticas)\">adición</a> como para la [multiplicación](https://es.wikipedia.org/wiki/Multiplicaci%C3%B3n); es decir: $a + b = b + a$; y $a \\cdot b = b \\cdot a$; para todo $a, b \\in F$ \n",
    "\n",
    "2. La <a href=\"https://es.wikipedia.org/wiki/Asociatividad_(%C3%A1lgebra)\">propiedad asociativa</a>, tanto para la <a href=\"https://es.wikipedia.org/wiki/Adici%C3%B3n_(matem%C3%A1ticas)\">adición</a> como para la [multiplicación](https://es.wikipedia.org/wiki/Multiplicaci%C3%B3n); es decir: $(a + b) + c = a + (b + c)$; y $(a \\cdot b) \\cdot c = a \\cdot (b \\cdot c)$; para todo $a, b, c \\in F$ \n",
    "\n",
    "3. La [propiedad distributiva](https://es.wikipedia.org/wiki/Distributividad) de la [multiplicación](https://es.wikipedia.org/wiki/Multiplicaci%C3%B3n) sobre la <a href=\"https://es.wikipedia.org/wiki/Adici%C3%B3n_(matem%C3%A1ticas)\">adición</a>; es decir: $a \\cdot (b + c) = a \\cdot b + a \\cdot c$; para todo $a, b, c \\in F$ \n",
    "\n",
    "4. La existencia de un *[elemento neutro](https://es.wikipedia.org/wiki/Elemento_neutro)* tanto para la <a href=\"https://es.wikipedia.org/wiki/Adici%C3%B3n_(matem%C3%A1ticas)\">adición</a> como para la [multiplicación](https://es.wikipedia.org/wiki/Multiplicaci%C3%B3n); es decir: $a + 0 = a$; y $a \\cdot 1 = a$; para todo $a \\in F$.\n",
    "\n",
    "5. La existencia de un *[elemento inverso](https://es.wikipedia.org/wiki/Elemento_sim%C3%A9trico)* tanto para la <a href=\"https://es.wikipedia.org/wiki/Adici%C3%B3n_(matem%C3%A1ticas)\">adición</a> como para la [multiplicación](https://es.wikipedia.org/wiki/Multiplicaci%C3%B3n); es decir: $a + (-a) = 0$; y $a \\cdot a^{-1} = 1$; para todo $a \\in F$ y $a \\ne 0$.\n",
    "\n",
    "Dos de los <a href=\"https://es.wikipedia.org/wiki/Cuerpo_(matem%C3%A1ticas)\">Campos</a> más comunes con los que nos vamos a encontrar al trabajar en problemas de [Álgebra lineal](http://relopezbriega.github.io/tag/algebra.html), van a ser el [conjunto](http://relopezbriega.github.io/blog/2015/10/11/conjuntos-con-python/) de los [números reales](https://es.wikipedia.org/wiki/N%C3%BAmero_real), $\\mathbb{R}$; y el [conjunto](http://relopezbriega.github.io/blog/2015/10/11/conjuntos-con-python/) de los [números complejos](http://relopezbriega.github.io/blog/2015/10/12/numeros-complejos-con-python/), $\\mathbb{C}$.\n",
    "\n",
    "## Vectores\n",
    "\n",
    "Muchas nociones físicas, tales como las fuerzas, velocidades y aceleraciones, involucran una magnitud (el valor de la fuerza, velocidad o aceleración) y una dirección. Cualquier entidad que involucre magnitud y dirección se llama [vector](http://es.wikipedia.org/wiki/Vector). Los [vectores](http://es.wikipedia.org/wiki/Vector) se representan por flechas en las que la longitud de ellas define la magnitud; y la dirección de la flecha representa la dirección del [vector](http://es.wikipedia.org/wiki/Vector). Podemos pensar en los [vectores](http://es.wikipedia.org/wiki/Vector) como una serie de números. Éstos números tienen una orden preestablecido, y podemos identificar cada número individual por su índice en ese orden. Los [vectores](http://es.wikipedia.org/wiki/Vector) identifican puntos en el espacio, en donde cada elemento representa una coordenada del eje en el espacio. La típica forma de representarlos es la siguiente:\n",
    "\n",
    "$$v = \\left[ \\begin{array}{c} x_1 \\\\ x_2 \\\\ \\vdots \\\\ x_n \\end{array} \\right]$$\n",
    "\n",
    "Geométricamente podemos representarlos del siguiente modo en el plano de 2 dimensiones:"
   ]
  },
  {
   "cell_type": "code",
   "execution_count": 89,
   "metadata": {},
   "outputs": [],
   "source": [
    "#!pip install scipy\n",
    "#!pip install sympy"
   ]
  },
  {
   "cell_type": "code",
   "execution_count": 90,
   "metadata": {
    "colab": {},
    "colab_type": "code",
    "collapsed": true,
    "hide_input": false,
    "id": "LgR09IOH_lbT",
    "jupyter": {
     "outputs_hidden": true
    }
   },
   "outputs": [],
   "source": [
    "# <!-- collapse=True -->\n",
    "# importando modulos necesarios\n",
    "%matplotlib inline\n",
    "\n",
    "import matplotlib.pyplot as plt\n",
    "import numpy as np\n",
    "import scipy.sparse as sp\n",
    "import scipy.sparse.linalg\n",
    "import scipy.linalg as la\n",
    "import sympy\n",
    "\n",
    "# imprimir con notación matemática.\n",
    "sympy.init_printing(use_latex='mathjax')"
   ]
  },
  {
   "cell_type": "code",
   "execution_count": null,
   "metadata": {
    "colab": {},
    "colab_type": "code",
    "collapsed": false,
    "hide_input": false,
    "id": "jKNUyW8U_lbW",
    "jupyter": {
     "outputs_hidden": false
    },
    "outputId": "6c02eca5-21bc-4d8b-a7ab-b916e59bc73e"
   },
   "outputs": [],
   "source": [
    "# <!-- collapse=True -->\n",
    "# graficando vector en R^2 [2, 4]\n",
    "def move_spines():\n",
    "    \"\"\"Crea la figura de pyplot y los ejes. Mueve las lineas de la izquierda \n",
    "    y de abajo para que se intersecten con el origen. Elimina las lineas de\n",
    "    la derecha y la de arriba. Devuelve los ejes.\"\"\"\n",
    "    fix, ax = plt.subplots()\n",
    "    for spine in [\"left\", \"bottom\"]:\n",
    "        ax.spines[spine].set_position(\"zero\")\n",
    "    \n",
    "    for spine in [\"right\", \"top\"]:\n",
    "        ax.spines[spine].set_color(\"none\")\n",
    "    \n",
    "    return ax\n",
    "\n",
    "def vect_fig(vector, color): \n",
    "    \"\"\"Genera el grafico de los vectores en el plano\"\"\"\n",
    "    v = vector\n",
    "    ax.annotate(\" \", xy=v, xytext=[0, 0], color=color,\n",
    "                arrowprops=dict(facecolor=color,\n",
    "                                shrink=0,\n",
    "                                alpha=0.7,\n",
    "                                width=0.5))\n",
    "    ax.text(1.1 * v[0], 1.1 * v[1], v)\n",
    "\n",
    "ax = move_spines()\n",
    "ax.set_xlim(-5, 5)\n",
    "ax.set_ylim(-5, 5)\n",
    "ax.grid()\n",
    "vect_fig([2, 4], \"blue\")"
   ]
  },
  {
   "cell_type": "markdown",
   "metadata": {
    "colab_type": "text",
    "id": "8LsPV8l6_lbZ"
   },
   "source": [
    "## Combinaciones lineales\n",
    "\n",
    "Cuando trabajamos con [vectores](http://es.wikipedia.org/wiki/Vector), nos vamos a encontrar con dos operaciones fundamentales, la *suma* o *<a href=\"https://es.wikipedia.org/wiki/Adici%C3%B3n_(matem%C3%A1ticas)\">adición</a>*; y la *multiplicación por <a href=\"http://es.wikipedia.org/wiki/Escalar_(matem%C3%A1tica)\">escalares</a>*. Cuando *sumamos* dos vectores $v$ y $w$, sumamos elemento por elemento, del siguiente modo:\n",
    "\n",
    "$$v + w\n",
    "=\n",
    "\\left[\n",
    "\\begin{array}{c}\n",
    "    v_1 \\\\\n",
    "    v_2 \\\\\n",
    "    \\vdots \\\\\n",
    "    v_n\n",
    "\\end{array}\n",
    "\\right]\n",
    "+\n",
    "\\left[\n",
    "\\begin{array}{c}\n",
    "     w_1 \\\\\n",
    "     w_2 \\\\\n",
    "    \\vdots \\\\\n",
    "     w_n\n",
    "\\end{array}\n",
    "\\right] =\n",
    "\\left[\n",
    "\\begin{array}{c}\n",
    "    v_1 + w_1 \\\\\n",
    "    v_2 + w_2 \\\\\n",
    "    \\vdots \\\\\n",
    "    v_n + w_n\n",
    "\\end{array}\n",
    "\\right]$$\n",
    "\n",
    "Geométricamente lo podemos ver representado del siguiente modo:"
   ]
  },
  {
   "cell_type": "code",
   "execution_count": 64,
   "metadata": {
    "colab": {},
    "colab_type": "code",
    "collapsed": false,
    "hide_input": false,
    "id": "VBu1fAOV_lbZ",
    "jupyter": {
     "outputs_hidden": false
    },
    "outputId": "171acdcc-3014-4158-83ca-09f007d52fce"
   },
   "outputs": [
    {
     "ename": "TypeError",
     "evalue": "vect_fig() takes 0 positional arguments but 2 were given",
     "output_type": "error",
     "traceback": [
      "\u001b[0;31m---------------------------------------------------------------------------\u001b[0m",
      "\u001b[0;31mTypeError\u001b[0m                                 Traceback (most recent call last)",
      "Cell \u001b[0;32mIn[64], line 11\u001b[0m\n\u001b[1;32m      9\u001b[0m vecs \u001b[38;5;241m=\u001b[39m [[\u001b[38;5;241m2\u001b[39m, \u001b[38;5;241m4\u001b[39m], [\u001b[38;5;241m2\u001b[39m, \u001b[38;5;241m-\u001b[39m\u001b[38;5;241m2\u001b[39m]] \u001b[38;5;66;03m# lista de vectores\u001b[39;00m\n\u001b[1;32m     10\u001b[0m \u001b[38;5;28;01mfor\u001b[39;00m v \u001b[38;5;129;01min\u001b[39;00m vecs:\n\u001b[0;32m---> 11\u001b[0m     \u001b[43mvect_fig\u001b[49m\u001b[43m(\u001b[49m\u001b[43mv\u001b[49m\u001b[43m,\u001b[49m\u001b[43m \u001b[49m\u001b[38;5;124;43m\"\u001b[39;49m\u001b[38;5;124;43mblue\u001b[39;49m\u001b[38;5;124;43m\"\u001b[39;49m\u001b[43m)\u001b[49m\n\u001b[1;32m     13\u001b[0m v \u001b[38;5;241m=\u001b[39m np\u001b[38;5;241m.\u001b[39marray([\u001b[38;5;241m2\u001b[39m, \u001b[38;5;241m4\u001b[39m]) \u001b[38;5;241m+\u001b[39m np\u001b[38;5;241m.\u001b[39marray([\u001b[38;5;241m2\u001b[39m, \u001b[38;5;241m-\u001b[39m\u001b[38;5;241m2\u001b[39m])\n\u001b[1;32m     14\u001b[0m vect_fig(v, \u001b[38;5;124m\"\u001b[39m\u001b[38;5;124mred\u001b[39m\u001b[38;5;124m\"\u001b[39m)\n",
      "\u001b[0;31mTypeError\u001b[0m: vect_fig() takes 0 positional arguments but 2 were given"
     ]
    },
    {
     "data": {
      "image/png": "[encoded data removed]",
      "text/plain": [
       "<Figure size 640x480 with 1 Axes>"
      ]
     },
     "metadata": {},
     "output_type": "display_data"
    }
   ],
   "source": [
    "# <!-- collapse=True -->\n",
    "# graficando suma de vectores en R^2\n",
    "# [2, 4] + [2, -2]\n",
    "\n",
    "ax = move_spines()\n",
    "ax.set_xlim(-5, 5)\n",
    "ax.set_ylim(-5, 5)\n",
    "ax.grid()\n",
    "vecs = [[2, 4], [2, -2]] # lista de vectores\n",
    "for v in vecs:\n",
    "    vect_fig(v, \"blue\")\n",
    "\n",
    "v = np.array([2, 4]) + np.array([2, -2])\n",
    "vect_fig(v, \"red\")\n",
    "\n",
    "ax.plot([2, 4], [-2, 2], linestyle='--')\n",
    "a =ax.plot([2, 4], [4, 2], linestyle='--' )"
   ]
  },
  {
   "cell_type": "markdown",
   "metadata": {
    "colab_type": "text",
    "id": "hv1kzh12_lbb"
   },
   "source": [
    "Cuando *multiplicamos [vectores](http://es.wikipedia.org/wiki/Vector) por <a href=\"http://es.wikipedia.org/wiki/Escalar_(matem%C3%A1tica)\">escalares</a>*, lo que hacemos es tomar un número $\\alpha$ y un [vector](http://es.wikipedia.org/wiki/Vector) $v$; y creamos un nuevo [vector](http://es.wikipedia.org/wiki/Vector) $w$ en el cada elemento de $v$ es *multiplicado* por $\\alpha$ del siguiente modo:\n",
    "\n",
    "$$\\begin{split}\\alpha v\n",
    "=\n",
    "\\left[\n",
    "\\begin{array}{c}\n",
    "    \\alpha v_1 \\\\\n",
    "    \\alpha v_2 \\\\\n",
    "    \\vdots \\\\\n",
    "    \\alpha v_n\n",
    "\\end{array}\n",
    "\\right]\\end{split}$$\n",
    "\n",
    "Geométricamente podemos representar a esta operación en el plano de 2 dimensiones del siguiente modo:"
   ]
  },
  {
   "cell_type": "code",
   "execution_count": null,
   "metadata": {
    "colab": {},
    "colab_type": "code",
    "collapsed": false,
    "hide_input": false,
    "id": "Bkq6YA9i_lbc",
    "jupyter": {
     "outputs_hidden": false
    },
    "outputId": "a179fe0d-5bd3-4daf-fa3f-3a1b9ed14ed8"
   },
   "outputs": [],
   "source": [
    "# <!-- collapse=True -->\n",
    "# graficando multiplicación por escalares en R^2\n",
    "# [2, 3] * 2\n",
    "\n",
    "ax = move_spines()\n",
    "ax.set_xlim(-6, 6)\n",
    "ax.set_ylim(-6, 6)\n",
    "ax.grid()\n",
    "\n",
    "v = np.array([2, 3])\n",
    "vect_fig(v, \"blue\")\n",
    "\n",
    "v = v * 2\n",
    "vect_fig(v, \"red\")"
   ]
  },
  {
   "cell_type": "markdown",
   "metadata": {
    "colab_type": "text",
    "id": "xtHUJYhv_lbe"
   },
   "source": [
    "Cuando combinamos estas dos operaciones, formamos lo que se conoce en [Álgebra lineal](http://relopezbriega.github.io/tag/algebra.html) como [combinaciones lineales](https://es.wikipedia.org/wiki/Combinaci%C3%B3n_lineal). Es decir que una [combinación lineal](https://es.wikipedia.org/wiki/Combinaci%C3%B3n_lineal) va a ser una expresión matemática construida sobre un conjunto de [vectores](http://es.wikipedia.org/wiki/Vector), en el que cada vector es *multiplicado por un <a href=\"http://es.wikipedia.org/wiki/Escalar_(matem%C3%A1tica)\">escalar</a>* y los resultados son luego *sumados*. Matemáticamente lo podemos expresar de la siguiente forma:\n",
    "\n",
    "$$w = \\alpha_1 v_1 + \\alpha_2 v_2 + \\dots + \\alpha_n v_n = \\sum_{i=1}^n \\alpha_i v_i\n",
    "$$\n",
    "\n",
    "en donde, $v_n$ son [vectores](http://es.wikipedia.org/wiki/Vector) y $\\alpha_n$ son <a href=\"http://es.wikipedia.org/wiki/Escalar_(matem%C3%A1tica)\">escalares</a>.\n",
    "\n",
    "## Matrices, combinaciones lineales y Ax = b\n",
    "\n",
    "Una <a href=\"https://es.wikipedia.org/wiki/Matriz_(matem%C3%A1ticas)\">matriz</a> es un arreglo bidimensional de números ordenados en filas y columnas, donde una fila es cada una de las líneas horizontales de la matriz y una columna es cada una de las líneas verticales. En una <a href=\"https://es.wikipedia.org/wiki/Matriz_(matem%C3%A1ticas)\">matriz</a> cada elemento puede ser identificado utilizando dos índices, uno para la fila y otro para la columna en que se encuentra. Las podemos representar de la siguiente manera:\n",
    "\n",
    "$$A=\\begin{bmatrix}a_{11} & a_{12} & \\dots & a_{1n}\\\\a_{21} & a_{22} & \\dots & a_{2n}\n",
    "\\\\ \\vdots & \\vdots & \\ddots & \\vdots \\\\ \n",
    "a_{n1} & a_{n2} & \\dots & a_{nn}\\end{bmatrix}$$\n",
    "\n",
    "Las <a href=\"https://es.wikipedia.org/wiki/Matriz_(matem%C3%A1ticas)\">matrices</a> se utilizan para múltiples aplicaciones y sirven, en particular, para representar los coeficientes de los [sistemas de ecuaciones lineales](https://es.wikipedia.org/wiki/Sistema_de_ecuaciones_lineales) o para representar [combinaciones lineales](https://es.wikipedia.org/wiki/Combinaci%C3%B3n_lineal).\n",
    "\n",
    "Supongamos que tenemos los siguientes 3 vectores:\n",
    "\n",
    "$$x_1\n",
    "=\n",
    "\\left[\n",
    "\\begin{array}{c}\n",
    "     1 \\\\\n",
    "    -1 \\\\\n",
    "     0\n",
    "\\end{array}\n",
    "\\right]\n",
    "\\\n",
    "x_2 =\n",
    "\\left[\n",
    "\\begin{array}{c}\n",
    "     0 \\\\\n",
    "     1 \\\\\n",
    "    -1 \n",
    "\\end{array}\n",
    "\\right] \\ \n",
    "x_3 =\n",
    "\\left[\n",
    "\\begin{array}{c}\n",
    "    0 \\\\\n",
    "    0 \\\\\n",
    "    1\n",
    "\\end{array}\n",
    "\\right]$$\n",
    "\n",
    "su [combinación lineal](https://es.wikipedia.org/wiki/Combinaci%C3%B3n_lineal) en el espacio de 3 dimensiones va a ser igual a $\\alpha_1 x_1 + \\alpha_2 x_2 + \\alpha_3 x_3$; lo que es lo mismo que decir:\n",
    "\n",
    "$$\\alpha_1\n",
    "\\left[\n",
    "\\begin{array}{c}\n",
    "     1 \\\\\n",
    "    -1 \\\\\n",
    "     0\n",
    "\\end{array}\n",
    "\\right]\n",
    "+ \\alpha_2\n",
    "\\left[\n",
    "\\begin{array}{c}\n",
    "     0 \\\\\n",
    "     1 \\\\\n",
    "    -1 \n",
    "\\end{array}\n",
    "\\right] + \\alpha_3\n",
    "\\left[\n",
    "\\begin{array}{c}\n",
    "    0 \\\\\n",
    "    0 \\\\\n",
    "    1\n",
    "\\end{array}\n",
    "\\right] = \\left[\n",
    "\\begin{array}{c}\n",
    "    \\alpha_1 \\\\\n",
    "    \\alpha_2 - \\alpha_1 \\\\\n",
    "    \\alpha_3 - \\alpha_2\n",
    "\\end{array}\n",
    "\\right]$$\n",
    "\n",
    "Ahora esta [combinación lineal](https://es.wikipedia.org/wiki/Combinaci%C3%B3n_lineal) la podríamos reescribir en forma matricial. Los vectores $x_1, x_2$ y $x_3$, pasarían a formar las columnas de la <a href=\"https://es.wikipedia.org/wiki/Matriz_(matem%C3%A1ticas)\">matriz</a> $A$ y los <a href=\"http://es.wikipedia.org/wiki/Escalar_(matem%C3%A1tica)\">escalares</a> $\\alpha_1, \\alpha_2$ y $\\alpha_3$ pasarían a ser los componentes del [vector](http://es.wikipedia.org/wiki/Vector) $x$ del siguiente modo:\n",
    "\n",
    "$$\\begin{bmatrix}1 & 0 & 0\\\\-1 & 1 & 0\n",
    "\\\\ 0 & -1 & 1\\end{bmatrix}\\begin{bmatrix} \\alpha_1 \\\\ \\alpha_2 \\\\ \\alpha_3\\end{bmatrix}=\n",
    "\\begin{bmatrix}\\alpha_1 \\\\ \\alpha_2 - \\alpha_1 \\\\ \\alpha_3 - \\alpha_2 \\end{bmatrix}$$\n",
    "\n",
    "De esta forma la <a href=\"https://es.wikipedia.org/wiki/Matriz_(matem%C3%A1ticas)\">matriz</a> $A$ multiplicada por el [vector](http://es.wikipedia.org/wiki/Vector) $x$, nos da como resultado la misma [combinación lineal](https://es.wikipedia.org/wiki/Combinaci%C3%B3n_lineal) $b$. De esta forma, arribamos a una de las ecuaciones más fundamentales del [Álgebra lineal](http://relopezbriega.github.io/tag/algebra.html):\n",
    "\n",
    "$$Ax = b$$\n",
    "\n",
    "Esta ecuación no solo nos va a servir para expresar [combinaciones lineales](https://es.wikipedia.org/wiki/Combinaci%C3%B3n_lineal), sino que también se vuelve de suma importancia a la hora de resolver [sistemas de ecuaciones lineales](https://es.wikipedia.org/wiki/Sistema_de_ecuaciones_lineales), en dónde $b$ va a ser conocido y la incógnita pasa a ser $x$. Por ejemplo, supongamos que queremos resolver el siguiente [sistemas de ecuaciones](https://es.wikipedia.org/wiki/Sistema_de_ecuaciones_lineales) de 3 incógnitas:\n",
    "\n",
    "$$ 2x_1 + 3x_2 + 5x_3 = 52 \\\\\n",
    "3x_1 + 6x_2 + 2x_3 = 61 \\\\\n",
    "8x_1 + 3x_2 + 6x_3 = 75\n",
    "$$\n",
    "\n",
    "Podemos ayudarnos de [SymPy](http://www.sympy.org/es/) para expresar a la <a href=\"https://es.wikipedia.org/wiki/Matriz_(matem%C3%A1ticas)\">matriz</a> $A$ y $b$ para luego arribar a la solución del [vector](http://es.wikipedia.org/wiki/Vector) $x$."
   ]
  },
  {
   "cell_type": "code",
   "execution_count": 65,
   "metadata": {},
   "outputs": [
    {
     "name": "stdout",
     "output_type": "stream",
     "text": [
      "Collecting SymPy\n",
      "  Downloading sympy-1.13.3-py3-none-any.whl (6.2 MB)\n",
      "\u001b[K     |████████████████████████████████| 6.2 MB 1.2 MB/s eta 0:00:01\n",
      "\u001b[?25hCollecting mpmath<1.4,>=1.1.0\n",
      "  Downloading mpmath-1.3.0-py3-none-any.whl (536 kB)\n",
      "\u001b[K     |████████████████████████████████| 536 kB 12.1 MB/s eta 0:00:01\n",
      "\u001b[?25hInstalling collected packages: mpmath, SymPy\n",
      "Successfully installed SymPy-1.13.3 mpmath-1.3.0\n",
      "\u001b[33mWARNING: You are using pip version 21.1.3; however, version 24.2 is available.\n",
      "You should consider upgrading via the '/usr/local/bin/python3 -m pip install --upgrade pip' command.\u001b[0m\n",
      "Note: you may need to restart the kernel to use updated packages.\n"
     ]
    }
   ],
   "source": [
    "%pip install SymPy"
   ]
  },
  {
   "cell_type": "code",
   "execution_count": 4,
   "metadata": {},
   "outputs": [],
   "source": [
    "import sympy"
   ]
  },
  {
   "cell_type": "code",
   "execution_count": 5,
   "metadata": {
    "colab": {},
    "colab_type": "code",
    "collapsed": false,
    "id": "baJznPrE_lbe",
    "jupyter": {
     "outputs_hidden": false
    },
    "outputId": "bcbfd1ee-c767-4e07-d09e-0b43fdde6ab8"
   },
   "outputs": [
    {
     "data": {
      "text/latex": [
       "$\\displaystyle \\left[\\begin{matrix}2 & 3 & 5\\\\3 & 6 & 2\\\\8 & 3 & 6\\end{matrix}\\right]$"
      ],
      "text/plain": [
       "Matrix([\n",
       "[2, 3, 5],\n",
       "[3, 6, 2],\n",
       "[8, 3, 6]])"
      ]
     },
     "execution_count": 5,
     "metadata": {},
     "output_type": "execute_result"
    }
   ],
   "source": [
    "# Resolviendo sistema de ecuaciones con SymPy\n",
    "A = sympy.Matrix(( (2, 3, 5), (3, 6, 2), (8, 3, 6) ))\n",
    "A"
   ]
  },
  {
   "cell_type": "code",
   "execution_count": 6,
   "metadata": {
    "colab": {},
    "colab_type": "code",
    "collapsed": false,
    "id": "T1d8ccdD_lbh",
    "jupyter": {
     "outputs_hidden": false
    },
    "outputId": "e3f7562e-9ff9-4e51-fea6-feb7675e8d2a"
   },
   "outputs": [
    {
     "data": {
      "text/latex": [
       "$\\displaystyle \\left[\\begin{matrix}52\\\\61\\\\75\\end{matrix}\\right]$"
      ],
      "text/plain": [
       "Matrix([\n",
       "[52],\n",
       "[61],\n",
       "[75]])"
      ]
     },
     "execution_count": 6,
     "metadata": {},
     "output_type": "execute_result"
    }
   ],
   "source": [
    "b = sympy.Matrix(3,1,(52,61,75))\n",
    "b"
   ]
  },
  {
   "cell_type": "code",
   "execution_count": 7,
   "metadata": {
    "colab": {},
    "colab_type": "code",
    "collapsed": false,
    "id": "Jt6M0ccv_lbi",
    "jupyter": {
     "outputs_hidden": false
    },
    "outputId": "67593b5b-ffd6-4ba1-c4c0-3809682ee02f"
   },
   "outputs": [
    {
     "data": {
      "text/latex": [
       "$\\displaystyle \\left[\\begin{matrix}3\\\\7\\\\5\\end{matrix}\\right]$"
      ],
      "text/plain": [
       "Matrix([\n",
       "[3],\n",
       "[7],\n",
       "[5]])"
      ]
     },
     "execution_count": 7,
     "metadata": {},
     "output_type": "execute_result"
    }
   ],
   "source": [
    "# Resolviendo Ax = b\n",
    "x = A.LUsolve(b)\n",
    "x"
   ]
  },
  {
   "cell_type": "code",
   "execution_count": 8,
   "metadata": {
    "colab": {},
    "colab_type": "code",
    "collapsed": false,
    "id": "uxhFtMH9_lbk",
    "jupyter": {
     "outputs_hidden": false
    },
    "outputId": "bca90cf3-911c-40cc-8129-4ad648805a6c"
   },
   "outputs": [
    {
     "data": {
      "text/latex": [
       "$\\displaystyle \\left[\\begin{matrix}52\\\\61\\\\75\\end{matrix}\\right]$"
      ],
      "text/plain": [
       "Matrix([\n",
       "[52],\n",
       "[61],\n",
       "[75]])"
      ]
     },
     "execution_count": 8,
     "metadata": {},
     "output_type": "execute_result"
    }
   ],
   "source": [
    "# Comprobando la solución\n",
    "A*x"
   ]
  },
  {
   "cell_type": "markdown",
   "metadata": {
    "colab_type": "text",
    "id": "qpAu8NOR_lbl"
   },
   "source": [
    "## La matriz  identidad , la matriz transpuesta y la matriz invertible\n",
    "\n",
    "Tres <a href=\"https://es.wikipedia.org/wiki/Matriz_(matem%C3%A1ticas)\">matrices</a> de suma importancia en problemas de [Álgebra lineal](http://relopezbriega.github.io/tag/algebra.html). Son la [matriz identidad](https://es.wikipedia.org/wiki/Matriz_identidad), la [matriz transpuesta](http://es.wikipedia.org/wiki/Matriz_transpuesta) y la [matriz invertible](https://es.wikipedia.org/wiki/Matriz_invertible).\n",
    "\n",
    "La [matriz identidad](https://es.wikipedia.org/wiki/Matriz_identidad) es el elemento neutro en la [multiplicación de matrices](https://es.wikipedia.org/wiki/Multiplicaci%C3%B3n_de_matrices), es el equivalente al número 1. Cualquier <a href=\"https://es.wikipedia.org/wiki/Matriz_(matem%C3%A1ticas)\">matriz</a> multiplicada por la [matriz identidad](https://es.wikipedia.org/wiki/Matriz_identidad) nos da como resultado la misma <a href=\"https://es.wikipedia.org/wiki/Matriz_(matem%C3%A1ticas)\">matriz</a>. La [matriz identidad](https://es.wikipedia.org/wiki/Matriz_identidad) es una [matriz cuadrada](https://es.wikipedia.org/wiki/Matriz_cuadrada) (tiene siempre el mismo número de filas que de columnas); y su diagonal principal se compone de todos elementos 1 y el resto de los elementos se completan con 0. Suele representase con la letra $I$.\n",
    "\n",
    "Por ejemplo la [matriz identidad](https://es.wikipedia.org/wiki/Matriz_identidad) de 3x3 sería la siguiente:\n",
    "\n",
    "$$I=\\begin{bmatrix}1 & 0 & 0 & \\\\0 & 1 & 0\\\\ 0 & 0 & 1\\end{bmatrix}$$\n",
    "\n",
    "La [matriz transpuesta](http://es.wikipedia.org/wiki/Matriz_transpuesta) de una <a href=\"https://es.wikipedia.org/wiki/Matriz_(matem%C3%A1ticas)\">matriz</a> $A$ de $m \\times n$ va a ser igual a la <a href=\"https://es.wikipedia.org/wiki/Matriz_(matem%C3%A1ticas)\">matriz</a> $n \\times m$ $A^T$, la cual se obtiene al transformar las filas en columnas y las columnas en filas, del siguiente modo:\n",
    "\n",
    "$$\\begin{bmatrix}a & b & \\\\c & d & \\\\ e & f & \\end{bmatrix}^T=\n",
    "\\begin{bmatrix}a & c & e &\\\\b & d & f & \\end{bmatrix}$$\n",
    "\n",
    "Una [matriz cuadrada](https://es.wikipedia.org/wiki/Matriz_cuadrada) va a ser *[simétrica](https://es.wikipedia.org/wiki/Matriz_sim%C3%A9trica)* si $A^T = A$, es decir si $A$ es igual a su propia [matriz transpuesta](http://es.wikipedia.org/wiki/Matriz_transpuesta).\n",
    "\n",
    "Algunas de las propiedades de las [matrices transpuestas](http://es.wikipedia.org/wiki/Matriz_transpuesta) son:\n",
    "\n",
    "a. $(A^T)^T = A$\n",
    "\n",
    "b. $(A + B)^T = A^T + B^T$\n",
    "\n",
    "c. $k(A)^T = k(A^T)$\n",
    "\n",
    "d. $(AB)^T = B^T A^T$\n",
    "\n",
    "e. $(A^r)^T = (A^T)^r$ para todos los $r$ no negativos.\n",
    "\n",
    "f. Si $A$ es una [matriz cuadrada](https://es.wikipedia.org/wiki/Matriz_cuadrada), entonces $A + A^T$ es una [matriz simétrica](https://es.wikipedia.org/wiki/Matriz_sim%C3%A9trica).\n",
    "\n",
    "g. Para cualquier <a href=\"https://es.wikipedia.org/wiki/Matriz_(matem%C3%A1ticas)\">matriz</a> $A$, $A A^T$ y $A^T A$ son [matrices simétricas](https://es.wikipedia.org/wiki/Matriz_sim%C3%A9trica).\n",
    "\n",
    "Veamos algunos ejemplos en [Python](http://python.org/)"
   ]
  },
  {
   "cell_type": "code",
   "execution_count": null,
   "metadata": {
    "colab": {},
    "colab_type": "code",
    "collapsed": false,
    "id": "Y1dXqrfC_lbn",
    "jupyter": {
     "outputs_hidden": false
    },
    "outputId": "23ffc30d-4421-4f2c-c992-93fd4a535fa0"
   },
   "outputs": [],
   "source": [
    "# Matriz transpuesta\n",
    "A = sympy.Matrix( [[ 2,-3,-8, 7],\n",
    "                   [-2,-1, 2,-7],\n",
    "                   [ 1, 0,-3, 6]] )\n",
    "A"
   ]
  },
  {
   "cell_type": "code",
   "execution_count": null,
   "metadata": {
    "colab": {},
    "colab_type": "code",
    "collapsed": false,
    "id": "HmuY0oon_lbp",
    "jupyter": {
     "outputs_hidden": false
    },
    "outputId": "4d720546-cbb8-41fa-d43f-d79eca69f775"
   },
   "outputs": [],
   "source": [
    "A.transpose()"
   ]
  },
  {
   "cell_type": "code",
   "execution_count": null,
   "metadata": {
    "colab": {},
    "colab_type": "code",
    "collapsed": false,
    "id": "l6ZNaJw-_lbr",
    "jupyter": {
     "outputs_hidden": false
    },
    "outputId": "d21782ce-62d9-4e04-bf27-9c5a2ef5c1b2"
   },
   "outputs": [],
   "source": [
    "# transpuesta de transpuesta vuelve a A.\n",
    "A.transpose().transpose()"
   ]
  },
  {
   "cell_type": "code",
   "execution_count": null,
   "metadata": {
    "colab": {},
    "colab_type": "code",
    "collapsed": false,
    "id": "jAN64RtX_lbs",
    "jupyter": {
     "outputs_hidden": false
    },
    "outputId": "e98f6483-84cd-4356-9850-61fe39fe2c65"
   },
   "outputs": [],
   "source": [
    "# creando matriz simetrica\n",
    "As = A*A.transpose()\n",
    "As"
   ]
  },
  {
   "cell_type": "code",
   "execution_count": null,
   "metadata": {
    "colab": {},
    "colab_type": "code",
    "collapsed": false,
    "id": "cyW9RlcT_lbu",
    "jupyter": {
     "outputs_hidden": false
    },
    "outputId": "82335549-ebf1-4ed2-9de4-fdd1f8a93deb"
   },
   "outputs": [],
   "source": [
    "# comprobando simetria.\n",
    "As.transpose()"
   ]
  },
  {
   "cell_type": "markdown",
   "metadata": {
    "colab_type": "text",
    "id": "FJJGz6IC_lbv"
   },
   "source": [
    "La [matriz invertible](https://es.wikipedia.org/wiki/Matriz_invertible) es muy importante, ya que esta relacionada con la ecuación $Ax = b$. Si tenemos una [matriz cuadrada](https://es.wikipedia.org/wiki/Matriz_cuadrada) $A$ de $n \\times n$, entonces la [matriz inversa](https://es.wikipedia.org/wiki/Matriz_invertible) de $A$ es una <a href=\"https://es.wikipedia.org/wiki/Matriz_(matem%C3%A1ticas)\">matriz</a> $A'$ o $A^{-1}$ de $n \\times n$ que hace que la multiplicación $A A^{-1}$ sea igual a la [matriz identidad](https://es.wikipedia.org/wiki/Matriz_identidad) $I$. Es decir que es la <a href=\"https://es.wikipedia.org/wiki/Matriz_(matem%C3%A1ticas)\">matriz</a> recíproca de $A$.\n",
    "\n",
    "$A A^{-1} = I$ o $A^{-1} A = I$\n",
    "\n",
    "En caso de que estas condiciones se cumplan, decimos que la [matriz es invertible](https://es.wikipedia.org/wiki/Matriz_invertible). \n",
    "\n",
    "Que una <a href=\"https://es.wikipedia.org/wiki/Matriz_(matem%C3%A1ticas)\">matriz</a> sea [invertible](https://es.wikipedia.org/wiki/Matriz_invertible) tiene importantes implicaciones, como ser:\n",
    "\n",
    "a. Si $A$ es una [matriz invertible](https://es.wikipedia.org/wiki/Matriz_invertible), entonces su [matriz inversa](https://es.wikipedia.org/wiki/Matriz_invertible) es única.\n",
    "\n",
    "b. Si $A$ es una [matriz invertible](https://es.wikipedia.org/wiki/Matriz_invertible) de $n \\times n$, entonces el [sistemas de ecuaciones lineales](https://es.wikipedia.org/wiki/Sistema_de_ecuaciones_lineales) dado por $Ax = b$ tiene una única solución $x = A^{-1}b$ para cualquier $b$ en $\\mathbb{R}^n$.\n",
    "\n",
    "c. Una <a href=\"https://es.wikipedia.org/wiki/Matriz_(matem%C3%A1ticas)\">matriz</a> va a ser [invertible](https://es.wikipedia.org/wiki/Matriz_invertible) si y solo si su <a href=\"https://es.wikipedia.org/wiki/Determinante_(matem%C3%A1tica)\">determinante</a> es distinto de cero. En el caso de que el <a href=\"https://es.wikipedia.org/wiki/Determinante_(matem%C3%A1tica)\">determinante</a> sea cero se dice que la <a href=\"https://es.wikipedia.org/wiki/Matriz_(matem%C3%A1ticas)\">matriz</a> es singular.\n",
    "\n",
    "d. Si $A$ es una [matriz invertible](https://es.wikipedia.org/wiki/Matriz_invertible), entonces el [sistema](https://es.wikipedia.org/wiki/Sistema_de_ecuaciones_lineales) $Ax = 0$ solo tiene una solución *trivial*. Es decir, en las que todas las incógnitas son ceros.\n",
    "\n",
    "e. Si $A$ es una [matriz invertible](https://es.wikipedia.org/wiki/Matriz_invertible), entonces su [forma escalonada](https://es.wikipedia.org/wiki/Matriz_escalonada) va a ser igual a la [matriz identidad](https://es.wikipedia.org/wiki/Matriz_identidad).\n",
    "\n",
    "f. Si $A$ es una [matriz invertible](https://es.wikipedia.org/wiki/Matriz_invertible), entonces $A^{-1}$ es [invertible](https://es.wikipedia.org/wiki/Matriz_invertible) y:\n",
    "\n",
    "$$(A^{-1})^{-1} = A$$\n",
    "\n",
    "g. Si $A$ es una [matriz invertible](https://es.wikipedia.org/wiki/Matriz_invertible) y $\\alpha$ es un  <a href=\"http://es.wikipedia.org/wiki/Escalar_(matem%C3%A1tica)\">escalar</a> distinto de cero, entonces $\\alpha A$ es [invertible](https://es.wikipedia.org/wiki/Matriz_invertible) y:\n",
    "\n",
    "$$(\\alpha A)^{-1} = \\frac{1}{\\alpha}A^{-1}$$.\n",
    "\n",
    "h. Si $A$ y $B$ son [matrices invertibles](https://es.wikipedia.org/wiki/Matriz_invertible) del mismo tamaño, entonces $AB$ es [invertible](https://es.wikipedia.org/wiki/Matriz_invertible) y:\n",
    "\n",
    "$$(AB)^{-1} = B^{-1} A^{-1}$$.\n",
    "\n",
    "i. Si $A$ es una [matriz invertible](https://es.wikipedia.org/wiki/Matriz_invertible), entonces $A^T$ es [invertible](https://es.wikipedia.org/wiki/Matriz_invertible) y:\n",
    "\n",
    "$$(A^T)^{-1} = (A^{-1})^T$$.\n",
    "\n",
    "Con [SymPy](http://www.sympy.org/es/) podemos trabajar con las [matrices invertibles](https://es.wikipedia.org/wiki/Matriz_invertible) del siguiente modo:"
   ]
  },
  {
   "cell_type": "code",
   "execution_count": null,
   "metadata": {
    "colab": {},
    "colab_type": "code",
    "collapsed": false,
    "id": "5bdFu-Ix_lbv",
    "jupyter": {
     "outputs_hidden": false
    },
    "outputId": "7a6ed2b8-24f7-46ca-e211-a797f4ceb01a"
   },
   "outputs": [],
   "source": [
    "# Matriz invertible\n",
    "A = sympy.Matrix( [[1,2],\n",
    "                   [3,9]] )\n",
    "A"
   ]
  },
  {
   "cell_type": "code",
   "execution_count": null,
   "metadata": {
    "colab": {},
    "colab_type": "code",
    "collapsed": false,
    "id": "5y6t9Ud5_lbx",
    "jupyter": {
     "outputs_hidden": false
    },
    "outputId": "397a95db-a6ae-4d19-c473-133219edfb69"
   },
   "outputs": [],
   "source": [
    "A_inv = A.inv()\n",
    "A_inv"
   ]
  },
  {
   "cell_type": "code",
   "execution_count": null,
   "metadata": {
    "colab": {},
    "colab_type": "code",
    "collapsed": false,
    "id": "nogQ_kvg_lby",
    "jupyter": {
     "outputs_hidden": false
    },
    "outputId": "fae3d922-d5ac-45c5-d541-531b7ff57bc8"
   },
   "outputs": [],
   "source": [
    "# A * A_inv = I\n",
    "A*A_inv"
   ]
  },
  {
   "cell_type": "code",
   "execution_count": null,
   "metadata": {
    "colab": {},
    "colab_type": "code",
    "collapsed": false,
    "id": "B6KtGnYC_lb1",
    "jupyter": {
     "outputs_hidden": false
    },
    "outputId": "fdb93b31-9c5a-4767-f680-4fb89dcee5a1"
   },
   "outputs": [],
   "source": [
    "# la inversa de A_inv es A\n",
    "A_inv.inv()"
   ]
  },
  {
   "cell_type": "markdown",
   "metadata": {
    "colab_type": "text",
    "id": "eFvsDj6H_lb2"
   },
   "source": [
    "## Espacios vectoriales\n",
    "\n",
    "Las Matemáticas derivan su poder en gran medida de su capacidad para encontrar las características comunes de los diversos problemas y estudiarlos de manera abstracta. Existen muchos problemas que implican los conceptos relacionados de *<a href=\"https://es.wikipedia.org/wiki/Adici%C3%B3n_(matem%C3%A1ticas)\">adición</a>*, *multiplicación por <a href=\"http://es.wikipedia.org/wiki/Escalar_(matem%C3%A1tica)\">escalares</a>*, y la [linealidad](https://es.wikipedia.org/wiki/Lineal). Para estudiar estas propiedades de manera abstracta, debemos  introducir la noción de [espacio vectorial](https://es.wikipedia.org/wiki/Espacio_vectorial).\n",
    "\n",
    "Para alcanzar la definición de un [espacio vectorial](https://es.wikipedia.org/wiki/Espacio_vectorial), debemos combinar los conceptos que venimos viendo hasta ahora de <a href=\"https://es.wikipedia.org/wiki/Cuerpo_(matem%C3%A1ticas)\">Campo</a>, [vector](http://es.wikipedia.org/wiki/Vector) y las operaciones de *<a href=\"https://es.wikipedia.org/wiki/Adici%C3%B3n_(matem%C3%A1ticas)\">adición</a>*; y *multiplicación por <a href=\"http://es.wikipedia.org/wiki/Escalar_(matem%C3%A1tica)\">escalares</a>*. De esta forma un [espacio vectorial](https://es.wikipedia.org/wiki/Espacio_vectorial), $V$, sobre un <a href=\"https://es.wikipedia.org/wiki/Cuerpo_(matem%C3%A1ticas)\">Campo</a>, $F$,  va a ser un [conjunto](http://relopezbriega.github.io/blog/2015/10/11/conjuntos-con-python/) en el que están definidas las operaciones de *<a href=\"https://es.wikipedia.org/wiki/Adici%C3%B3n_(matem%C3%A1ticas)\">adición</a>* y  *multiplicación por <a href=\"http://es.wikipedia.org/wiki/Escalar_(matem%C3%A1tica)\">escalares</a>*, tal que para cualquier par de elementos $x$ e $y$ en $V$, existe un elemento único $x + y$ en $V$, y para cada elemento $\\alpha$ en $F$ y cada elemento $x$ en $V$, exista un único elemento $\\alpha x$ en $V$, de manera que se cumplan las siguientes condiciones:\n",
    "\n",
    "1. Para todo $x, y$ en $V$, $x + y = y + x$ ([conmutatividad](https://es.wikipedia.org/wiki/Conmutatividad) de la adición).\n",
    "\n",
    "2. Para todo $x, y, z$ en $V$, $(x + y) + z = x + (y + z)$. (<a href=\"https://es.wikipedia.org/wiki/Asociatividad_(%C3%A1lgebra)\">asociatividad</a> de la adición).\n",
    "\n",
    "3. Existe un elemento en $V$ llamado $0$ tal que $x + 0 = x$ para todo $x$ en $V$.\n",
    "\n",
    "4. Para cada elemento $x$ en $V$, existe un elemento $y$ en $V$ tal que $x + y = 0$.\n",
    "\n",
    "5. Para cada elemento $x$ en $V$, $1 x = x$.\n",
    "\n",
    "6. Para cada par, $\\alpha, \\beta$ en $F$ y cada elemento $x$ en $V$, $(\\alpha \\beta) x = \\alpha (\\beta x)$.\n",
    "\n",
    "7. Para cada elemento $\\alpha$ en $F$ y cada para de elementos $x, y$ en $V$, $\\alpha(x + y) = \\alpha x + \\alpha y$.\n",
    "\n",
    "8. Para cada par de elementos $\\alpha, \\beta$ en $F$ y cada elemento $x$ en $V$, $(\\alpha +  \\beta)x = \\alpha x + \\beta x$.\n",
    "\n",
    "Los [espacios vectoriales](https://es.wikipedia.org/wiki/Espacio_vectorial) más comunes son $\\mathbb{R}^2$, el cual representa el plano de 2 dimensiones y consiste de todos los pares ordenados de los [números reales](https://es.wikipedia.org/wiki/N%C3%BAmero_real):\n",
    "\n",
    "$$\\mathbb{R}^2 = \\{(x, y): x, y \\in \\mathbb{R}\\}$$\n",
    "\n",
    "y $\\mathbb{R}^3$, que representa el espacio ordinario de 3 dimensiones y consiste en todos los tríos ordenados de los  [números reales](https://es.wikipedia.org/wiki/N%C3%BAmero_real):\n",
    "\n",
    "$$\\mathbb{R}^3 = \\{(x, y, z): x, y, z \\in \\mathbb{R}\\}$$\n",
    "\n",
    "Una de las grandes bellezas del [Álgebra lineal](http://relopezbriega.github.io/tag/algebra.html) es que podemos fácilmente pasar a trabajar sobre espacios de $n$ dimensiones, $\\mathbb{R}^n$!\n",
    "\n",
    "Tampoco tenemos porque quedarnos con solo los [números reales](https://es.wikipedia.org/wiki/N%C3%BAmero_real), ya que la definición que dimos de un [espacio vectorial](https://es.wikipedia.org/wiki/Espacio_vectorial) reside sobre un <a href=\"https://es.wikipedia.org/wiki/Cuerpo_(matem%C3%A1ticas)\">Campo</a>; y los <a href=\"https://es.wikipedia.org/wiki/Cuerpo_(matem%C3%A1ticas)\">campos</a> pueden estar representados por [números complejos](http://relopezbriega.github.io/blog/2015/10/12/numeros-complejos-con-python/). Por tanto también podemos tener [espacios vectoriales](https://es.wikipedia.org/wiki/Espacio_vectorial)  $\\mathbb{C}^2, \\mathbb{C}^3, \\dots, \\mathbb{C}^n$.\n",
    "\n",
    "### Subespacios\n",
    "\n",
    "Normalmente, en el estudio de cualquier estructura algebraica es interesante examinar subconjuntos que tengan la misma estructura que el [conjunto](http://relopezbriega.github.io/blog/2015/10/11/conjuntos-con-python/) que esta siendo considerado. Así, dentro de los [espacios vectoriales](https://es.wikipedia.org/wiki/Espacio_vectorial),  podemos tener [subespacios vectoriales](https://es.wikipedia.org/wiki/Subespacio_vectorial), los cuales son un subconjunto que cumplen con las mismas *propiedades* que el [espacio vectorial](https://es.wikipedia.org/wiki/Espacio_vectorial) que los contiene. De esta forma, $\\mathbb{R}^3$ representa un [subespacio](https://es.wikipedia.org/wiki/Subespacio_vectorial) del [espacio vectorial](https://es.wikipedia.org/wiki/Espacio_vectorial) $\\mathbb{R}^n$.\n",
    "\n",
    "\n",
    "## Independencia lineal\n",
    "\n",
    "La [independencia lineal](https://es.wikipedia.org/wiki/Dependencia_e_independencia_lineal) es un concepto aparentemente simple con consecuencias que se extienden profundamente en muchos aspectos del análisis. Si deseamos entender cuando una matriz puede ser [invertible](https://es.wikipedia.org/wiki/Matriz_invertible), o cuando un [sistema de ecuaciones lineales](https://es.wikipedia.org/wiki/Sistema_de_ecuaciones_lineales) tiene una única solución, o cuando una estimación por [mínimos cuadrados](https://es.wikipedia.org/wiki/M%C3%ADnimos_cuadrados) se define de forma única, la idea fundamental más importante es la de [independencia lineal](https://es.wikipedia.org/wiki/Dependencia_e_independencia_lineal) de [vectores](http://es.wikipedia.org/wiki/Vector).\n",
    "\n",
    "Dado un conjunto finito de [vectores](http://es.wikipedia.org/wiki/Vector) $x_1, x_2, \\dots, x_n$ se dice que los mismos son *[linealmente independientes](https://es.wikipedia.org/wiki/Dependencia_e_independencia_lineal)*, si y solo si, los únicos <a href=\"http://es.wikipedia.org/wiki/Escalar_(matem%C3%A1tica)\">escalares</a> $\\alpha_1, \\alpha_2, \\dots, \\alpha_n$ que satisfacen la ecuación:\n",
    "\n",
    "$$\\alpha_1 x_1 + \\alpha_2 x_2 + \\dots + \\alpha_n x_n = 0$$\n",
    "\n",
    "son todos ceros, $\\alpha_1 = \\alpha_2 = \\dots = \\alpha_n = 0$.\n",
    "\n",
    "En caso de que esto no se cumpla, es decir, que existe una solución a la ecuación de arriba en que no todos los <a href=\"http://es.wikipedia.org/wiki/Escalar_(matem%C3%A1tica)\">escalares</a> son ceros, a esta solución se la llama *no trivial* y se dice que los [vectores](http://es.wikipedia.org/wiki/Vector) son *[linealmente dependientes](https://es.wikipedia.org/wiki/Dependencia_e_independencia_lineal)*.\n",
    "\n",
    "Para ilustrar la definición y que quede más clara, veamos algunos ejemplos. Supongamos que queremos determinar si los siguientes [vectores](http://es.wikipedia.org/wiki/Vector) son *[linealmente independientes](https://es.wikipedia.org/wiki/Dependencia_e_independencia_lineal)*: \n",
    "\n",
    "$$\\begin{split}x_1\n",
    "=\n",
    "\\left[\n",
    "\\begin{array}{c}\n",
    "    1.2 \\\\\n",
    "1.1 \\\\\n",
    "\\end{array}\n",
    "\\right] \\  \\  \\ x_2 =\n",
    "\\left[\n",
    "\\begin{array}{c}\n",
    "    -2.2 \\\\\n",
    "1.4 \\\\\n",
    "\\end{array}\n",
    "\\right]\\end{split}$$\n",
    "\n",
    "Para lograr esto, deberíamos resolver el siguiente [sistema de ecuaciones](https://es.wikipedia.org/wiki/Sistema_de_ecuaciones_lineales) y verificar si la única solución es aquella en que los <a href=\"http://es.wikipedia.org/wiki/Escalar_(matem%C3%A1tica)\">escalares</a> sean ceros.\n",
    "\n",
    "$$\\begin{split}\\alpha_1\n",
    "\\left[\n",
    "\\begin{array}{c}\n",
    "    1.2 \\\\\n",
    "1.1 \\\\\n",
    "\\end{array}\n",
    "\\right] + \\alpha_2\n",
    "\\left[\n",
    "\\begin{array}{c}\n",
    "    -2.2 \\\\\n",
    "1.4 \\\\\n",
    "\\end{array}\n",
    "\\right]\\end{split} = 0\n",
    "$$\n",
    "\n",
    "Para resolver este [sistema de ecuaciones](https://es.wikipedia.org/wiki/Sistema_de_ecuaciones_lineales), podemos recurrir a la ayuda de [Python](http://python.org/)."
   ]
  },
  {
   "cell_type": "code",
   "execution_count": null,
   "metadata": {
    "colab": {},
    "colab_type": "code",
    "collapsed": false,
    "id": "TZyJtJq__lb2",
    "jupyter": {
     "outputs_hidden": false
    },
    "outputId": "c3affa8b-a5c9-4fc4-c88f-3a17486d73e7"
   },
   "outputs": [],
   "source": [
    "# Resolviendo el sistema de ecuaciones.\n",
    "A = np.array([[1.2, -2.2],\n",
    "              [1.1, 1.4]])\n",
    "\n",
    "b = np.array([0., 0.])\n",
    "\n",
    "x = np.linalg.solve(A, b)\n",
    "x"
   ]
  },
  {
   "cell_type": "code",
   "execution_count": null,
   "metadata": {
    "colab": {},
    "colab_type": "code",
    "collapsed": false,
    "id": "7_tAzPEg_lb7",
    "jupyter": {
     "outputs_hidden": false
    },
    "outputId": "cb10d776-bfa9-4154-d824-07675d412531"
   },
   "outputs": [],
   "source": [
    "# <!-- collapse=True -->\n",
    "# Solución gráfica.\n",
    "x_vals = np.linspace(-5, 5, 50) # crea 50 valores entre 0 y 5\n",
    "\n",
    "ax = move_spines()\n",
    "ax.set_xlim(-5, 5)\n",
    "ax.set_ylim(-5, 5)\n",
    "ax.grid()\n",
    "\n",
    "ax.plot(x_vals, (1.2 * x_vals) / -2.2) # grafica 1.2x_1 - 2.2x_2 = 0\n",
    "a = ax.plot(x_vals, (1.1 * x_vals) / 1.4) # grafica 1.1x + 1.4x_2 = 0"
   ]
  },
  {
   "cell_type": "markdown",
   "metadata": {
    "colab_type": "text",
    "id": "DfaixXXc_lb8"
   },
   "source": [
    "Como podemos ver, tanto por la solución numérica como por la solución gráfica, estos vectores son *[linealmente independientes](https://es.wikipedia.org/wiki/Dependencia_e_independencia_lineal)*, ya que la única solución a la ecuación $\\alpha_1 x_1 + \\alpha_2 x_2 + \\dots + \\alpha_n x_n = 0$, es aquella en que los <a href=\"http://es.wikipedia.org/wiki/Escalar_(matem%C3%A1tica)\">escalares</a> son cero.\n",
    "\n",
    "Determinemos ahora si por ejemplo, los siguientes [vectores](http://es.wikipedia.org/wiki/Vector) en $\\mathbb{R}^4$ son *[linealmente independientes](https://es.wikipedia.org/wiki/Dependencia_e_independencia_lineal)*: $\\{(3, 2, 2, 3), (3, 2, 1, 2), (3, 2, 0, 1)\\}$. Aquí, ahora deberíamos resolver la siguiente ecuación:\n",
    "\n",
    "$$\\alpha_1 (3, 2, 2, 3) +\\alpha_2 (3, 2, 1, 2) + \\alpha_3 (3, 2, 0, 1) = (0, 0, 0, 0)$$\n",
    "\n",
    "Para resolver este sistema de ecuaciones que no es cuadrado (tiene 4 ecuaciones y solo 3 incógnitas); podemos utilizar [SymPy](http://www.sympy.org/es/)."
   ]
  },
  {
   "cell_type": "code",
   "execution_count": null,
   "metadata": {
    "colab": {},
    "colab_type": "code",
    "collapsed": false,
    "id": "3ammmag6_lb8",
    "jupyter": {
     "outputs_hidden": false
    },
    "outputId": "272c051b-3576-4cf5-b763-34c52ef9d4cf"
   },
   "outputs": [],
   "source": [
    "# Sympy para resolver el sistema de ecuaciones lineales\n",
    "a1, a2, a3 = sympy.symbols('a1, a2, a3')\n",
    "A = sympy.Matrix(( (3, 3, 3, 0), (2, 2, 2, 0), (2, 1, 0, 0), (3, 2, 1, 0) ))\n",
    "A"
   ]
  },
  {
   "cell_type": "code",
   "execution_count": null,
   "metadata": {
    "colab": {},
    "colab_type": "code",
    "collapsed": false,
    "id": "jSUDwFnf_lb-",
    "jupyter": {
     "outputs_hidden": false
    },
    "outputId": "0d3d86a4-9284-4712-ab07-2134b36848ed"
   },
   "outputs": [],
   "source": [
    "sympy.solve_linear_system(A, a1, a2, a3)"
   ]
  },
  {
   "cell_type": "markdown",
   "metadata": {
    "colab_type": "text",
    "id": "KdTWL3m8_lb_"
   },
   "source": [
    "Como vemos, esta solución es *no trivial*, ya que por ejemplo existe la solución $\\alpha_1 = 1, \\ \\alpha_2 = -2 , \\  \\alpha_3 = 1$ en la que los <a href=\"http://es.wikipedia.org/wiki/Escalar_(matem%C3%A1tica)\">escalares</a> no son ceros. Por lo tanto este sistema es *[linealmente dependiente](https://es.wikipedia.org/wiki/Dependencia_e_independencia_lineal)*.\n"
   ]
  },
  {
   "cell_type": "markdown",
   "metadata": {
    "colab_type": "text",
    "id": "oS4Stwr4_lcO"
   },
   "source": [
    "## Rango\n",
    "\n",
    "Otro concepto que también esta ligado a la [independencia lineal](https://es.wikipedia.org/wiki/Dependencia_e_independencia_lineal) es el de <a href=\"https://es.wikipedia.org/wiki/Rango_(%C3%A1lgebra_lineal)\">rango</a>. Los números de columnas $m$ y filas $n$ pueden darnos el tamaño de una <a href=\"https://es.wikipedia.org/wiki/Matriz_(matem%C3%A1ticas)\">matriz</a>, pero esto no necesariamente representa el verdadero tamaño del [sistema lineal](https://es.wikipedia.org/wiki/Sistema_de_ecuaciones_lineales), ya que por ejemplo si existen dos filas iguales en una <a href=\"https://es.wikipedia.org/wiki/Matriz_(matem%C3%A1ticas)\">matriz</a> $A$, la segunda fila desaparecía en el proceso de [eliminación](https://es.wikipedia.org/wiki/Eliminaci%C3%B3n_de_Gauss-Jordan). El verdadero tamaño de $A$ va a estar dado por su <a href=\"https://es.wikipedia.org/wiki/Rango_(%C3%A1lgebra_lineal)\">rango</a>. El <a href=\"https://es.wikipedia.org/wiki/Rango_(%C3%A1lgebra_lineal)\">rango</a> de una <a href=\"https://es.wikipedia.org/wiki/Matriz_(matem%C3%A1ticas)\">matriz</a> es el número máximo de columnas (filas respectivamente) que son [linealmente independientes](https://es.wikipedia.org/wiki/Dependencia_e_independencia_lineal). Por ejemplo si tenemos la siguiente <a href=\"https://es.wikipedia.org/wiki/Matriz_(matem%C3%A1ticas)\">matriz</a> de 3 x 4:\n",
    "\n",
    "$$A = \\begin{bmatrix}1 & 1 & 2 & 4\\\\1 & 2 & 2 & 5\n",
    "\\\\ 1 & 3 & 2 & 6\\end{bmatrix}$$\n",
    "\n",
    "Podemos ver que la tercer columna $(2, 2, 2)$ es un múltiplo de la primera y que la cuarta columna $(4, 5, 6)$ es la suma de las primeras 3 columnas. Por tanto el <a href=\"https://es.wikipedia.org/wiki/Rango_(%C3%A1lgebra_lineal)\">rango</a> de $A$ va a ser igual a 2; ya que la tercer y cuarta columna pueden ser eliminadas.\n",
    "\n",
    "Obviamente, el <a href=\"https://es.wikipedia.org/wiki/Rango_(%C3%A1lgebra_lineal)\">rango</a> también lo podemos calcular con la ayuda de [Python](http://python.org/)."
   ]
  },
  {
   "cell_type": "code",
   "execution_count": 9,
   "metadata": {
    "colab": {},
    "colab_type": "code",
    "collapsed": false,
    "id": "Pw-SwKe6_lcO",
    "jupyter": {
     "outputs_hidden": false
    },
    "outputId": "3f02aa5d-d00d-44ee-9cac-8f5ea884af94"
   },
   "outputs": [
    {
     "data": {
      "text/latex": [
       "$\\displaystyle \\left[\\begin{matrix}1 & 1 & 2 & 4\\\\1 & 2 & 2 & 5\\\\1 & 3 & 2 & 6\\end{matrix}\\right]$"
      ],
      "text/plain": [
       "Matrix([\n",
       "[1, 1, 2, 4],\n",
       "[1, 2, 2, 5],\n",
       "[1, 3, 2, 6]])"
      ]
     },
     "execution_count": 9,
     "metadata": {},
     "output_type": "execute_result"
    }
   ],
   "source": [
    "# Calculando el rango con SymPy\n",
    "A = sympy.Matrix([[1, 1, 2, 4],\n",
    "                  [1, 2, 2, 5],\n",
    "                  [1, 3, 2, 6]])\n",
    "A"
   ]
  },
  {
   "cell_type": "code",
   "execution_count": 10,
   "metadata": {
    "colab": {},
    "colab_type": "code",
    "collapsed": false,
    "id": "LOgQi1Lg_lcQ",
    "jupyter": {
     "outputs_hidden": false
    },
    "outputId": "0ca4aa37-a046-4017-b2f7-4efc87ca834d"
   },
   "outputs": [
    {
     "data": {
      "text/plain": [
       "2"
      ]
     },
     "execution_count": 10,
     "metadata": {},
     "output_type": "execute_result"
    }
   ],
   "source": [
    "# Rango con SymPy\n",
    "A.rank()"
   ]
  },
  {
   "cell_type": "code",
   "execution_count": 12,
   "metadata": {},
   "outputs": [],
   "source": [
    "import numpy as np"
   ]
  },
  {
   "cell_type": "code",
   "execution_count": 13,
   "metadata": {
    "colab": {},
    "colab_type": "code",
    "collapsed": false,
    "id": "07iEo0sL_lcR",
    "jupyter": {
     "outputs_hidden": false
    },
    "outputId": "f0a7d924-0f8c-4793-c119-71e199a35f95"
   },
   "outputs": [
    {
     "data": {
      "text/plain": [
       "np.int64(2)"
      ]
     },
     "execution_count": 13,
     "metadata": {},
     "output_type": "execute_result"
    }
   ],
   "source": [
    "# Rango con numpy\n",
    "A = np.array([[1, 1, 2, 4],\n",
    "              [1, 2, 2, 5],\n",
    "              [1, 3, 2, 6]])\n",
    "np.linalg.matrix_rank(A)"
   ]
  },
  {
   "cell_type": "markdown",
   "metadata": {
    "colab_type": "text",
    "id": "-Gev2WMH_lcS"
   },
   "source": [
    "Una útil aplicación de calcular el <a href=\"https://es.wikipedia.org/wiki/Rango_(%C3%A1lgebra_lineal)\">rango</a> de una <a href=\"https://es.wikipedia.org/wiki/Matriz_(matem%C3%A1ticas)\">matriz</a> es la de determinar el número de soluciones al [sistema de ecuaciones lineales](https://es.wikipedia.org/wiki/Sistema_de_ecuaciones_lineales), de acuerdo al enunciado del [Teorema de Rouché–Frobenius](https://es.wikipedia.org/wiki/Teorema_de_Rouch%C3%A9%E2%80%93Frobenius). El sistema tiene por lo menos una solución si el <a href=\"https://es.wikipedia.org/wiki/Rango_(%C3%A1lgebra_lineal)\">rango</a> de la <a href=\"https://es.wikipedia.org/wiki/Matriz_(matem%C3%A1ticas)\">matriz</a> de coeficientes equivale al <a href=\"https://es.wikipedia.org/wiki/Rango_(%C3%A1lgebra_lineal)\">rango</a> de la [matriz aumentada](https://es.wikipedia.org/wiki/Matriz_aumentada). En ese caso, ésta tiene exactamente una solución si el rango equivale al número de incógnitas.\n",
    "\n",
    "## La norma y la Ortogonalidad\n",
    "\n",
    "Si quisiéramos saber cual es el *largo* del un [vector](http://es.wikipedia.org/wiki/Vector), lo único que necesitamos es el famoso [teorema de Pitágoras](https://es.wikipedia.org/wiki/Teorema_de_Pit%C3%A1goras). En el plano $\\mathbb{R}^2$, el *largo* de un [vector](http://es.wikipedia.org/wiki/Vector) $v=\\begin{bmatrix}a \\\\ b \\end{bmatrix}$ va a ser igual a la distancia desde el origen $(0, 0)$ hasta el punto $(a, b)$. Esta distancia puede ser fácilmente calculada gracias al [teorema de Pitágoras](https://es.wikipedia.org/wiki/Teorema_de_Pit%C3%A1goras) y va ser igual a $\\sqrt{a^2 + b^2}$, como se puede ver en la siguiente figura:"
   ]
  },
  {
   "cell_type": "code",
   "execution_count": null,
   "metadata": {
    "colab": {},
    "colab_type": "code",
    "collapsed": false,
    "id": "0deXJe5U_lcT",
    "jupyter": {
     "outputs_hidden": false
    },
    "outputId": "3e079733-7a98-4f10-b265-68d3ee81bba8"
   },
   "outputs": [],
   "source": [
    "# <!-- collapse=True -->\n",
    "# Calculando largo de un vector\n",
    "# forma un triángulo rectángulo\n",
    "\n",
    "ax = move_spines()\n",
    "ax.set_xlim(-6, 6)\n",
    "ax.set_ylim(-6, 6)\n",
    "ax.grid()\n",
    "v = np.array([4, 6])\n",
    "\n",
    "vect_fig(v, \"blue\")\n",
    "\n",
    "a = ax.vlines(x=v[0], ymin=0, ymax = 6, linestyle='--', color='g')"
   ]
  },
  {
   "cell_type": "markdown",
   "metadata": {
    "colab_type": "text",
    "id": "8X9wZncP_lcU"
   },
   "source": [
    "En esta definición podemos observar que $a^2 + b^2 = v \\cdot v$, por lo que ya estamos en condiciones de poder definir lo que en [Álgebra lineal](http://relopezbriega.github.io/tag/algebra.html) se conoce como [norma](https://es.wikipedia.org/wiki/Norma_vectorial).\n",
    "\n",
    "El *largo* o [norma](https://es.wikipedia.org/wiki/Norma_vectorial) de un [vector](http://es.wikipedia.org/wiki/Vector) $v = \\begin{bmatrix} v_1 \\\\ v_2 \\\\ \\vdots \\\\ v_n \\end{bmatrix}$, en $\\mathbb{R}^n$ va a ser igual a un número no negativo $||v||$ definido por:\n",
    "\n",
    "$$||v|| = \\sqrt{v \\cdot v} = \\sqrt{v_1^2 + v_2^2 + \\dots + v_n^2}$$\n",
    "\n",
    "Es decir que la [norma](https://es.wikipedia.org/wiki/Norma_vectorial) de un [vector](http://es.wikipedia.org/wiki/Vector) va a ser igual a la raíz cuadrada de la suma de los cuadrados de sus componentes.\n",
    "\n",
    "### Ortogonalidad\n",
    "\n",
    "El concepto de [perpendicularidad](https://es.wikipedia.org/wiki/Perpendicularidad) es fundamental en [geometría](https://es.wikipedia.org/wiki/Geometr%C3%ADa). Este concepto llevado a los [vectores](http://es.wikipedia.org/wiki/Vector) en $\\mathbb{R}^n$ se llama <a href=\"https://es.wikipedia.org/wiki/Ortogonalidad_(matem%C3%A1ticas)\">ortogonalidad</a>.\n",
    "\n",
    "Dos [vectores](http://es.wikipedia.org/wiki/Vector) $v$ y $w$ en $\\mathbb{R}^n$ van a ser <a href=\"https://es.wikipedia.org/wiki/Ortogonalidad_(matem%C3%A1ticas)\">ortogonales</a> el uno al otro si su [producto interior](https://es.wikipedia.org/wiki/Producto_escalar) es igual a cero. Es decir, $v \\cdot w = 0$.\n",
    "\n",
    "Geométricamente lo podemos ver de la siguiente manera:"
   ]
  },
  {
   "cell_type": "code",
   "execution_count": null,
   "metadata": {
    "colab": {},
    "colab_type": "code",
    "collapsed": false,
    "id": "CLWY2if-_lcU",
    "jupyter": {
     "outputs_hidden": false
    },
    "outputId": "01b8a1ff-34fa-40db-a31e-8f11b6a43462"
   },
   "outputs": [],
   "source": [
    "# <!-- collapse=True -->\n",
    "# Vectores ortogonales\n",
    "\n",
    "ax = move_spines()\n",
    "ax.set_xlim(-6, 6)\n",
    "ax.set_ylim(-6, 6)\n",
    "ax.grid()\n",
    "vecs = [np.array([4, 6]), np.array([-3, 2])]\n",
    "\n",
    "for v in vecs:\n",
    "    vect_fig(v, \"blue\")\n",
    "\n",
    "a = ax.plot([-3, 4], [2, 6], linestyle='--', color='g')"
   ]
  },
  {
   "cell_type": "code",
   "execution_count": null,
   "metadata": {
    "colab": {},
    "colab_type": "code",
    "collapsed": false,
    "id": "kVUzuMqp_lcV",
    "jupyter": {
     "outputs_hidden": false
    },
    "outputId": "42880be0-af48-4baa-cc9f-ca4fb3d25986"
   },
   "outputs": [],
   "source": [
    "# comprobando su producto interior.\n",
    "v = np.array([4, 6])\n",
    "w = np.array([-3, 2])\n",
    "v.dot(w)"
   ]
  },
  {
   "cell_type": "markdown",
   "metadata": {
    "colab_type": "text",
    "id": "mPwOxrOL_lcX"
   },
   "source": [
    "Un [conjunto](http://relopezbriega.github.io/blog/2015/10/11/conjuntos-con-python/) de [vectores](http://es.wikipedia.org/wiki/Vector) en $\\mathbb{R}^n$ va a ser <a href=\"https://es.wikipedia.org/wiki/Ortogonalidad_(matem%C3%A1ticas)\">ortogonal</a> si todo los pares de los distintos [vectores](http://es.wikipedia.org/wiki/Vector) en el [conjunto](http://relopezbriega.github.io/blog/2015/10/11/conjuntos-con-python/) son <a href=\"https://es.wikipedia.org/wiki/Ortogonalidad_(matem%C3%A1ticas)\">ortogonales</a> entre sí. O sea:\n",
    "\n",
    "$v_i \\cdot v_j = 0$ para todo $i, j = 1, 2, \\dots, k$ y donde $i \\ne j$.\n",
    "\n",
    "Por ejemplo, si tenemos el siguiente [conjunto](http://relopezbriega.github.io/blog/2015/10/11/conjuntos-con-python/) de [vectores](http://es.wikipedia.org/wiki/Vector) en $\\mathbb{R}^3$:\n",
    "\n",
    "$$v1 = \\begin{bmatrix} 2 \\\\ 1 \\\\ -1\\end{bmatrix} \\ \n",
    "v2 = \\begin{bmatrix} 0 \\\\ 1 \\\\ 1\\end{bmatrix} \\\n",
    "v3 = \\begin{bmatrix} 1 \\\\ -1 \\\\ 1\\end{bmatrix}$$\n",
    "\n",
    "En este caso, deberíamos combrobar que:\n",
    "\n",
    "$$v1 \\cdot v2 = 0 \\\\\n",
    "v2 \\cdot v3 = 0 \\\\\n",
    "v1 \\cdot v3 = 0 $$"
   ]
  },
  {
   "cell_type": "code",
   "execution_count": null,
   "metadata": {
    "colab": {},
    "colab_type": "code",
    "collapsed": false,
    "id": "SmY__Mey_lcX",
    "jupyter": {
     "outputs_hidden": false
    },
    "outputId": "8a8bc360-f7ea-445e-c001-6563b61f7397"
   },
   "outputs": [],
   "source": [
    "# comprobando ortogonalidad del conjunto\n",
    "\n",
    "v1 = np.array([2, 1, -1])\n",
    "v2 = np.array([0, 1, 1])\n",
    "v3 = np.array([1, -1, 1])\n",
    "\n",
    "v1.dot(v2), v2.dot(v3), v1.dot(v3)"
   ]
  },
  {
   "cell_type": "markdown",
   "metadata": {
    "colab_type": "text",
    "id": "bXIvnx-t_lcY"
   },
   "source": [
    "Como vemos, este conjunto es <a href=\"https://es.wikipedia.org/wiki/Ortogonalidad_(matem%C3%A1ticas)\">ortogonal</a>. Una de las principales ventajas de trabajar con [conjuntos](http://relopezbriega.github.io/blog/2015/10/11/conjuntos-con-python/) de [vectores](http://es.wikipedia.org/wiki/Vector) <a href=\"https://es.wikipedia.org/wiki/Ortogonalidad_(matem%C3%A1ticas)\">ortogonales</a> es que los mismos son necesariamente [linealmente independientes](https://es.wikipedia.org/wiki/Dependencia_e_independencia_lineal).\n",
    "\n",
    "El concepto de <a href=\"https://es.wikipedia.org/wiki/Ortogonalidad_(matem%C3%A1ticas)\">ortogonalidad</a> es uno de los más importantes y útiles en [Álgebra lineal](http://relopezbriega.github.io/tag/algebra.html) y surge en muchas situaciones prácticas, sobre todo cuando queremos calcular distancias.\n",
    "\n",
    "## Determinante\n",
    "\n",
    "El <a href=\"https://es.wikipedia.org/wiki/Determinante_(matem%C3%A1tica)\">determinante</a> es un número especial que puede calcularse sobre las [matrices cuadradas](https://es.wikipedia.org/wiki/Matriz_cuadrada). Este número nos va a decir muchas cosas sobre la <a href=\"https://es.wikipedia.org/wiki/Matriz_(matem%C3%A1ticas)\">matriz</a>. Por ejemplo, nos va decir si la <a href=\"https://es.wikipedia.org/wiki/Matriz_(matem%C3%A1ticas)\">matriz</a> es [invertible](https://es.wikipedia.org/wiki/Matriz_invertible) o no. Si el <a href=\"https://es.wikipedia.org/wiki/Determinante_(matem%C3%A1tica)\">determinante</a> es igual a cero, la <a href=\"https://es.wikipedia.org/wiki/Matriz_(matem%C3%A1ticas)\">matriz</a> no es [invertible](https://es.wikipedia.org/wiki/Matriz_invertible). Cuando la <a href=\"https://es.wikipedia.org/wiki/Matriz_(matem%C3%A1ticas)\">matriz</a> es [invertible](https://es.wikipedia.org/wiki/Matriz_invertible), el <a href=\"https://es.wikipedia.org/wiki/Determinante_(matem%C3%A1tica)\">determinante</a> de $A^{-1}= 1/(\\det \\ A)$. El <a href=\"https://es.wikipedia.org/wiki/Determinante_(matem%C3%A1tica)\">determinante</a> también puede ser útil para calcular áreas.\n",
    "\n",
    "Para obtener el <a href=\"https://es.wikipedia.org/wiki/Determinante_(matem%C3%A1tica)\">determinante</a> de una <a href=\"https://es.wikipedia.org/wiki/Matriz_(matem%C3%A1ticas)\">matriz</a> debemos calcular la suma de los productos de las diagonales de la <a href=\"https://es.wikipedia.org/wiki/Matriz_(matem%C3%A1ticas)\">matriz</a> en una dirección menos la suma de los productos de las diagonales en la otra dirección. Se represente con el símbolo $|A|$ o $\\det A$.\n",
    "\n",
    "Algunas de sus propiedades que debemos tener en cuenta son:\n",
    "\n",
    "a. El <a href=\"https://es.wikipedia.org/wiki/Determinante_(matem%C3%A1tica)\">determinante</a> de la [matriz identidad](https://es.wikipedia.org/wiki/Matriz_identidad) es igual a 1. $\\det I = 1$.\n",
    "\n",
    "b. Una <a href=\"https://es.wikipedia.org/wiki/Matriz_(matem%C3%A1ticas)\">matriz</a> $A$ es *singular* (no tiene [inversa](https://es.wikipedia.org/wiki/Matriz_invertible)) si su <a href=\"https://es.wikipedia.org/wiki/Determinante_(matem%C3%A1tica)\">determinante</a> es igual a cero. \n",
    "\n",
    "c. El <a href=\"https://es.wikipedia.org/wiki/Determinante_(matem%C3%A1tica)\">determinante</a> cambia de signo cuando dos columnas(o filas) son intercambiadas.\n",
    "\n",
    "d. Si dos filas de una <a href=\"https://es.wikipedia.org/wiki/Matriz_(matem%C3%A1ticas)\">matriz</a> $A$ son iguales, entonces el <a href=\"https://es.wikipedia.org/wiki/Determinante_(matem%C3%A1tica)\">determinante</a> es cero.\n",
    "\n",
    "e. Si alguna fila de la <a href=\"https://es.wikipedia.org/wiki/Matriz_(matem%C3%A1ticas)\">matriz</a> $A$ son todos ceros, entonces el <a href=\"https://es.wikipedia.org/wiki/Determinante_(matem%C3%A1tica)\">determinante</a> es cero.\n",
    "\n",
    "f. La [matriz transpuesta](http://es.wikipedia.org/wiki/Matriz_transpuesta) $A^T$, tiene el mismo <a href=\"https://es.wikipedia.org/wiki/Determinante_(matem%C3%A1tica)\">determinante</a> que $A$.\n",
    "\n",
    "g. El <a href=\"https://es.wikipedia.org/wiki/Determinante_(matem%C3%A1tica)\">determinante</a> de $AB$ es igual al <a href=\"https://es.wikipedia.org/wiki/Determinante_(matem%C3%A1tica)\">determinante</a> de $A$ multiplicado por el <a href=\"https://es.wikipedia.org/wiki/Determinante_(matem%C3%A1tica)\">determinante</a> de $B$. $\\det (AB) = \\det A \\cdot \\det B$.\n",
    "\n",
    "h. El <a href=\"https://es.wikipedia.org/wiki/Determinante_(matem%C3%A1tica)\">determinante</a> es una [función lineal](https://es.wikipedia.org/wiki/Funci%C3%B3n_lineal) de cada una de las filas en forma separada. Si multiplicamos solo una fila por $\\alpha$, entonces el <a href=\"https://es.wikipedia.org/wiki/Determinante_(matem%C3%A1tica)\">determinante</a> también es multiplicado por $\\alpha$.\n",
    "\n",
    "Veamos como podemos obtener el <a href=\"https://es.wikipedia.org/wiki/Determinante_(matem%C3%A1tica)\">determinante</a> con la ayuda de [Python](http://python.org/)"
   ]
  },
  {
   "cell_type": "code",
   "execution_count": null,
   "metadata": {
    "colab": {},
    "colab_type": "code",
    "collapsed": false,
    "id": "PAunF4dv_lcY",
    "jupyter": {
     "outputs_hidden": false
    },
    "outputId": "364b0c2b-f22c-4bc5-e8b1-79b65f035c0c"
   },
   "outputs": [],
   "source": [
    "# Determinante con sympy\n",
    "A = sympy.Matrix( [[1, 2, 3],\n",
    "                   [2,-2, 4],\n",
    "                   [2, 2, 5]] )\n",
    "A.det()"
   ]
  },
  {
   "cell_type": "code",
   "execution_count": null,
   "metadata": {
    "colab": {},
    "colab_type": "code",
    "collapsed": false,
    "id": "38jY8FUN_lcZ",
    "jupyter": {
     "outputs_hidden": false
    },
    "outputId": "deb017b1-15d5-45c2-c023-fa643c91d1af"
   },
   "outputs": [],
   "source": [
    "# Determinante con numpy\n",
    "A = np.array([[1, 2, 3],\n",
    "              [2,-2, 4],\n",
    "              [2, 2, 5]] )\n",
    "np.linalg.det(A)"
   ]
  },
  {
   "cell_type": "code",
   "execution_count": null,
   "metadata": {},
   "outputs": [],
   "source": [
    "A[0:1]"
   ]
  },
  {
   "cell_type": "code",
   "execution_count": null,
   "metadata": {
    "colab": {},
    "colab_type": "code",
    "collapsed": false,
    "id": "Nxd4NIm5_lca",
    "jupyter": {
     "outputs_hidden": false
    },
    "outputId": "d94d2fa4-29bd-4c71-f697-02df29ee2377"
   },
   "outputs": [],
   "source": [
    "# Determinante como funcion lineal de fila\n",
    "A[0] = A[0:1]*5\n",
    "np.linalg.det(A)"
   ]
  },
  {
   "cell_type": "markdown",
   "metadata": {
    "colab_type": "text",
    "id": "C4yt1Ymx_lcc"
   },
   "source": [
    "*Esta notebook fue creada originalmente como un blog post por [Raúl E. López Briega](http://relopezbriega.com.ar/) en [Mi blog sobre Python](http://relopezbriega.github.io). El contenido esta bajo la licencia BSD.*"
   ]
  },
  {
   "cell_type": "markdown",
   "metadata": {
    "colab_type": "text",
    "id": "YnODQuIE_lcd"
   },
   "source": [
    "\n",
    "*Este post fue escrito utilizando IPython notebook. Pueden descargar este [notebook](https://github.com/relopezbriega/relopezbriega.github.io/blob/master/downloads/LinearAlgebraPython.ipynb) o ver su version estática en [nbviewer](http://nbviewer.ipython.org/github/relopezbriega/relopezbriega.github.io/blob/master/downloads/LinearAlgebraPython.ipynb).*"
   ]
  }
 ],
 "metadata": {
  "colab": {
   "name": "1-Algebra_Lineal.ipynb",
   "provenance": []
  },
  "kernelspec": {
   "display_name": "Python 3",
   "language": "python",
   "name": "python3"
  },
  "language_info": {
   "codemirror_mode": {
    "name": "ipython",
    "version": 3
   },
   "file_extension": ".py",
   "mimetype": "text/x-python",
   "name": "python",
   "nbconvert_exporter": "python",
   "pygments_lexer": "ipython3",
   "version": "3.9.6"
  }
 },
 "nbformat": 4,
 "nbformat_minor": 4
}
