{
 "cells": [
  {
   "cell_type": "markdown",
   "metadata": {},
   "source": [
    "![imagen](./img/ejercicios.png)"
   ]
  },
  {
   "cell_type": "markdown",
   "metadata": {},
   "source": [
    "# INFORMACIÓN DEL PROYECTO"
   ]
  },
  {
   "cell_type": "markdown",
   "metadata": {},
   "source": [
    "### TÍTULO"
   ]
  },
  {
   "cell_type": "code",
   "execution_count": 92,
   "metadata": {},
   "outputs": [],
   "source": [
    "#Escribe el título del proyecto en Markdown\n",
    "titulo = \"Análisis de los patrones de uso de Bikeshare\""
   ]
  },
  {
   "cell_type": "markdown",
   "metadata": {},
   "source": [
    "### TEMA"
   ]
  },
  {
   "cell_type": "markdown",
   "metadata": {},
   "source": [
    "# Describe brevemente el tema del proyecto en Markdown\n",
    "tema = Este proyecto consiste en un análisis general sobre los patrones de uso de Bikeshare, una empresa de bicicletas compartidas en Washington.\n",
    "\n",
    "Se tratarán de identificar los patrones de uso de las biciletas, las rutas más populares, horas pico y valle y duración media de los viajes, y estudiar como los aspectos climáticos pueden afectar a estos patrones de uso, distinguiendo entre tipos de usuario y tipo de bicicleta alquilada."
   ]
  },
  {
   "cell_type": "markdown",
   "metadata": {},
   "source": [
    "### HIPÓTESIS"
   ]
  },
  {
   "cell_type": "markdown",
   "metadata": {},
   "source": [
    "Define aquí lo que será la hipótesis de tu proyecto.\n",
    "Deberás tener más de una, pero tu proyecto lo harás teniendo una principal hipótesis."
   ]
  },
  {
   "cell_type": "markdown",
   "metadata": {},
   "source": [
    "- Influencia de distintas variables climáticas (lluvia, viento, temperatura, etc) en el número de usuarios y distancia de las rutas\n",
    "- Cambios de tendencia dependiendo de la época del año"
   ]
  },
  {
   "cell_type": "markdown",
   "metadata": {},
   "source": [
    "## OBTENCIÓN DE LOS DATOS"
   ]
  },
  {
   "cell_type": "markdown",
   "metadata": {},
   "source": [
    "### DATASETS Y FUENTES ALTERNATIVAS DE DATOS"
   ]
  },
  {
   "cell_type": "markdown",
   "metadata": {},
   "source": [
    "Incluye aquí una vista del dataset o datasets de los que partirás para poder evaluar tu hipótesis. <br>\n",
    "También incluye el origen de estos datos y su fuente."
   ]
  },
  {
   "cell_type": "code",
   "execution_count": 93,
   "metadata": {},
   "outputs": [],
   "source": [
    "import pandas as pd\n",
    "from datetime import datetime\n",
    "# guarda en variables los datasets y su fuente\n",
    "\n",
    "Fuente = 'Kaggle'\n",
    "# df_daily_rents = pd.read_csv('./Bikeshare/daily_rent_detail.csv')\n",
    "df_station_list = pd.read_csv('./Bikeshare/station_list.csv')\n",
    "df_usage_freq = pd.read_csv('./Bikeshare/usage_frequency.csv')\n",
    "df_weather = pd.read_csv('./Bikeshare/weather.csv')"
   ]
  },
  {
   "cell_type": "markdown",
   "metadata": {},
   "source": [
    "Muestra mediante un head() los principales datasets con los que vas a trabajar"
   ]
  },
  {
   "cell_type": "code",
   "execution_count": 94,
   "metadata": {},
   "outputs": [
    {
     "data": {
      "text/html": [
       "<div>\n",
       "<style scoped>\n",
       "    .dataframe tbody tr th:only-of-type {\n",
       "        vertical-align: middle;\n",
       "    }\n",
       "\n",
       "    .dataframe tbody tr th {\n",
       "        vertical-align: top;\n",
       "    }\n",
       "\n",
       "    .dataframe thead th {\n",
       "        text-align: right;\n",
       "    }\n",
       "</style>\n",
       "<table border=\"1\" class=\"dataframe\">\n",
       "  <thead>\n",
       "    <tr style=\"text-align: right;\">\n",
       "      <th></th>\n",
       "      <th>ride_id</th>\n",
       "      <th>rideable_type</th>\n",
       "      <th>started_at</th>\n",
       "      <th>ended_at</th>\n",
       "      <th>start_station_name</th>\n",
       "      <th>start_station_id</th>\n",
       "      <th>end_station_name</th>\n",
       "      <th>end_station_id</th>\n",
       "      <th>start_lat</th>\n",
       "      <th>start_lng</th>\n",
       "      <th>end_lat</th>\n",
       "      <th>end_lng</th>\n",
       "      <th>member_casual</th>\n",
       "    </tr>\n",
       "  </thead>\n",
       "  <tbody>\n",
       "    <tr>\n",
       "      <th>0</th>\n",
       "      <td>946D42AD89539210</td>\n",
       "      <td>docked_bike</td>\n",
       "      <td>2020-05-31 18:25:22</td>\n",
       "      <td>2020-05-31 18:25:22</td>\n",
       "      <td>Anacostia Library</td>\n",
       "      <td>31804</td>\n",
       "      <td>11th &amp; H St NE</td>\n",
       "      <td>31614.0</td>\n",
       "      <td>38.865784</td>\n",
       "      <td>-76.978400</td>\n",
       "      <td>38.899983</td>\n",
       "      <td>-76.991383</td>\n",
       "      <td>casual</td>\n",
       "    </tr>\n",
       "    <tr>\n",
       "      <th>1</th>\n",
       "      <td>CC46FAAB662B8613</td>\n",
       "      <td>docked_bike</td>\n",
       "      <td>2020-05-09 15:06:33</td>\n",
       "      <td>2020-05-09 15:06:33</td>\n",
       "      <td>10th &amp; E St NW</td>\n",
       "      <td>31256</td>\n",
       "      <td>21st St &amp; Constitution Ave NW</td>\n",
       "      <td>31261.0</td>\n",
       "      <td>38.895914</td>\n",
       "      <td>-77.026064</td>\n",
       "      <td>38.892459</td>\n",
       "      <td>-77.046567</td>\n",
       "      <td>member</td>\n",
       "    </tr>\n",
       "    <tr>\n",
       "      <th>2</th>\n",
       "      <td>72F00B2FB833D6ED</td>\n",
       "      <td>docked_bike</td>\n",
       "      <td>2020-05-24 17:43:51</td>\n",
       "      <td>2020-05-24 17:43:51</td>\n",
       "      <td>Connecticut Ave &amp; Newark St NW / Cleveland Park</td>\n",
       "      <td>31305</td>\n",
       "      <td>12th &amp; U St NW</td>\n",
       "      <td>31268.0</td>\n",
       "      <td>38.934267</td>\n",
       "      <td>-77.057979</td>\n",
       "      <td>38.916787</td>\n",
       "      <td>-77.028139</td>\n",
       "      <td>member</td>\n",
       "    </tr>\n",
       "    <tr>\n",
       "      <th>3</th>\n",
       "      <td>4DFBE6AED989DF35</td>\n",
       "      <td>docked_bike</td>\n",
       "      <td>2020-05-27 15:47:13</td>\n",
       "      <td>2020-05-27 15:47:13</td>\n",
       "      <td>Connecticut Ave &amp; Newark St NW / Cleveland Park</td>\n",
       "      <td>31305</td>\n",
       "      <td>14th &amp; Belmont St NW</td>\n",
       "      <td>31119.0</td>\n",
       "      <td>38.934267</td>\n",
       "      <td>-77.057979</td>\n",
       "      <td>38.921074</td>\n",
       "      <td>-77.031887</td>\n",
       "      <td>casual</td>\n",
       "    </tr>\n",
       "    <tr>\n",
       "      <th>4</th>\n",
       "      <td>1AAFE6B4331AB9DF</td>\n",
       "      <td>docked_bike</td>\n",
       "      <td>2020-05-31 14:30:30</td>\n",
       "      <td>2020-05-31 14:30:30</td>\n",
       "      <td>Georgia Ave &amp; Morton St NW</td>\n",
       "      <td>31419</td>\n",
       "      <td>17th &amp; K St NW</td>\n",
       "      <td>31213.0</td>\n",
       "      <td>38.932128</td>\n",
       "      <td>-77.023500</td>\n",
       "      <td>38.902760</td>\n",
       "      <td>-77.038630</td>\n",
       "      <td>casual</td>\n",
       "    </tr>\n",
       "  </tbody>\n",
       "</table>\n",
       "</div>"
      ],
      "text/plain": [
       "            ride_id rideable_type          started_at            ended_at  \\\n",
       "0  946D42AD89539210   docked_bike 2020-05-31 18:25:22 2020-05-31 18:25:22   \n",
       "1  CC46FAAB662B8613   docked_bike 2020-05-09 15:06:33 2020-05-09 15:06:33   \n",
       "2  72F00B2FB833D6ED   docked_bike 2020-05-24 17:43:51 2020-05-24 17:43:51   \n",
       "3  4DFBE6AED989DF35   docked_bike 2020-05-27 15:47:13 2020-05-27 15:47:13   \n",
       "4  1AAFE6B4331AB9DF   docked_bike 2020-05-31 14:30:30 2020-05-31 14:30:30   \n",
       "\n",
       "                                start_station_name start_station_id  \\\n",
       "0                                Anacostia Library            31804   \n",
       "1                                   10th & E St NW            31256   \n",
       "2  Connecticut Ave & Newark St NW / Cleveland Park            31305   \n",
       "3  Connecticut Ave & Newark St NW / Cleveland Park            31305   \n",
       "4                       Georgia Ave & Morton St NW            31419   \n",
       "\n",
       "                end_station_name end_station_id  start_lat  start_lng  \\\n",
       "0                 11th & H St NE        31614.0  38.865784 -76.978400   \n",
       "1  21st St & Constitution Ave NW        31261.0  38.895914 -77.026064   \n",
       "2                 12th & U St NW        31268.0  38.934267 -77.057979   \n",
       "3           14th & Belmont St NW        31119.0  38.934267 -77.057979   \n",
       "4                 17th & K St NW        31213.0  38.932128 -77.023500   \n",
       "\n",
       "     end_lat    end_lng member_casual  \n",
       "0  38.899983 -76.991383        casual  \n",
       "1  38.892459 -77.046567        member  \n",
       "2  38.916787 -77.028139        member  \n",
       "3  38.921074 -77.031887        casual  \n",
       "4  38.902760 -77.038630        casual  "
      ]
     },
     "execution_count": 94,
     "metadata": {},
     "output_type": "execute_result"
    }
   ],
   "source": [
    "# Primer dataset\n",
    "df_daily_rents.head()"
   ]
  },
  {
   "cell_type": "code",
   "execution_count": 95,
   "metadata": {},
   "outputs": [
    {
     "name": "stdout",
     "output_type": "stream",
     "text": [
      "<class 'pandas.core.frame.DataFrame'>\n",
      "RangeIndex: 16086672 entries, 0 to 16086671\n",
      "Data columns (total 13 columns):\n",
      " #   Column              Dtype         \n",
      "---  ------              -----         \n",
      " 0   ride_id             object        \n",
      " 1   rideable_type       object        \n",
      " 2   started_at          datetime64[ns]\n",
      " 3   ended_at            datetime64[ns]\n",
      " 4   start_station_name  object        \n",
      " 5   start_station_id    object        \n",
      " 6   end_station_name    object        \n",
      " 7   end_station_id      object        \n",
      " 8   start_lat           float64       \n",
      " 9   start_lng           float64       \n",
      " 10  end_lat             float64       \n",
      " 11  end_lng             float64       \n",
      " 12  member_casual       object        \n",
      "dtypes: datetime64[ns](2), float64(4), object(7)\n",
      "memory usage: 1.6+ GB\n"
     ]
    }
   ],
   "source": [
    "df_daily_rents.info()"
   ]
  },
  {
   "cell_type": "code",
   "execution_count": 96,
   "metadata": {},
   "outputs": [
    {
     "data": {
      "text/html": [
       "<div>\n",
       "<style scoped>\n",
       "    .dataframe tbody tr th:only-of-type {\n",
       "        vertical-align: middle;\n",
       "    }\n",
       "\n",
       "    .dataframe tbody tr th {\n",
       "        vertical-align: top;\n",
       "    }\n",
       "\n",
       "    .dataframe thead th {\n",
       "        text-align: right;\n",
       "    }\n",
       "</style>\n",
       "<table border=\"1\" class=\"dataframe\">\n",
       "  <thead>\n",
       "    <tr style=\"text-align: right;\">\n",
       "      <th></th>\n",
       "      <th>station_id</th>\n",
       "      <th>station_name</th>\n",
       "    </tr>\n",
       "  </thead>\n",
       "  <tbody>\n",
       "    <tr>\n",
       "      <th>0</th>\n",
       "      <td>30200</td>\n",
       "      <td>9th St &amp; Pennsylvania Ave NW</td>\n",
       "    </tr>\n",
       "    <tr>\n",
       "      <th>1</th>\n",
       "      <td>30201</td>\n",
       "      <td>9th &amp; G St NW</td>\n",
       "    </tr>\n",
       "    <tr>\n",
       "      <th>2</th>\n",
       "      <td>31000</td>\n",
       "      <td>Eads St &amp; 15th St S</td>\n",
       "    </tr>\n",
       "    <tr>\n",
       "      <th>3</th>\n",
       "      <td>31001</td>\n",
       "      <td>18th St &amp; S Eads St</td>\n",
       "    </tr>\n",
       "    <tr>\n",
       "      <th>4</th>\n",
       "      <td>31002</td>\n",
       "      <td>Crystal Dr &amp; 20th St S</td>\n",
       "    </tr>\n",
       "  </tbody>\n",
       "</table>\n",
       "</div>"
      ],
      "text/plain": [
       "   station_id                  station_name\n",
       "0       30200  9th St & Pennsylvania Ave NW\n",
       "1       30201                 9th & G St NW\n",
       "2       31000           Eads St & 15th St S\n",
       "3       31001           18th St & S Eads St\n",
       "4       31002        Crystal Dr & 20th St S"
      ]
     },
     "execution_count": 96,
     "metadata": {},
     "output_type": "execute_result"
    }
   ],
   "source": [
    "# Segundo dataset\n",
    "df_station_list.head()"
   ]
  },
  {
   "cell_type": "code",
   "execution_count": 97,
   "metadata": {},
   "outputs": [
    {
     "name": "stdout",
     "output_type": "stream",
     "text": [
      "<class 'pandas.core.frame.DataFrame'>\n",
      "RangeIndex: 916 entries, 0 to 915\n",
      "Data columns (total 2 columns):\n",
      " #   Column        Non-Null Count  Dtype \n",
      "---  ------        --------------  ----- \n",
      " 0   station_id    916 non-null    int64 \n",
      " 1   station_name  916 non-null    object\n",
      "dtypes: int64(1), object(1)\n",
      "memory usage: 14.4+ KB\n"
     ]
    }
   ],
   "source": [
    "df_station_list.info()"
   ]
  },
  {
   "cell_type": "code",
   "execution_count": 98,
   "metadata": {},
   "outputs": [
    {
     "data": {
      "text/html": [
       "<div>\n",
       "<style scoped>\n",
       "    .dataframe tbody tr th:only-of-type {\n",
       "        vertical-align: middle;\n",
       "    }\n",
       "\n",
       "    .dataframe tbody tr th {\n",
       "        vertical-align: top;\n",
       "    }\n",
       "\n",
       "    .dataframe thead th {\n",
       "        text-align: right;\n",
       "    }\n",
       "</style>\n",
       "<table border=\"1\" class=\"dataframe\">\n",
       "  <thead>\n",
       "    <tr style=\"text-align: right;\">\n",
       "      <th></th>\n",
       "      <th>date</th>\n",
       "      <th>station_name</th>\n",
       "      <th>pickup_counts</th>\n",
       "      <th>dropoff_counts</th>\n",
       "    </tr>\n",
       "  </thead>\n",
       "  <tbody>\n",
       "    <tr>\n",
       "      <th>0</th>\n",
       "      <td>2020-05-01</td>\n",
       "      <td>10th &amp; E St NW</td>\n",
       "      <td>11</td>\n",
       "      <td>7.0</td>\n",
       "    </tr>\n",
       "    <tr>\n",
       "      <th>1</th>\n",
       "      <td>2020-05-01</td>\n",
       "      <td>10th &amp; Florida Ave NW</td>\n",
       "      <td>8</td>\n",
       "      <td>8.0</td>\n",
       "    </tr>\n",
       "    <tr>\n",
       "      <th>2</th>\n",
       "      <td>2020-05-01</td>\n",
       "      <td>10th &amp; G St NW</td>\n",
       "      <td>3</td>\n",
       "      <td>2.0</td>\n",
       "    </tr>\n",
       "    <tr>\n",
       "      <th>3</th>\n",
       "      <td>2020-05-01</td>\n",
       "      <td>10th &amp; K St NW</td>\n",
       "      <td>12</td>\n",
       "      <td>15.0</td>\n",
       "    </tr>\n",
       "    <tr>\n",
       "      <th>4</th>\n",
       "      <td>2020-05-01</td>\n",
       "      <td>10th &amp; Monroe St NE</td>\n",
       "      <td>5</td>\n",
       "      <td>6.0</td>\n",
       "    </tr>\n",
       "  </tbody>\n",
       "</table>\n",
       "</div>"
      ],
      "text/plain": [
       "         date           station_name  pickup_counts  dropoff_counts\n",
       "0  2020-05-01         10th & E St NW             11             7.0\n",
       "1  2020-05-01  10th & Florida Ave NW              8             8.0\n",
       "2  2020-05-01         10th & G St NW              3             2.0\n",
       "3  2020-05-01         10th & K St NW             12            15.0\n",
       "4  2020-05-01    10th & Monroe St NE              5             6.0"
      ]
     },
     "execution_count": 98,
     "metadata": {},
     "output_type": "execute_result"
    }
   ],
   "source": [
    "# Tercer dataset\n",
    "df_usage_freq.head()"
   ]
  },
  {
   "cell_type": "code",
   "execution_count": 99,
   "metadata": {},
   "outputs": [
    {
     "name": "stdout",
     "output_type": "stream",
     "text": [
      "<class 'pandas.core.frame.DataFrame'>\n",
      "RangeIndex: 873318 entries, 0 to 873317\n",
      "Data columns (total 4 columns):\n",
      " #   Column          Non-Null Count   Dtype  \n",
      "---  ------          --------------   -----  \n",
      " 0   date            873318 non-null  object \n",
      " 1   station_name    873318 non-null  object \n",
      " 2   pickup_counts   873318 non-null  int64  \n",
      " 3   dropoff_counts  873318 non-null  float64\n",
      "dtypes: float64(1), int64(1), object(2)\n",
      "memory usage: 26.7+ MB\n"
     ]
    }
   ],
   "source": [
    "df_usage_freq.info()"
   ]
  },
  {
   "cell_type": "code",
   "execution_count": 100,
   "metadata": {},
   "outputs": [
    {
     "name": "stdout",
     "output_type": "stream",
     "text": [
      "date                           2020-05-01\n",
      "station_name       S Scott St & 13th St S\n",
      "pickup_counts                           1\n",
      "dropoff_counts                        0.0\n",
      "dtype: object\n",
      "date                              2024-08-31\n",
      "station_name      Yuma St & Tenley Circle NW\n",
      "pickup_counts                            444\n",
      "dropoff_counts                         460.0\n",
      "dtype: object\n"
     ]
    }
   ],
   "source": [
    "print( df_usage_freq.min())\n",
    "print( df_usage_freq.max())"
   ]
  },
  {
   "cell_type": "code",
   "execution_count": 101,
   "metadata": {},
   "outputs": [
    {
     "name": "stdout",
     "output_type": "stream",
     "text": [
      "<class 'pandas.core.frame.DataFrame'>\n",
      "RangeIndex: 873318 entries, 0 to 873317\n",
      "Data columns (total 4 columns):\n",
      " #   Column          Non-Null Count   Dtype         \n",
      "---  ------          --------------   -----         \n",
      " 0   date            873318 non-null  datetime64[ns]\n",
      " 1   station_name    873318 non-null  object        \n",
      " 2   pickup_counts   873318 non-null  int64         \n",
      " 3   dropoff_counts  873318 non-null  float64       \n",
      "dtypes: datetime64[ns](1), float64(1), int64(1), object(1)\n",
      "memory usage: 26.7+ MB\n"
     ]
    }
   ],
   "source": [
    "df_usage_freq['date'] = pd.to_datetime(df_usage_freq['date'])\n",
    "df_usage_freq.info()"
   ]
  },
  {
   "cell_type": "code",
   "execution_count": 102,
   "metadata": {},
   "outputs": [],
   "source": [
    "df_usage_freq.set_index('date', inplace = True)\n",
    "df_usage_freq_2023 = df_usage_freq.loc['2023']"
   ]
  },
  {
   "cell_type": "code",
   "execution_count": 103,
   "metadata": {},
   "outputs": [
    {
     "data": {
      "text/plain": [
       "DatetimeIndex(['2023-01-01', '2023-01-02', '2023-01-03', '2023-01-04',\n",
       "               '2023-01-05', '2023-01-06', '2023-01-07', '2023-01-08',\n",
       "               '2023-01-09', '2023-01-10',\n",
       "               ...\n",
       "               '2023-12-22', '2023-12-23', '2023-12-24', '2023-12-25',\n",
       "               '2023-12-26', '2023-12-27', '2023-12-28', '2023-12-29',\n",
       "               '2023-12-30', '2023-12-31'],\n",
       "              dtype='datetime64[ns]', name='date', length=365, freq=None)"
      ]
     },
     "execution_count": 103,
     "metadata": {},
     "output_type": "execute_result"
    }
   ],
   "source": [
    "df_usage_freq_2023.index.unique()               # Comprobamos que hay datos para todos los días de 2023"
   ]
  },
  {
   "cell_type": "code",
   "execution_count": 104,
   "metadata": {},
   "outputs": [
    {
     "name": "stdout",
     "output_type": "stream",
     "text": [
      "<class 'pandas.core.frame.DataFrame'>\n",
      "DatetimeIndex: 219469 entries, 2023-01-01 to 2023-12-31\n",
      "Data columns (total 3 columns):\n",
      " #   Column          Non-Null Count   Dtype  \n",
      "---  ------          --------------   -----  \n",
      " 0   station_name    219469 non-null  object \n",
      " 1   pickup_counts   219469 non-null  int64  \n",
      " 2   dropoff_counts  219469 non-null  float64\n",
      "dtypes: float64(1), int64(1), object(1)\n",
      "memory usage: 14.8+ MB\n"
     ]
    }
   ],
   "source": [
    "df_usage_freq_2023.info()"
   ]
  },
  {
   "cell_type": "code",
   "execution_count": 105,
   "metadata": {},
   "outputs": [
    {
     "data": {
      "text/html": [
       "<div>\n",
       "<style scoped>\n",
       "    .dataframe tbody tr th:only-of-type {\n",
       "        vertical-align: middle;\n",
       "    }\n",
       "\n",
       "    .dataframe tbody tr th {\n",
       "        vertical-align: top;\n",
       "    }\n",
       "\n",
       "    .dataframe thead th {\n",
       "        text-align: right;\n",
       "    }\n",
       "</style>\n",
       "<table border=\"1\" class=\"dataframe\">\n",
       "  <thead>\n",
       "    <tr style=\"text-align: right;\">\n",
       "      <th></th>\n",
       "      <th>name</th>\n",
       "      <th>datetime</th>\n",
       "      <th>tempmax</th>\n",
       "      <th>tempmin</th>\n",
       "      <th>temp</th>\n",
       "      <th>feelslikemax</th>\n",
       "      <th>feelslikemin</th>\n",
       "      <th>feelslike</th>\n",
       "      <th>dew</th>\n",
       "      <th>humidity</th>\n",
       "      <th>...</th>\n",
       "      <th>solarenergy</th>\n",
       "      <th>uvindex</th>\n",
       "      <th>severerisk</th>\n",
       "      <th>sunrise</th>\n",
       "      <th>sunset</th>\n",
       "      <th>moonphase</th>\n",
       "      <th>conditions</th>\n",
       "      <th>description</th>\n",
       "      <th>icon</th>\n",
       "      <th>stations</th>\n",
       "    </tr>\n",
       "  </thead>\n",
       "  <tbody>\n",
       "    <tr>\n",
       "      <th>0</th>\n",
       "      <td>Washington,DC,USA</td>\n",
       "      <td>2020-05-01</td>\n",
       "      <td>18.8</td>\n",
       "      <td>11.6</td>\n",
       "      <td>14.9</td>\n",
       "      <td>18.8</td>\n",
       "      <td>11.6</td>\n",
       "      <td>14.9</td>\n",
       "      <td>8.9</td>\n",
       "      <td>69.6</td>\n",
       "      <td>...</td>\n",
       "      <td>9.5</td>\n",
       "      <td>6</td>\n",
       "      <td>NaN</td>\n",
       "      <td>2020-05-01T06:09:41</td>\n",
       "      <td>2020-05-01T20:01:16</td>\n",
       "      <td>0.30</td>\n",
       "      <td>Rain, Partially cloudy</td>\n",
       "      <td>Partly cloudy throughout the day with rain cle...</td>\n",
       "      <td>rain</td>\n",
       "      <td>KDCA,72405013743,72403793728,F0198,KADW,KDAA,7...</td>\n",
       "    </tr>\n",
       "    <tr>\n",
       "      <th>1</th>\n",
       "      <td>Washington,DC,USA</td>\n",
       "      <td>2020-05-02</td>\n",
       "      <td>22.1</td>\n",
       "      <td>11.1</td>\n",
       "      <td>16.3</td>\n",
       "      <td>22.1</td>\n",
       "      <td>11.1</td>\n",
       "      <td>16.3</td>\n",
       "      <td>6.4</td>\n",
       "      <td>54.0</td>\n",
       "      <td>...</td>\n",
       "      <td>14.0</td>\n",
       "      <td>9</td>\n",
       "      <td>NaN</td>\n",
       "      <td>2020-05-02T06:08:30</td>\n",
       "      <td>2020-05-02T20:02:13</td>\n",
       "      <td>0.33</td>\n",
       "      <td>Partially cloudy</td>\n",
       "      <td>Partly cloudy throughout the day.</td>\n",
       "      <td>partly-cloudy-day</td>\n",
       "      <td>KDCA,72405013743,72403793728,F0198,KGAI,KADW,K...</td>\n",
       "    </tr>\n",
       "    <tr>\n",
       "      <th>2</th>\n",
       "      <td>Washington,DC,USA</td>\n",
       "      <td>2020-05-03</td>\n",
       "      <td>24.9</td>\n",
       "      <td>15.6</td>\n",
       "      <td>18.6</td>\n",
       "      <td>24.9</td>\n",
       "      <td>15.6</td>\n",
       "      <td>18.6</td>\n",
       "      <td>13.4</td>\n",
       "      <td>72.5</td>\n",
       "      <td>...</td>\n",
       "      <td>5.7</td>\n",
       "      <td>4</td>\n",
       "      <td>NaN</td>\n",
       "      <td>2020-05-03T06:07:21</td>\n",
       "      <td>2020-05-03T20:03:11</td>\n",
       "      <td>0.37</td>\n",
       "      <td>Rain, Partially cloudy</td>\n",
       "      <td>Partly cloudy throughout the day with rain.</td>\n",
       "      <td>rain</td>\n",
       "      <td>KDCA,72405013743,72403793728,F0198,KADW,KDAA,7...</td>\n",
       "    </tr>\n",
       "    <tr>\n",
       "      <th>3</th>\n",
       "      <td>Washington,DC,USA</td>\n",
       "      <td>2020-05-04</td>\n",
       "      <td>23.8</td>\n",
       "      <td>14.3</td>\n",
       "      <td>19.2</td>\n",
       "      <td>23.8</td>\n",
       "      <td>14.3</td>\n",
       "      <td>19.2</td>\n",
       "      <td>7.8</td>\n",
       "      <td>53.8</td>\n",
       "      <td>...</td>\n",
       "      <td>13.3</td>\n",
       "      <td>8</td>\n",
       "      <td>NaN</td>\n",
       "      <td>2020-05-04T06:06:12</td>\n",
       "      <td>2020-05-04T20:04:08</td>\n",
       "      <td>0.40</td>\n",
       "      <td>Rain, Partially cloudy</td>\n",
       "      <td>Clearing in the afternoon with early morning r...</td>\n",
       "      <td>rain</td>\n",
       "      <td>KDCA,72405013743,72403793728,F0198,KADW,KDAA,7...</td>\n",
       "    </tr>\n",
       "    <tr>\n",
       "      <th>4</th>\n",
       "      <td>Washington,DC,USA</td>\n",
       "      <td>2020-05-05</td>\n",
       "      <td>14.3</td>\n",
       "      <td>9.3</td>\n",
       "      <td>12.3</td>\n",
       "      <td>14.3</td>\n",
       "      <td>8.0</td>\n",
       "      <td>12.1</td>\n",
       "      <td>3.3</td>\n",
       "      <td>55.6</td>\n",
       "      <td>...</td>\n",
       "      <td>5.0</td>\n",
       "      <td>2</td>\n",
       "      <td>NaN</td>\n",
       "      <td>2020-05-05T06:05:06</td>\n",
       "      <td>2020-05-05T20:05:05</td>\n",
       "      <td>0.44</td>\n",
       "      <td>Rain, Partially cloudy</td>\n",
       "      <td>Partly cloudy throughout the day with late aft...</td>\n",
       "      <td>rain</td>\n",
       "      <td>KIAD,KDCA,72405013743,72403793728,72403093738,...</td>\n",
       "    </tr>\n",
       "  </tbody>\n",
       "</table>\n",
       "<p>5 rows × 33 columns</p>\n",
       "</div>"
      ],
      "text/plain": [
       "                name    datetime  tempmax  tempmin  temp  feelslikemax  \\\n",
       "0  Washington,DC,USA  2020-05-01     18.8     11.6  14.9          18.8   \n",
       "1  Washington,DC,USA  2020-05-02     22.1     11.1  16.3          22.1   \n",
       "2  Washington,DC,USA  2020-05-03     24.9     15.6  18.6          24.9   \n",
       "3  Washington,DC,USA  2020-05-04     23.8     14.3  19.2          23.8   \n",
       "4  Washington,DC,USA  2020-05-05     14.3      9.3  12.3          14.3   \n",
       "\n",
       "   feelslikemin  feelslike   dew  humidity  ...  solarenergy  uvindex  \\\n",
       "0          11.6       14.9   8.9      69.6  ...          9.5        6   \n",
       "1          11.1       16.3   6.4      54.0  ...         14.0        9   \n",
       "2          15.6       18.6  13.4      72.5  ...          5.7        4   \n",
       "3          14.3       19.2   7.8      53.8  ...         13.3        8   \n",
       "4           8.0       12.1   3.3      55.6  ...          5.0        2   \n",
       "\n",
       "   severerisk              sunrise               sunset  moonphase  \\\n",
       "0         NaN  2020-05-01T06:09:41  2020-05-01T20:01:16       0.30   \n",
       "1         NaN  2020-05-02T06:08:30  2020-05-02T20:02:13       0.33   \n",
       "2         NaN  2020-05-03T06:07:21  2020-05-03T20:03:11       0.37   \n",
       "3         NaN  2020-05-04T06:06:12  2020-05-04T20:04:08       0.40   \n",
       "4         NaN  2020-05-05T06:05:06  2020-05-05T20:05:05       0.44   \n",
       "\n",
       "               conditions                                        description  \\\n",
       "0  Rain, Partially cloudy  Partly cloudy throughout the day with rain cle...   \n",
       "1        Partially cloudy                  Partly cloudy throughout the day.   \n",
       "2  Rain, Partially cloudy        Partly cloudy throughout the day with rain.   \n",
       "3  Rain, Partially cloudy  Clearing in the afternoon with early morning r...   \n",
       "4  Rain, Partially cloudy  Partly cloudy throughout the day with late aft...   \n",
       "\n",
       "                icon                                           stations  \n",
       "0               rain  KDCA,72405013743,72403793728,F0198,KADW,KDAA,7...  \n",
       "1  partly-cloudy-day  KDCA,72405013743,72403793728,F0198,KGAI,KADW,K...  \n",
       "2               rain  KDCA,72405013743,72403793728,F0198,KADW,KDAA,7...  \n",
       "3               rain  KDCA,72405013743,72403793728,F0198,KADW,KDAA,7...  \n",
       "4               rain  KIAD,KDCA,72405013743,72403793728,72403093738,...  \n",
       "\n",
       "[5 rows x 33 columns]"
      ]
     },
     "execution_count": 105,
     "metadata": {},
     "output_type": "execute_result"
    }
   ],
   "source": [
    "# Cuarto dataset\n",
    "df_weather.head()"
   ]
  },
  {
   "cell_type": "code",
   "execution_count": 106,
   "metadata": {},
   "outputs": [
    {
     "name": "stdout",
     "output_type": "stream",
     "text": [
      "<class 'pandas.core.frame.DataFrame'>\n",
      "RangeIndex: 1584 entries, 0 to 1583\n",
      "Data columns (total 33 columns):\n",
      " #   Column            Non-Null Count  Dtype  \n",
      "---  ------            --------------  -----  \n",
      " 0   name              1584 non-null   object \n",
      " 1   datetime          1584 non-null   object \n",
      " 2   tempmax           1584 non-null   float64\n",
      " 3   tempmin           1584 non-null   float64\n",
      " 4   temp              1584 non-null   float64\n",
      " 5   feelslikemax      1584 non-null   float64\n",
      " 6   feelslikemin      1584 non-null   float64\n",
      " 7   feelslike         1584 non-null   float64\n",
      " 8   dew               1584 non-null   float64\n",
      " 9   humidity          1584 non-null   float64\n",
      " 10  precip            1584 non-null   float64\n",
      " 11  precipprob        1584 non-null   int64  \n",
      " 12  precipcover       1584 non-null   float64\n",
      " 13  preciptype        757 non-null    object \n",
      " 14  snow              1584 non-null   float64\n",
      " 15  snowdepth         1584 non-null   float64\n",
      " 16  windgust          1584 non-null   float64\n",
      " 17  windspeed         1584 non-null   float64\n",
      " 18  winddir           1584 non-null   float64\n",
      " 19  sealevelpressure  1584 non-null   float64\n",
      " 20  cloudcover        1584 non-null   float64\n",
      " 21  visibility        1584 non-null   float64\n",
      " 22  solarradiation    1584 non-null   float64\n",
      " 23  solarenergy       1584 non-null   float64\n",
      " 24  uvindex           1584 non-null   int64  \n",
      " 25  severerisk        965 non-null    float64\n",
      " 26  sunrise           1584 non-null   object \n",
      " 27  sunset            1584 non-null   object \n",
      " 28  moonphase         1584 non-null   float64\n",
      " 29  conditions        1584 non-null   object \n",
      " 30  description       1584 non-null   object \n",
      " 31  icon              1584 non-null   object \n",
      " 32  stations          1584 non-null   object \n",
      "dtypes: float64(22), int64(2), object(9)\n",
      "memory usage: 408.5+ KB\n"
     ]
    }
   ],
   "source": [
    "df_weather.info()"
   ]
  },
  {
   "cell_type": "code",
   "execution_count": 107,
   "metadata": {},
   "outputs": [
    {
     "name": "stdout",
     "output_type": "stream",
     "text": [
      "<class 'pandas.core.frame.DataFrame'>\n",
      "DatetimeIndex: 1584 entries, 2020-05-01 to 2024-08-31\n",
      "Data columns (total 32 columns):\n",
      " #   Column            Non-Null Count  Dtype  \n",
      "---  ------            --------------  -----  \n",
      " 0   name              1584 non-null   object \n",
      " 1   tempmax           1584 non-null   float64\n",
      " 2   tempmin           1584 non-null   float64\n",
      " 3   temp              1584 non-null   float64\n",
      " 4   feelslikemax      1584 non-null   float64\n",
      " 5   feelslikemin      1584 non-null   float64\n",
      " 6   feelslike         1584 non-null   float64\n",
      " 7   dew               1584 non-null   float64\n",
      " 8   humidity          1584 non-null   float64\n",
      " 9   precip            1584 non-null   float64\n",
      " 10  precipprob        1584 non-null   int64  \n",
      " 11  precipcover       1584 non-null   float64\n",
      " 12  preciptype        757 non-null    object \n",
      " 13  snow              1584 non-null   float64\n",
      " 14  snowdepth         1584 non-null   float64\n",
      " 15  windgust          1584 non-null   float64\n",
      " 16  windspeed         1584 non-null   float64\n",
      " 17  winddir           1584 non-null   float64\n",
      " 18  sealevelpressure  1584 non-null   float64\n",
      " 19  cloudcover        1584 non-null   float64\n",
      " 20  visibility        1584 non-null   float64\n",
      " 21  solarradiation    1584 non-null   float64\n",
      " 22  solarenergy       1584 non-null   float64\n",
      " 23  uvindex           1584 non-null   int64  \n",
      " 24  severerisk        965 non-null    float64\n",
      " 25  sunrise           1584 non-null   object \n",
      " 26  sunset            1584 non-null   object \n",
      " 27  moonphase         1584 non-null   float64\n",
      " 28  conditions        1584 non-null   object \n",
      " 29  description       1584 non-null   object \n",
      " 30  icon              1584 non-null   object \n",
      " 31  stations          1584 non-null   object \n",
      "dtypes: float64(22), int64(2), object(8)\n",
      "memory usage: 408.4+ KB\n"
     ]
    }
   ],
   "source": [
    "df_weather['datetime'] =  pd.to_datetime(df_weather['datetime'])\n",
    "df_weather.set_index('datetime', inplace = True)\n",
    "df_weather.info()"
   ]
  },
  {
   "cell_type": "code",
   "execution_count": 108,
   "metadata": {},
   "outputs": [
    {
     "data": {
      "text/plain": [
       "DatetimeIndex(['2023-01-01', '2023-01-02', '2023-01-03', '2023-01-04',\n",
       "               '2023-01-05', '2023-01-06', '2023-01-07', '2023-01-08',\n",
       "               '2023-01-09', '2023-01-10',\n",
       "               ...\n",
       "               '2023-12-22', '2023-12-23', '2023-12-24', '2023-12-25',\n",
       "               '2023-12-26', '2023-12-27', '2023-12-28', '2023-12-29',\n",
       "               '2023-12-30', '2023-12-31'],\n",
       "              dtype='datetime64[ns]', name='datetime', length=365, freq=None)"
      ]
     },
     "execution_count": 108,
     "metadata": {},
     "output_type": "execute_result"
    }
   ],
   "source": [
    "df_weather_2023 = df_weather.loc['2023']\n",
    "df_weather_2023.index.unique()                  # Comprobamos que hay datos de tiempo para los 365 dias de 2023"
   ]
  },
  {
   "cell_type": "code",
   "execution_count": 109,
   "metadata": {},
   "outputs": [
    {
     "name": "stdout",
     "output_type": "stream",
     "text": [
      "<class 'pandas.core.frame.DataFrame'>\n",
      "DatetimeIndex: 365 entries, 2023-01-01 to 2023-12-31\n",
      "Data columns (total 32 columns):\n",
      " #   Column            Non-Null Count  Dtype  \n",
      "---  ------            --------------  -----  \n",
      " 0   name              365 non-null    object \n",
      " 1   tempmax           365 non-null    float64\n",
      " 2   tempmin           365 non-null    float64\n",
      " 3   temp              365 non-null    float64\n",
      " 4   feelslikemax      365 non-null    float64\n",
      " 5   feelslikemin      365 non-null    float64\n",
      " 6   feelslike         365 non-null    float64\n",
      " 7   dew               365 non-null    float64\n",
      " 8   humidity          365 non-null    float64\n",
      " 9   precip            365 non-null    float64\n",
      " 10  precipprob        365 non-null    int64  \n",
      " 11  precipcover       365 non-null    float64\n",
      " 12  preciptype        179 non-null    object \n",
      " 13  snow              365 non-null    float64\n",
      " 14  snowdepth         365 non-null    float64\n",
      " 15  windgust          365 non-null    float64\n",
      " 16  windspeed         365 non-null    float64\n",
      " 17  winddir           365 non-null    float64\n",
      " 18  sealevelpressure  365 non-null    float64\n",
      " 19  cloudcover        365 non-null    float64\n",
      " 20  visibility        365 non-null    float64\n",
      " 21  solarradiation    365 non-null    float64\n",
      " 22  solarenergy       365 non-null    float64\n",
      " 23  uvindex           365 non-null    int64  \n",
      " 24  severerisk        365 non-null    float64\n",
      " 25  sunrise           365 non-null    object \n",
      " 26  sunset            365 non-null    object \n",
      " 27  moonphase         365 non-null    float64\n",
      " 28  conditions        365 non-null    object \n",
      " 29  description       365 non-null    object \n",
      " 30  icon              365 non-null    object \n",
      " 31  stations          365 non-null    object \n",
      "dtypes: float64(22), int64(2), object(8)\n",
      "memory usage: 94.1+ KB\n"
     ]
    }
   ],
   "source": [
    "df_weather_2023.info()"
   ]
  },
  {
   "cell_type": "code",
   "execution_count": null,
   "metadata": {},
   "outputs": [],
   "source": []
  },
  {
   "cell_type": "code",
   "execution_count": 115,
   "metadata": {},
   "outputs": [
    {
     "name": "stderr",
     "output_type": "stream",
     "text": [
      "/var/folders/7j/lfytp_zn1p3gd9v7k7jvgk340000gn/T/ipykernel_51166/462725113.py:1: DtypeWarning: Columns (5,7) have mixed types. Specify dtype option on import or set low_memory=False.\n",
      "  df_daily_rents = pd.read_csv('./Bikeshare/daily_rent_detail_completo.csv')\n"
     ]
    }
   ],
   "source": [
    "df_daily_rents = pd.read_csv('./Bikeshare/daily_rent_detail_completo.csv')"
   ]
  },
  {
   "cell_type": "code",
   "execution_count": 116,
   "metadata": {},
   "outputs": [
    {
     "data": {
      "text/html": [
       "<div>\n",
       "<style scoped>\n",
       "    .dataframe tbody tr th:only-of-type {\n",
       "        vertical-align: middle;\n",
       "    }\n",
       "\n",
       "    .dataframe tbody tr th {\n",
       "        vertical-align: top;\n",
       "    }\n",
       "\n",
       "    .dataframe thead th {\n",
       "        text-align: right;\n",
       "    }\n",
       "</style>\n",
       "<table border=\"1\" class=\"dataframe\">\n",
       "  <thead>\n",
       "    <tr style=\"text-align: right;\">\n",
       "      <th></th>\n",
       "      <th>ride_id</th>\n",
       "      <th>rideable_type</th>\n",
       "      <th>started_at</th>\n",
       "      <th>ended_at</th>\n",
       "      <th>start_station_name</th>\n",
       "      <th>start_station_id</th>\n",
       "      <th>end_station_name</th>\n",
       "      <th>end_station_id</th>\n",
       "      <th>start_lat</th>\n",
       "      <th>start_lng</th>\n",
       "      <th>end_lat</th>\n",
       "      <th>end_lng</th>\n",
       "      <th>member_casual</th>\n",
       "    </tr>\n",
       "  </thead>\n",
       "  <tbody>\n",
       "    <tr>\n",
       "      <th>0</th>\n",
       "      <td>946D42AD89539210</td>\n",
       "      <td>docked_bike</td>\n",
       "      <td>2020-05-30 17:25:29</td>\n",
       "      <td>2020-05-31 18:25:22</td>\n",
       "      <td>Anacostia Library</td>\n",
       "      <td>31804</td>\n",
       "      <td>11th &amp; H St NE</td>\n",
       "      <td>31614.0</td>\n",
       "      <td>38.865784</td>\n",
       "      <td>-76.978400</td>\n",
       "      <td>38.899983</td>\n",
       "      <td>-76.991383</td>\n",
       "      <td>casual</td>\n",
       "    </tr>\n",
       "    <tr>\n",
       "      <th>1</th>\n",
       "      <td>CC46FAAB662B8613</td>\n",
       "      <td>docked_bike</td>\n",
       "      <td>2020-05-09 14:42:04</td>\n",
       "      <td>2020-05-09 15:06:33</td>\n",
       "      <td>10th &amp; E St NW</td>\n",
       "      <td>31256</td>\n",
       "      <td>21st St &amp; Constitution Ave NW</td>\n",
       "      <td>31261.0</td>\n",
       "      <td>38.895914</td>\n",
       "      <td>-77.026064</td>\n",
       "      <td>38.892459</td>\n",
       "      <td>-77.046567</td>\n",
       "      <td>member</td>\n",
       "    </tr>\n",
       "    <tr>\n",
       "      <th>2</th>\n",
       "      <td>72F00B2FB833D6ED</td>\n",
       "      <td>docked_bike</td>\n",
       "      <td>2020-05-24 17:27:19</td>\n",
       "      <td>2020-05-24 17:43:51</td>\n",
       "      <td>Connecticut Ave &amp; Newark St NW / Cleveland Park</td>\n",
       "      <td>31305</td>\n",
       "      <td>12th &amp; U St NW</td>\n",
       "      <td>31268.0</td>\n",
       "      <td>38.934267</td>\n",
       "      <td>-77.057979</td>\n",
       "      <td>38.916787</td>\n",
       "      <td>-77.028139</td>\n",
       "      <td>member</td>\n",
       "    </tr>\n",
       "    <tr>\n",
       "      <th>3</th>\n",
       "      <td>4DFBE6AED989DF35</td>\n",
       "      <td>docked_bike</td>\n",
       "      <td>2020-05-27 15:29:52</td>\n",
       "      <td>2020-05-27 15:47:13</td>\n",
       "      <td>Connecticut Ave &amp; Newark St NW / Cleveland Park</td>\n",
       "      <td>31305</td>\n",
       "      <td>14th &amp; Belmont St NW</td>\n",
       "      <td>31119.0</td>\n",
       "      <td>38.934267</td>\n",
       "      <td>-77.057979</td>\n",
       "      <td>38.921074</td>\n",
       "      <td>-77.031887</td>\n",
       "      <td>casual</td>\n",
       "    </tr>\n",
       "    <tr>\n",
       "      <th>4</th>\n",
       "      <td>1AAFE6B4331AB9DF</td>\n",
       "      <td>docked_bike</td>\n",
       "      <td>2020-05-31 14:06:03</td>\n",
       "      <td>2020-05-31 14:30:30</td>\n",
       "      <td>Georgia Ave &amp; Morton St NW</td>\n",
       "      <td>31419</td>\n",
       "      <td>17th &amp; K St NW</td>\n",
       "      <td>31213.0</td>\n",
       "      <td>38.932128</td>\n",
       "      <td>-77.023500</td>\n",
       "      <td>38.902760</td>\n",
       "      <td>-77.038630</td>\n",
       "      <td>casual</td>\n",
       "    </tr>\n",
       "  </tbody>\n",
       "</table>\n",
       "</div>"
      ],
      "text/plain": [
       "            ride_id rideable_type           started_at             ended_at  \\\n",
       "0  946D42AD89539210   docked_bike  2020-05-30 17:25:29  2020-05-31 18:25:22   \n",
       "1  CC46FAAB662B8613   docked_bike  2020-05-09 14:42:04  2020-05-09 15:06:33   \n",
       "2  72F00B2FB833D6ED   docked_bike  2020-05-24 17:27:19  2020-05-24 17:43:51   \n",
       "3  4DFBE6AED989DF35   docked_bike  2020-05-27 15:29:52  2020-05-27 15:47:13   \n",
       "4  1AAFE6B4331AB9DF   docked_bike  2020-05-31 14:06:03  2020-05-31 14:30:30   \n",
       "\n",
       "                                start_station_name start_station_id  \\\n",
       "0                                Anacostia Library            31804   \n",
       "1                                   10th & E St NW            31256   \n",
       "2  Connecticut Ave & Newark St NW / Cleveland Park            31305   \n",
       "3  Connecticut Ave & Newark St NW / Cleveland Park            31305   \n",
       "4                       Georgia Ave & Morton St NW            31419   \n",
       "\n",
       "                end_station_name end_station_id  start_lat  start_lng  \\\n",
       "0                 11th & H St NE        31614.0  38.865784 -76.978400   \n",
       "1  21st St & Constitution Ave NW        31261.0  38.895914 -77.026064   \n",
       "2                 12th & U St NW        31268.0  38.934267 -77.057979   \n",
       "3           14th & Belmont St NW        31119.0  38.934267 -77.057979   \n",
       "4                 17th & K St NW        31213.0  38.932128 -77.023500   \n",
       "\n",
       "     end_lat    end_lng member_casual  \n",
       "0  38.899983 -76.991383        casual  \n",
       "1  38.892459 -77.046567        member  \n",
       "2  38.916787 -77.028139        member  \n",
       "3  38.921074 -77.031887        casual  \n",
       "4  38.902760 -77.038630        casual  "
      ]
     },
     "execution_count": 116,
     "metadata": {},
     "output_type": "execute_result"
    }
   ],
   "source": [
    "df_daily_rents.head()"
   ]
  },
  {
   "cell_type": "code",
   "execution_count": 117,
   "metadata": {},
   "outputs": [
    {
     "name": "stdout",
     "output_type": "stream",
     "text": [
      "<class 'pandas.core.frame.DataFrame'>\n",
      "RangeIndex: 16086672 entries, 0 to 16086671\n",
      "Data columns (total 13 columns):\n",
      " #   Column              Dtype  \n",
      "---  ------              -----  \n",
      " 0   ride_id             object \n",
      " 1   rideable_type       object \n",
      " 2   started_at          object \n",
      " 3   ended_at            object \n",
      " 4   start_station_name  object \n",
      " 5   start_station_id    object \n",
      " 6   end_station_name    object \n",
      " 7   end_station_id      object \n",
      " 8   start_lat           float64\n",
      " 9   start_lng           float64\n",
      " 10  end_lat             float64\n",
      " 11  end_lng             float64\n",
      " 12  member_casual       object \n",
      "dtypes: float64(4), object(9)\n",
      "memory usage: 1.6+ GB\n"
     ]
    }
   ],
   "source": [
    "df_daily_rents.info()"
   ]
  },
  {
   "cell_type": "code",
   "execution_count": 118,
   "metadata": {},
   "outputs": [
    {
     "name": "stdout",
     "output_type": "stream",
     "text": [
      "2020-05-01 00:02:02\n",
      "2024-08-31 23:57:12.743\n"
     ]
    }
   ],
   "source": [
    "print(df_daily_rents['started_at'].min())\n",
    "print(df_daily_rents['started_at'].max())"
   ]
  },
  {
   "cell_type": "code",
   "execution_count": 119,
   "metadata": {},
   "outputs": [],
   "source": [
    "df_daily_rents['started_at'] = pd.to_datetime(df_daily_rents['started_at'], errors =  'coerce')\n",
    "df_daily_rents['ended_at'] = pd.to_datetime(df_daily_rents['ended_at'], errors =  'coerce')"
   ]
  },
  {
   "cell_type": "code",
   "execution_count": 120,
   "metadata": {},
   "outputs": [
    {
     "name": "stdout",
     "output_type": "stream",
     "text": [
      "<class 'pandas.core.frame.DataFrame'>\n",
      "RangeIndex: 16086672 entries, 0 to 16086671\n",
      "Data columns (total 13 columns):\n",
      " #   Column              Dtype         \n",
      "---  ------              -----         \n",
      " 0   ride_id             object        \n",
      " 1   rideable_type       object        \n",
      " 2   started_at          datetime64[ns]\n",
      " 3   ended_at            datetime64[ns]\n",
      " 4   start_station_name  object        \n",
      " 5   start_station_id    object        \n",
      " 6   end_station_name    object        \n",
      " 7   end_station_id      object        \n",
      " 8   start_lat           float64       \n",
      " 9   start_lng           float64       \n",
      " 10  end_lat             float64       \n",
      " 11  end_lng             float64       \n",
      " 12  member_casual       object        \n",
      "dtypes: datetime64[ns](2), float64(4), object(7)\n",
      "memory usage: 1.6+ GB\n"
     ]
    }
   ],
   "source": [
    "df_daily_rents.info()"
   ]
  },
  {
   "cell_type": "code",
   "execution_count": 121,
   "metadata": {},
   "outputs": [
    {
     "data": {
      "text/html": [
       "<div>\n",
       "<style scoped>\n",
       "    .dataframe tbody tr th:only-of-type {\n",
       "        vertical-align: middle;\n",
       "    }\n",
       "\n",
       "    .dataframe tbody tr th {\n",
       "        vertical-align: top;\n",
       "    }\n",
       "\n",
       "    .dataframe thead th {\n",
       "        text-align: right;\n",
       "    }\n",
       "</style>\n",
       "<table border=\"1\" class=\"dataframe\">\n",
       "  <thead>\n",
       "    <tr style=\"text-align: right;\">\n",
       "      <th></th>\n",
       "      <th>ride_id</th>\n",
       "      <th>rideable_type</th>\n",
       "      <th>started_at</th>\n",
       "      <th>ended_at</th>\n",
       "      <th>start_station_name</th>\n",
       "      <th>start_station_id</th>\n",
       "      <th>end_station_name</th>\n",
       "      <th>end_station_id</th>\n",
       "      <th>start_lat</th>\n",
       "      <th>start_lng</th>\n",
       "      <th>end_lat</th>\n",
       "      <th>end_lng</th>\n",
       "      <th>member_casual</th>\n",
       "    </tr>\n",
       "  </thead>\n",
       "  <tbody>\n",
       "    <tr>\n",
       "      <th>7830706</th>\n",
       "      <td>65F0ACD101BF0D49</td>\n",
       "      <td>classic_bike</td>\n",
       "      <td>2023-01-04 19:34:07</td>\n",
       "      <td>2023-01-04 19:39:29</td>\n",
       "      <td>East Falls Church Metro / Sycamore St &amp; 19th St N</td>\n",
       "      <td>31904.0</td>\n",
       "      <td>W Columbia St &amp; N Washington St</td>\n",
       "      <td>32609.0</td>\n",
       "      <td>38.885321</td>\n",
       "      <td>-77.156427</td>\n",
       "      <td>38.885621</td>\n",
       "      <td>-77.166917</td>\n",
       "      <td>member</td>\n",
       "    </tr>\n",
       "    <tr>\n",
       "      <th>7830707</th>\n",
       "      <td>D75158CE73DC43F0</td>\n",
       "      <td>classic_bike</td>\n",
       "      <td>2023-01-27 15:26:38</td>\n",
       "      <td>2023-01-27 19:21:36</td>\n",
       "      <td>Carroll &amp; Westmoreland Ave</td>\n",
       "      <td>32025.0</td>\n",
       "      <td>Fenton St &amp; Ellsworth Dr</td>\n",
       "      <td>32036.0</td>\n",
       "      <td>38.975000</td>\n",
       "      <td>-77.011210</td>\n",
       "      <td>38.997033</td>\n",
       "      <td>-77.025608</td>\n",
       "      <td>member</td>\n",
       "    </tr>\n",
       "    <tr>\n",
       "      <th>7830708</th>\n",
       "      <td>33E85889625FF7CA</td>\n",
       "      <td>classic_bike</td>\n",
       "      <td>2023-01-05 20:44:38</td>\n",
       "      <td>2023-01-05 20:51:18</td>\n",
       "      <td>15th &amp; L St NW</td>\n",
       "      <td>31276.0</td>\n",
       "      <td>Thomas Circle</td>\n",
       "      <td>31241.0</td>\n",
       "      <td>38.903649</td>\n",
       "      <td>-77.034918</td>\n",
       "      <td>38.905900</td>\n",
       "      <td>-77.032500</td>\n",
       "      <td>member</td>\n",
       "    </tr>\n",
       "    <tr>\n",
       "      <th>7830709</th>\n",
       "      <td>E1F055A1651F47A1</td>\n",
       "      <td>classic_bike</td>\n",
       "      <td>2023-01-03 17:45:14</td>\n",
       "      <td>2023-01-03 17:57:23</td>\n",
       "      <td>Hartland Rd &amp; Harte Pl</td>\n",
       "      <td>32255.0</td>\n",
       "      <td>Merrifield Cinema &amp; Merrifield Town Center</td>\n",
       "      <td>32235.0</td>\n",
       "      <td>38.878601</td>\n",
       "      <td>-77.222808</td>\n",
       "      <td>38.870093</td>\n",
       "      <td>-77.229970</td>\n",
       "      <td>member</td>\n",
       "    </tr>\n",
       "    <tr>\n",
       "      <th>7830710</th>\n",
       "      <td>88CC90CEEC298BAF</td>\n",
       "      <td>classic_bike</td>\n",
       "      <td>2023-01-03 05:18:46</td>\n",
       "      <td>2023-01-03 05:25:50</td>\n",
       "      <td>Merrifield Cinema &amp; Merrifield Town Center</td>\n",
       "      <td>32235.0</td>\n",
       "      <td>Hartland Rd &amp; Harte Pl</td>\n",
       "      <td>32255.0</td>\n",
       "      <td>38.870093</td>\n",
       "      <td>-77.229970</td>\n",
       "      <td>38.878601</td>\n",
       "      <td>-77.222808</td>\n",
       "      <td>member</td>\n",
       "    </tr>\n",
       "  </tbody>\n",
       "</table>\n",
       "</div>"
      ],
      "text/plain": [
       "                  ride_id rideable_type          started_at  \\\n",
       "7830706  65F0ACD101BF0D49  classic_bike 2023-01-04 19:34:07   \n",
       "7830707  D75158CE73DC43F0  classic_bike 2023-01-27 15:26:38   \n",
       "7830708  33E85889625FF7CA  classic_bike 2023-01-05 20:44:38   \n",
       "7830709  E1F055A1651F47A1  classic_bike 2023-01-03 17:45:14   \n",
       "7830710  88CC90CEEC298BAF  classic_bike 2023-01-03 05:18:46   \n",
       "\n",
       "                   ended_at  \\\n",
       "7830706 2023-01-04 19:39:29   \n",
       "7830707 2023-01-27 19:21:36   \n",
       "7830708 2023-01-05 20:51:18   \n",
       "7830709 2023-01-03 17:57:23   \n",
       "7830710 2023-01-03 05:25:50   \n",
       "\n",
       "                                        start_station_name start_station_id  \\\n",
       "7830706  East Falls Church Metro / Sycamore St & 19th St N          31904.0   \n",
       "7830707                         Carroll & Westmoreland Ave          32025.0   \n",
       "7830708                                     15th & L St NW          31276.0   \n",
       "7830709                             Hartland Rd & Harte Pl          32255.0   \n",
       "7830710         Merrifield Cinema & Merrifield Town Center          32235.0   \n",
       "\n",
       "                                   end_station_name end_station_id  start_lat  \\\n",
       "7830706             W Columbia St & N Washington St        32609.0  38.885321   \n",
       "7830707                   Fenton St & Ellsworth Dr         32036.0  38.975000   \n",
       "7830708                               Thomas Circle        31241.0  38.903649   \n",
       "7830709  Merrifield Cinema & Merrifield Town Center        32235.0  38.878601   \n",
       "7830710                      Hartland Rd & Harte Pl        32255.0  38.870093   \n",
       "\n",
       "         start_lng    end_lat    end_lng member_casual  \n",
       "7830706 -77.156427  38.885621 -77.166917        member  \n",
       "7830707 -77.011210  38.997033 -77.025608        member  \n",
       "7830708 -77.034918  38.905900 -77.032500        member  \n",
       "7830709 -77.222808  38.870093 -77.229970        member  \n",
       "7830710 -77.229970  38.878601 -77.222808        member  "
      ]
     },
     "execution_count": 121,
     "metadata": {},
     "output_type": "execute_result"
    }
   ],
   "source": [
    "df_daily_rents_2023 = df_daily_rents[(df_daily_rents['started_at'].dt.year == 2023) & (df_daily_rents['ended_at'].dt.year == 2023)]\n",
    "df_daily_rents_2023.head()"
   ]
  },
  {
   "cell_type": "code",
   "execution_count": 122,
   "metadata": {},
   "outputs": [
    {
     "name": "stdout",
     "output_type": "stream",
     "text": [
      "<class 'pandas.core.frame.DataFrame'>\n",
      "Index: 4467275 entries, 7830706 to 12298039\n",
      "Data columns (total 13 columns):\n",
      " #   Column              Dtype         \n",
      "---  ------              -----         \n",
      " 0   ride_id             object        \n",
      " 1   rideable_type       object        \n",
      " 2   started_at          datetime64[ns]\n",
      " 3   ended_at            datetime64[ns]\n",
      " 4   start_station_name  object        \n",
      " 5   start_station_id    object        \n",
      " 6   end_station_name    object        \n",
      " 7   end_station_id      object        \n",
      " 8   start_lat           float64       \n",
      " 9   start_lng           float64       \n",
      " 10  end_lat             float64       \n",
      " 11  end_lng             float64       \n",
      " 12  member_casual       object        \n",
      "dtypes: datetime64[ns](2), float64(4), object(7)\n",
      "memory usage: 477.2+ MB\n"
     ]
    }
   ],
   "source": [
    "df_daily_rents_2023.info()"
   ]
  },
  {
   "cell_type": "code",
   "execution_count": 123,
   "metadata": {},
   "outputs": [
    {
     "name": "stdout",
     "output_type": "stream",
     "text": [
      "2023-01-01 00:00:03\n",
      "2023-12-31 23:56:51\n"
     ]
    }
   ],
   "source": [
    "print(df_daily_rents_2023['started_at'].min())\n",
    "print(df_daily_rents_2023['started_at'].max())"
   ]
  },
  {
   "cell_type": "code",
   "execution_count": 124,
   "metadata": {},
   "outputs": [],
   "source": [
    "df_daily_rents_2023.to_csv('df_daily_rents_2023.csv',index=False, encoding='utf-8')"
   ]
  },
  {
   "cell_type": "code",
   "execution_count": null,
   "metadata": {},
   "outputs": [],
   "source": []
  }
 ],
 "metadata": {
  "kernelspec": {
   "display_name": "Python 3",
   "language": "python",
   "name": "python3"
  },
  "language_info": {
   "codemirror_mode": {
    "name": "ipython",
    "version": 3
   },
   "file_extension": ".py",
   "mimetype": "text/x-python",
   "name": "python",
   "nbconvert_exporter": "python",
   "pygments_lexer": "ipython3",
   "version": "3.9.6"
  },
  "orig_nbformat": 4
 },
 "nbformat": 4,
 "nbformat_minor": 2
}
